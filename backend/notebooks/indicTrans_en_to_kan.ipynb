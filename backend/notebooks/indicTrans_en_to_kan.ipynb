{
 "cells": [
  {
   "cell_type": "code",
   "execution_count": 5,
   "metadata": {
    "colab": {
     "base_uri": "https://localhost:8080/"
    },
    "id": "P0uptOB6U7GW",
    "outputId": "988c867e-76ee-4a54-a232-e69abbc5c3db"
   },
   "outputs": [
    {
     "name": "stdout",
     "output_type": "stream",
     "text": [
      "/mnt/d/Documents/virtual-companion/backend/notebooks/testing\n"
     ]
    }
   ],
   "source": [
    "# create a seperate folder to store everything\n",
    "!mkdir testing\n",
    "%cd testing"
   ]
  },
  {
   "cell_type": "code",
   "execution_count": 6,
   "metadata": {
    "colab": {
     "base_uri": "https://localhost:8080/"
    },
    "id": "kQFRiLtSalzt",
    "outputId": "03070c7c-8299-46bf-de56-df09c3213a3f",
    "scrolled": true
   },
   "outputs": [
    {
     "name": "stdout",
     "output_type": "stream",
     "text": [
      "Cloning into 'indicTrans'...\n",
      "remote: Enumerating objects: 697, done.\u001b[K\n",
      "remote: Counting objects: 100% (400/400), done.\u001b[K\n",
      "remote: Compressing objects: 100% (159/159), done.\u001b[K\n",
      "remote: Total 697 (delta 278), reused 343 (delta 239), pack-reused 297\u001b[K\n",
      "Receiving objects: 100% (697/697), 2.64 MiB | 932.00 KiB/s, done.\n",
      "Resolving deltas: 100% (405/405), done.\n",
      "/mnt/d/Documents/virtual-companion/backend/notebooks/testing/indicTrans\n",
      "Cloning into 'indic_nlp_library'...\n",
      "remote: Enumerating objects: 1370, done.\u001b[K\n",
      "remote: Counting objects: 100% (151/151), done.\u001b[K\n",
      "remote: Compressing objects: 100% (53/53), done.\u001b[K\n",
      "remote: Total 1370 (delta 114), reused 104 (delta 95), pack-reused 1219\u001b[K\n",
      "Receiving objects: 100% (1370/1370), 9.56 MiB | 424.00 KiB/s, done.\n",
      "Resolving deltas: 100% (724/724), done.\n",
      "Cloning into 'indic_nlp_resources'...\n",
      "remote: Enumerating objects: 139, done.\u001b[K\n",
      "remote: Counting objects: 100% (13/13), done.\u001b[K\n",
      "remote: Compressing objects: 100% (13/13), done.\u001b[K\n",
      "remote: Total 139 (delta 2), reused 2 (delta 0), pack-reused 126\u001b[K\n",
      "Receiving objects: 100% (139/139), 149.77 MiB | 941.00 KiB/s, done.\n",
      "Resolving deltas: 100% (53/53), done.\n",
      "Updating files: 100% (28/28), done.\n",
      "Cloning into 'subword-nmt'...\n",
      "remote: Enumerating objects: 597, done.\u001b[K\n",
      "remote: Counting objects: 100% (21/21), done.\u001b[K\n",
      "remote: Compressing objects: 100% (17/17), done.\u001b[K\n",
      "remote: Total 597 (delta 8), reused 12 (delta 4), pack-reused 576\u001b[K\n",
      "Receiving objects: 100% (597/597), 252.23 KiB | 2.45 MiB/s, done.\n",
      "Resolving deltas: 100% (357/357), done.\n",
      "/mnt/d/Documents/virtual-companion/backend/notebooks/testing\n"
     ]
    }
   ],
   "source": [
    "# clone the repo for running evaluation\n",
    "!git clone https://github.com/AI4Bharat/indicTrans.git\n",
    "%cd indicTrans\n",
    "# clone requirements repositories\n",
    "!git clone https://github.com/anoopkunchukuttan/indic_nlp_library.git\n",
    "!git clone https://github.com/anoopkunchukuttan/indic_nlp_resources.git\n",
    "!git clone https://github.com/rsennrich/subword-nmt.git\n",
    "%cd .."
   ]
  },
  {
   "cell_type": "code",
   "execution_count": 1,
   "metadata": {
    "colab": {
     "base_uri": "https://localhost:8080/"
    },
    "id": "FHUQGCACVvVf",
    "outputId": "67c7c3a0-f8bf-46a2-8214-e36556df989b"
   },
   "outputs": [
    {
     "name": "stdout",
     "output_type": "stream",
     "text": [
      "\u001b[33mWARNING: Ignoring invalid distribution -orch (/mnt/d/Documents/virtual-companion/backend/venv/lib/python3.10/site-packages)\u001b[0m\u001b[33m\n",
      "\u001b[0m\u001b[33mWARNING: Ignoring invalid distribution -orch (/mnt/d/Documents/virtual-companion/backend/venv/lib/python3.10/site-packages)\u001b[0m\u001b[33m\n",
      "\u001b[0mRequirement already satisfied: sacremoses in /mnt/d/Documents/virtual-companion/backend/venv/lib/python3.10/site-packages (0.0.53)\n",
      "Requirement already satisfied: pandas in /mnt/d/Documents/virtual-companion/backend/venv/lib/python3.10/site-packages (1.5.2)\n",
      "Requirement already satisfied: mock in /mnt/d/Documents/virtual-companion/backend/venv/lib/python3.10/site-packages (5.0.1)\n",
      "Requirement already satisfied: sacrebleu in /mnt/d/Documents/virtual-companion/backend/venv/lib/python3.10/site-packages (2.3.1)\n",
      "Requirement already satisfied: tensorboardX in /mnt/d/Documents/virtual-companion/backend/venv/lib/python3.10/site-packages (2.6)\n",
      "Requirement already satisfied: pyarrow in /mnt/d/Documents/virtual-companion/backend/venv/lib/python3.10/site-packages (11.0.0)\n",
      "Requirement already satisfied: indic-nlp-library in /mnt/d/Documents/virtual-companion/backend/venv/lib/python3.10/site-packages (0.91)\n",
      "Requirement already satisfied: tqdm in /mnt/d/Documents/virtual-companion/backend/venv/lib/python3.10/site-packages (from sacremoses) (4.62.3)\n",
      "Requirement already satisfied: regex in /mnt/d/Documents/virtual-companion/backend/venv/lib/python3.10/site-packages (from sacremoses) (2022.10.31)\n",
      "Requirement already satisfied: click in /mnt/d/Documents/virtual-companion/backend/venv/lib/python3.10/site-packages (from sacremoses) (8.1.3)\n",
      "Requirement already satisfied: joblib in /mnt/d/Documents/virtual-companion/backend/venv/lib/python3.10/site-packages (from sacremoses) (1.2.0)\n",
      "Requirement already satisfied: six in /mnt/d/Documents/virtual-companion/backend/venv/lib/python3.10/site-packages (from sacremoses) (1.16.0)\n",
      "Requirement already satisfied: python-dateutil>=2.8.1 in /mnt/d/Documents/virtual-companion/backend/venv/lib/python3.10/site-packages (from pandas) (2.8.2)\n",
      "Requirement already satisfied: pytz>=2020.1 in /mnt/d/Documents/virtual-companion/backend/venv/lib/python3.10/site-packages (from pandas) (2022.7)\n",
      "Requirement already satisfied: numpy>=1.21.0 in /mnt/d/Documents/virtual-companion/backend/venv/lib/python3.10/site-packages (from pandas) (1.24.1)\n",
      "Requirement already satisfied: lxml in /mnt/d/Documents/virtual-companion/backend/venv/lib/python3.10/site-packages (from sacrebleu) (4.9.2)\n",
      "Requirement already satisfied: colorama in /mnt/d/Documents/virtual-companion/backend/venv/lib/python3.10/site-packages (from sacrebleu) (0.4.6)\n",
      "Requirement already satisfied: tabulate>=0.8.9 in /mnt/d/Documents/virtual-companion/backend/venv/lib/python3.10/site-packages (from sacrebleu) (0.9.0)\n",
      "Requirement already satisfied: portalocker in /mnt/d/Documents/virtual-companion/backend/venv/lib/python3.10/site-packages (from sacrebleu) (2.7.0)\n",
      "Requirement already satisfied: packaging in /mnt/d/Documents/virtual-companion/backend/venv/lib/python3.10/site-packages (from tensorboardX) (22.0)\n",
      "Requirement already satisfied: protobuf<4,>=3.8.0 in /mnt/d/Documents/virtual-companion/backend/venv/lib/python3.10/site-packages (from tensorboardX) (3.20.3)\n",
      "Requirement already satisfied: morfessor in /mnt/d/Documents/virtual-companion/backend/venv/lib/python3.10/site-packages (from indic-nlp-library) (2.0.6)\n",
      "Requirement already satisfied: sphinx-rtd-theme in /mnt/d/Documents/virtual-companion/backend/venv/lib/python3.10/site-packages (from indic-nlp-library) (1.2.0)\n",
      "Requirement already satisfied: sphinx-argparse in /mnt/d/Documents/virtual-companion/backend/venv/lib/python3.10/site-packages (from indic-nlp-library) (0.4.0)\n",
      "Requirement already satisfied: sphinx>=1.2.0 in /mnt/d/Documents/virtual-companion/backend/venv/lib/python3.10/site-packages (from sphinx-argparse->indic-nlp-library) (2.2.2)\n",
      "Requirement already satisfied: docutils<0.19 in /mnt/d/Documents/virtual-companion/backend/venv/lib/python3.10/site-packages (from sphinx-rtd-theme->indic-nlp-library) (0.15.2)\n",
      "Requirement already satisfied: sphinxcontrib-jquery!=3.0.0,>=2.0.0 in /mnt/d/Documents/virtual-companion/backend/venv/lib/python3.10/site-packages (from sphinx-rtd-theme->indic-nlp-library) (2.0.0)\n",
      "Requirement already satisfied: sphinxcontrib-serializinghtml in /mnt/d/Documents/virtual-companion/backend/venv/lib/python3.10/site-packages (from sphinx>=1.2.0->sphinx-argparse->indic-nlp-library) (1.1.5)\n",
      "Requirement already satisfied: Jinja2>=2.3 in /mnt/d/Documents/virtual-companion/backend/venv/lib/python3.10/site-packages (from sphinx>=1.2.0->sphinx-argparse->indic-nlp-library) (3.1.2)\n",
      "Requirement already satisfied: Pygments>=2.0 in /mnt/d/Documents/virtual-companion/backend/venv/lib/python3.10/site-packages (from sphinx>=1.2.0->sphinx-argparse->indic-nlp-library) (2.14.0)\n",
      "Requirement already satisfied: sphinxcontrib-jsmath in /mnt/d/Documents/virtual-companion/backend/venv/lib/python3.10/site-packages (from sphinx>=1.2.0->sphinx-argparse->indic-nlp-library) (1.0.1)\n",
      "Requirement already satisfied: requests>=2.5.0 in /mnt/d/Documents/virtual-companion/backend/venv/lib/python3.10/site-packages (from sphinx>=1.2.0->sphinx-argparse->indic-nlp-library) (2.28.1)\n",
      "Requirement already satisfied: snowballstemmer>=1.1 in /mnt/d/Documents/virtual-companion/backend/venv/lib/python3.10/site-packages (from sphinx>=1.2.0->sphinx-argparse->indic-nlp-library) (2.2.0)\n",
      "Requirement already satisfied: alabaster<0.8,>=0.7 in /mnt/d/Documents/virtual-companion/backend/venv/lib/python3.10/site-packages (from sphinx>=1.2.0->sphinx-argparse->indic-nlp-library) (0.7.13)\n",
      "Requirement already satisfied: sphinxcontrib-applehelp in /mnt/d/Documents/virtual-companion/backend/venv/lib/python3.10/site-packages (from sphinx>=1.2.0->sphinx-argparse->indic-nlp-library) (1.0.4)\n",
      "Requirement already satisfied: imagesize in /mnt/d/Documents/virtual-companion/backend/venv/lib/python3.10/site-packages (from sphinx>=1.2.0->sphinx-argparse->indic-nlp-library) (1.4.1)\n",
      "Requirement already satisfied: sphinxcontrib-devhelp in /mnt/d/Documents/virtual-companion/backend/venv/lib/python3.10/site-packages (from sphinx>=1.2.0->sphinx-argparse->indic-nlp-library) (1.0.2)\n",
      "Requirement already satisfied: sphinxcontrib-qthelp in /mnt/d/Documents/virtual-companion/backend/venv/lib/python3.10/site-packages (from sphinx>=1.2.0->sphinx-argparse->indic-nlp-library) (1.0.3)\n",
      "Requirement already satisfied: sphinxcontrib-htmlhelp in /mnt/d/Documents/virtual-companion/backend/venv/lib/python3.10/site-packages (from sphinx>=1.2.0->sphinx-argparse->indic-nlp-library) (2.0.1)\n",
      "Requirement already satisfied: setuptools in /mnt/d/Documents/virtual-companion/backend/venv/lib/python3.10/site-packages (from sphinx>=1.2.0->sphinx-argparse->indic-nlp-library) (65.6.3)\n",
      "Requirement already satisfied: babel!=2.0,>=1.3 in /mnt/d/Documents/virtual-companion/backend/venv/lib/python3.10/site-packages (from sphinx>=1.2.0->sphinx-argparse->indic-nlp-library) (2.12.1)\n",
      "Requirement already satisfied: MarkupSafe>=2.0 in /mnt/d/Documents/virtual-companion/backend/venv/lib/python3.10/site-packages (from Jinja2>=2.3->sphinx>=1.2.0->sphinx-argparse->indic-nlp-library) (2.1.1)\n",
      "Requirement already satisfied: idna<4,>=2.5 in /mnt/d/Documents/virtual-companion/backend/venv/lib/python3.10/site-packages (from requests>=2.5.0->sphinx>=1.2.0->sphinx-argparse->indic-nlp-library) (3.4)\n",
      "Requirement already satisfied: certifi>=2017.4.17 in /mnt/d/Documents/virtual-companion/backend/venv/lib/python3.10/site-packages (from requests>=2.5.0->sphinx>=1.2.0->sphinx-argparse->indic-nlp-library) (2022.12.7)\n",
      "Requirement already satisfied: charset-normalizer<3,>=2 in /mnt/d/Documents/virtual-companion/backend/venv/lib/python3.10/site-packages (from requests>=2.5.0->sphinx>=1.2.0->sphinx-argparse->indic-nlp-library) (2.1.1)\n",
      "Requirement already satisfied: urllib3<1.27,>=1.21.1 in /mnt/d/Documents/virtual-companion/backend/venv/lib/python3.10/site-packages (from requests>=2.5.0->sphinx>=1.2.0->sphinx-argparse->indic-nlp-library) (1.26.13)\n",
      "\u001b[33mWARNING: Ignoring invalid distribution -orch (/mnt/d/Documents/virtual-companion/backend/venv/lib/python3.10/site-packages)\u001b[0m\u001b[33m\n"
     ]
    },
    {
     "name": "stdout",
     "output_type": "stream",
     "text": [
      "\u001b[0m\u001b[33mWARNING: Ignoring invalid distribution -orch (/mnt/d/Documents/virtual-companion/backend/venv/lib/python3.10/site-packages)\u001b[0m\u001b[33m\n",
      "\u001b[0m\u001b[33mWARNING: Ignoring invalid distribution -orch (/mnt/d/Documents/virtual-companion/backend/venv/lib/python3.10/site-packages)\u001b[0m\u001b[33m\n",
      "\u001b[0m\u001b[33mWARNING: Ignoring invalid distribution -orch (/mnt/d/Documents/virtual-companion/backend/venv/lib/python3.10/site-packages)\u001b[0m\u001b[33m\n",
      "\u001b[0m\n",
      "\u001b[1m[\u001b[0m\u001b[34;49mnotice\u001b[0m\u001b[1;39;49m]\u001b[0m\u001b[39;49m A new release of pip available: \u001b[0m\u001b[31;49m22.3.1\u001b[0m\u001b[39;49m -> \u001b[0m\u001b[32;49m23.1.2\u001b[0m\n",
      "\u001b[1m[\u001b[0m\u001b[34;49mnotice\u001b[0m\u001b[1;39;49m]\u001b[0m\u001b[39;49m To update, run: \u001b[0m\u001b[32;49mpip install --upgrade pip\u001b[0m\n",
      "Cloning into 'fairseq'...\n",
      "remote: Enumerating objects: 34742, done.\u001b[K\n",
      "remote: Counting objects: 100% (199/199), done.\u001b[K\n",
      "remote: Compressing objects: 100% (119/119), done.\u001b[K\n",
      "remote: Total 34742 (delta 101), reused 152 (delta 74), pack-reused 34543\u001b[K\n",
      "Receiving objects: 100% (34742/34742), 25.01 MiB | 907.00 KiB/s, done.\n",
      "Resolving deltas: 100% (25193/25193), done.\n",
      "Updating files: 100% (1595/1595), done.\n",
      "/mnt/d/Documents/virtual-companion/backend/notebooks/fairseq\n",
      "\u001b[33mWARNING: Ignoring invalid distribution -orch (/mnt/d/Documents/virtual-companion/backend/venv/lib/python3.10/site-packages)\u001b[0m\u001b[33m\n",
      "\u001b[0m\u001b[33mWARNING: Ignoring invalid distribution -orch (/mnt/d/Documents/virtual-companion/backend/venv/lib/python3.10/site-packages)\u001b[0m\u001b[33m\n",
      "\u001b[0mProcessing /mnt/d/Documents/virtual-companion/backend/notebooks/fairseq\n",
      "  Installing build dependencies ... \u001b[?25ldone\n",
      "\u001b[?25h  Getting requirements to build wheel ... \u001b[?25ldone\n",
      "\u001b[?25h  Preparing metadata (pyproject.toml) ... \u001b[?25ldone\n",
      "\u001b[?25hRequirement already satisfied: numpy>=1.21.3 in /mnt/d/Documents/virtual-companion/backend/venv/lib/python3.10/site-packages (from fairseq==0.12.2) (1.24.1)\n",
      "Requirement already satisfied: regex in /mnt/d/Documents/virtual-companion/backend/venv/lib/python3.10/site-packages (from fairseq==0.12.2) (2022.10.31)\n",
      "Collecting torchaudio>=0.8.0\n",
      "  Using cached torchaudio-2.0.2-cp310-cp310-manylinux1_x86_64.whl (4.4 MB)\n",
      "Requirement already satisfied: tqdm in /mnt/d/Documents/virtual-companion/backend/venv/lib/python3.10/site-packages (from fairseq==0.12.2) (4.62.3)\n",
      "Collecting cython\n",
      "  Using cached Cython-0.29.35-cp310-cp310-manylinux_2_17_x86_64.manylinux2014_x86_64.manylinux_2_24_x86_64.whl (1.9 MB)\n",
      "Requirement already satisfied: sacrebleu>=1.4.12 in /mnt/d/Documents/virtual-companion/backend/venv/lib/python3.10/site-packages (from fairseq==0.12.2) (2.3.1)\n",
      "Requirement already satisfied: cffi in /mnt/d/Documents/virtual-companion/backend/venv/lib/python3.10/site-packages (from fairseq==0.12.2) (1.15.1)\n",
      "Requirement already satisfied: packaging in /mnt/d/Documents/virtual-companion/backend/venv/lib/python3.10/site-packages (from fairseq==0.12.2) (22.0)\n",
      "Collecting omegaconf<2.1\n",
      "  Using cached omegaconf-2.0.6-py3-none-any.whl (36 kB)\n",
      "Requirement already satisfied: scikit-learn in /mnt/d/Documents/virtual-companion/backend/venv/lib/python3.10/site-packages (from fairseq==0.12.2) (1.2.0)\n",
      "Collecting bitarray\n",
      "  Using cached bitarray-2.7.5-cp310-cp310-manylinux_2_17_x86_64.manylinux2014_x86_64.whl (273 kB)\n",
      "Collecting hydra-core<1.1,>=1.0.7\n",
      "  Using cached hydra_core-1.0.7-py3-none-any.whl (123 kB)\n",
      "Requirement already satisfied: torch>=1.13 in /mnt/d/Documents/virtual-companion/backend/venv/lib/python3.10/site-packages (from fairseq==0.12.2) (2.0.0)\n",
      "Collecting antlr4-python3-runtime==4.8\n",
      "  Using cached antlr4-python3-runtime-4.8.tar.gz (112 kB)\n",
      "  Preparing metadata (setup.py) ... \u001b[?25ldone\n",
      "\u001b[?25hRequirement already satisfied: typing-extensions in /mnt/d/Documents/virtual-companion/backend/venv/lib/python3.10/site-packages (from omegaconf<2.1->fairseq==0.12.2) (4.4.0)\n",
      "Requirement already satisfied: PyYAML>=5.1.* in /mnt/d/Documents/virtual-companion/backend/venv/lib/python3.10/site-packages (from omegaconf<2.1->fairseq==0.12.2) (6.0)\n",
      "Requirement already satisfied: colorama in /mnt/d/Documents/virtual-companion/backend/venv/lib/python3.10/site-packages (from sacrebleu>=1.4.12->fairseq==0.12.2) (0.4.6)\n",
      "Requirement already satisfied: lxml in /mnt/d/Documents/virtual-companion/backend/venv/lib/python3.10/site-packages (from sacrebleu>=1.4.12->fairseq==0.12.2) (4.9.2)\n",
      "Requirement already satisfied: tabulate>=0.8.9 in /mnt/d/Documents/virtual-companion/backend/venv/lib/python3.10/site-packages (from sacrebleu>=1.4.12->fairseq==0.12.2) (0.9.0)\n",
      "Requirement already satisfied: portalocker in /mnt/d/Documents/virtual-companion/backend/venv/lib/python3.10/site-packages (from sacrebleu>=1.4.12->fairseq==0.12.2) (2.7.0)\n",
      "Requirement already satisfied: nvidia-cusolver-cu11==11.4.0.1 in /mnt/d/Documents/virtual-companion/backend/venv/lib/python3.10/site-packages (from torch>=1.13->fairseq==0.12.2) (11.4.0.1)\n",
      "Requirement already satisfied: filelock in /mnt/d/Documents/virtual-companion/backend/venv/lib/python3.10/site-packages (from torch>=1.13->fairseq==0.12.2) (3.9.0)\n",
      "Requirement already satisfied: nvidia-cuda-cupti-cu11==11.7.101 in /mnt/d/Documents/virtual-companion/backend/venv/lib/python3.10/site-packages (from torch>=1.13->fairseq==0.12.2) (11.7.101)\n",
      "Requirement already satisfied: nvidia-nccl-cu11==2.14.3 in /mnt/d/Documents/virtual-companion/backend/venv/lib/python3.10/site-packages (from torch>=1.13->fairseq==0.12.2) (2.14.3)\n",
      "Requirement already satisfied: nvidia-nvtx-cu11==11.7.91 in /mnt/d/Documents/virtual-companion/backend/venv/lib/python3.10/site-packages (from torch>=1.13->fairseq==0.12.2) (11.7.91)\n",
      "Requirement already satisfied: nvidia-cufft-cu11==10.9.0.58 in /mnt/d/Documents/virtual-companion/backend/venv/lib/python3.10/site-packages (from torch>=1.13->fairseq==0.12.2) (10.9.0.58)\n",
      "Requirement already satisfied: jinja2 in /mnt/d/Documents/virtual-companion/backend/venv/lib/python3.10/site-packages (from torch>=1.13->fairseq==0.12.2) (3.1.2)\n",
      "Requirement already satisfied: triton==2.0.0 in /mnt/d/Documents/virtual-companion/backend/venv/lib/python3.10/site-packages (from torch>=1.13->fairseq==0.12.2) (2.0.0)\n",
      "Requirement already satisfied: nvidia-curand-cu11==10.2.10.91 in /mnt/d/Documents/virtual-companion/backend/venv/lib/python3.10/site-packages (from torch>=1.13->fairseq==0.12.2) (10.2.10.91)\n",
      "Requirement already satisfied: networkx in /mnt/d/Documents/virtual-companion/backend/venv/lib/python3.10/site-packages (from torch>=1.13->fairseq==0.12.2) (3.1)\n",
      "Requirement already satisfied: nvidia-cudnn-cu11==8.5.0.96 in /mnt/d/Documents/virtual-companion/backend/venv/lib/python3.10/site-packages (from torch>=1.13->fairseq==0.12.2) (8.5.0.96)\n",
      "Requirement already satisfied: sympy in /mnt/d/Documents/virtual-companion/backend/venv/lib/python3.10/site-packages (from torch>=1.13->fairseq==0.12.2) (1.11.1)\n",
      "Requirement already satisfied: nvidia-cublas-cu11==11.10.3.66 in /mnt/d/Documents/virtual-companion/backend/venv/lib/python3.10/site-packages (from torch>=1.13->fairseq==0.12.2) (11.10.3.66)\n",
      "Requirement already satisfied: nvidia-cuda-nvrtc-cu11==11.7.99 in /mnt/d/Documents/virtual-companion/backend/venv/lib/python3.10/site-packages (from torch>=1.13->fairseq==0.12.2) (11.7.99)\n",
      "Requirement already satisfied: nvidia-cuda-runtime-cu11==11.7.99 in /mnt/d/Documents/virtual-companion/backend/venv/lib/python3.10/site-packages (from torch>=1.13->fairseq==0.12.2) (11.7.99)\n",
      "Requirement already satisfied: nvidia-cusparse-cu11==11.7.4.91 in /mnt/d/Documents/virtual-companion/backend/venv/lib/python3.10/site-packages (from torch>=1.13->fairseq==0.12.2) (11.7.4.91)\n",
      "Requirement already satisfied: setuptools in /mnt/d/Documents/virtual-companion/backend/venv/lib/python3.10/site-packages (from nvidia-cublas-cu11==11.10.3.66->torch>=1.13->fairseq==0.12.2) (65.6.3)\n",
      "Requirement already satisfied: wheel in /mnt/d/Documents/virtual-companion/backend/venv/lib/python3.10/site-packages (from nvidia-cublas-cu11==11.10.3.66->torch>=1.13->fairseq==0.12.2) (0.38.4)\n",
      "Requirement already satisfied: lit in /mnt/d/Documents/virtual-companion/backend/venv/lib/python3.10/site-packages (from triton==2.0.0->torch>=1.13->fairseq==0.12.2) (16.0.1)\n",
      "Requirement already satisfied: cmake in /mnt/d/Documents/virtual-companion/backend/venv/lib/python3.10/site-packages (from triton==2.0.0->torch>=1.13->fairseq==0.12.2) (3.26.3)\n"
     ]
    },
    {
     "name": "stdout",
     "output_type": "stream",
     "text": [
      "Collecting torch>=1.13\n",
      "  Using cached torch-2.0.1-cp310-cp310-manylinux1_x86_64.whl (619.9 MB)\n",
      "Requirement already satisfied: pycparser in /mnt/d/Documents/virtual-companion/backend/venv/lib/python3.10/site-packages (from cffi->fairseq==0.12.2) (2.21)\n",
      "Requirement already satisfied: threadpoolctl>=2.0.0 in /mnt/d/Documents/virtual-companion/backend/venv/lib/python3.10/site-packages (from scikit-learn->fairseq==0.12.2) (3.1.0)\n",
      "Requirement already satisfied: scipy>=1.3.2 in /mnt/d/Documents/virtual-companion/backend/venv/lib/python3.10/site-packages (from scikit-learn->fairseq==0.12.2) (1.10.0)\n",
      "Requirement already satisfied: joblib>=1.1.1 in /mnt/d/Documents/virtual-companion/backend/venv/lib/python3.10/site-packages (from scikit-learn->fairseq==0.12.2) (1.2.0)\n",
      "Requirement already satisfied: MarkupSafe>=2.0 in /mnt/d/Documents/virtual-companion/backend/venv/lib/python3.10/site-packages (from jinja2->torch>=1.13->fairseq==0.12.2) (2.1.1)\n",
      "Requirement already satisfied: mpmath>=0.19 in /mnt/d/Documents/virtual-companion/backend/venv/lib/python3.10/site-packages (from sympy->torch>=1.13->fairseq==0.12.2) (1.3.0)\n",
      "Building wheels for collected packages: fairseq, antlr4-python3-runtime\n",
      "  Building wheel for fairseq (pyproject.toml) ... \u001b[?25ldone\n",
      "\u001b[?25h  Created wheel for fairseq: filename=fairseq-0.12.2-cp310-cp310-linux_x86_64.whl size=19798461 sha256=1dddec6fad8a57617081b81dc05e4debf7f010523f63185f45ce5b738341cf7e\n",
      "  Stored in directory: /tmp/pip-ephem-wheel-cache-xlhi9x4t/wheels/27/a6/25/d16d86544744b4d9881587130828f37b793f44d34eb49f53c4\n",
      "  Building wheel for antlr4-python3-runtime (setup.py) ... \u001b[?25ldone\n",
      "\u001b[?25h  Created wheel for antlr4-python3-runtime: filename=antlr4_python3_runtime-4.8-py3-none-any.whl size=141211 sha256=bbebaad8fa1012421c4b67741be5da00fd1b2837b1c402b81b668316223d81e6\n",
      "  Stored in directory: /home/ubuntu/.cache/pip/wheels/ff/00/a9/e529ac6bfcd1da5193da71adc06168186f58f70733e1dfead0\n",
      "Successfully built fairseq antlr4-python3-runtime\n",
      "\u001b[33mWARNING: Ignoring invalid distribution -orch (/mnt/d/Documents/virtual-companion/backend/venv/lib/python3.10/site-packages)\u001b[0m\u001b[33m\n",
      "\u001b[0m\u001b[33mWARNING: Error parsing requirements for omegaconf: [Errno 2] No such file or directory: '/mnt/d/Documents/virtual-companion/backend/venv/lib/python3.10/site-packages/omegaconf-2.3.0.dist-info/METADATA'\u001b[0m\u001b[33m\n",
      "\u001b[0m\u001b[33mWARNING: Error parsing requirements for hydra-core: [Errno 2] No such file or directory: '/mnt/d/Documents/virtual-companion/backend/venv/lib/python3.10/site-packages/hydra_core-1.3.2.dist-info/METADATA'\u001b[0m\u001b[33m\n",
      "\u001b[0m\u001b[33mWARNING: Error parsing requirements for antlr4-python3-runtime: [Errno 2] No such file or directory: '/mnt/d/Documents/virtual-companion/backend/venv/lib/python3.10/site-packages/antlr4_python3_runtime-4.9.3.dist-info/METADATA'\u001b[0m\u001b[33m\n",
      "\u001b[0mInstalling collected packages: bitarray, antlr4-python3-runtime, omegaconf, cython, hydra-core, torch, torchaudio, fairseq\n",
      "  Attempting uninstall: antlr4-python3-runtime\n",
      "\u001b[33m    WARNING: Ignoring invalid distribution -orch (/mnt/d/Documents/virtual-companion/backend/venv/lib/python3.10/site-packages)\u001b[0m\u001b[33m\n",
      "\u001b[0m\u001b[33m    WARNING: No metadata found in /mnt/d/Documents/virtual-companion/backend/venv/lib/python3.10/site-packages\u001b[0m\u001b[33m\n",
      "\u001b[0m    Found existing installation: antlr4-python3-runtime 4.9.3\n",
      "    Can't uninstall 'antlr4-python3-runtime'. No files were found to uninstall.\n",
      "  Attempting uninstall: omegaconf\n",
      "\u001b[33m    WARNING: Ignoring invalid distribution -orch (/mnt/d/Documents/virtual-companion/backend/venv/lib/python3.10/site-packages)\u001b[0m\u001b[33m\n",
      "\u001b[0m\u001b[33m    WARNING: No metadata found in /mnt/d/Documents/virtual-companion/backend/venv/lib/python3.10/site-packages\u001b[0m\u001b[33m\n",
      "\u001b[0m    Found existing installation: omegaconf 2.3.0\n",
      "    Can't uninstall 'omegaconf'. No files were found to uninstall.\n",
      "  Attempting uninstall: hydra-core\n",
      "\u001b[33m    WARNING: Ignoring invalid distribution -orch (/mnt/d/Documents/virtual-companion/backend/venv/lib/python3.10/site-packages)\u001b[0m\u001b[33m\n",
      "\u001b[0m\u001b[33m    WARNING: No metadata found in /mnt/d/Documents/virtual-companion/backend/venv/lib/python3.10/site-packages\u001b[0m\u001b[33m\n",
      "\u001b[0m    Found existing installation: hydra-core 1.3.2\n",
      "    Can't uninstall 'hydra-core'. No files were found to uninstall.\n",
      "  Attempting uninstall: torch\n",
      "\u001b[33m    WARNING: Ignoring invalid distribution -orch (/mnt/d/Documents/virtual-companion/backend/venv/lib/python3.10/site-packages)\u001b[0m\u001b[33m\n",
      "\u001b[0m\u001b[33m    WARNING: No metadata found in /mnt/d/Documents/virtual-companion/backend/venv/lib/python3.10/site-packages\u001b[0m\u001b[33m\n",
      "\u001b[0m    Found existing installation: torch 2.0.0\n",
      "    Can't uninstall 'torch'. No files were found to uninstall.\n",
      "\u001b[33mWARNING: Ignoring invalid distribution -orch (/mnt/d/Documents/virtual-companion/backend/venv/lib/python3.10/site-packages)\u001b[0m\u001b[33m\n",
      "\u001b[0m\u001b[33mWARNING: Ignoring invalid distribution -orch (/mnt/d/Documents/virtual-companion/backend/venv/lib/python3.10/site-packages)\u001b[0m\u001b[33m\n",
      "\u001b[0m\u001b[33mWARNING: Ignoring invalid distribution -orch (/mnt/d/Documents/virtual-companion/backend/venv/lib/python3.10/site-packages)\u001b[0m\u001b[33m\n",
      "\u001b[0m\u001b[33mWARNING: Ignoring invalid distribution -orch (/mnt/d/Documents/virtual-companion/backend/venv/lib/python3.10/site-packages)\u001b[0m\u001b[33m\n",
      "\u001b[0m\u001b[33mWARNING: Ignoring invalid distribution -orch (/mnt/d/Documents/virtual-companion/backend/venv/lib/python3.10/site-packages)\u001b[0m\u001b[33m\n",
      "\u001b[0m\u001b[33mWARNING: Ignoring invalid distribution -orch (/mnt/d/Documents/virtual-companion/backend/venv/lib/python3.10/site-packages)\u001b[0m\u001b[33m\n",
      "\u001b[0m\u001b[33mWARNING: Ignoring invalid distribution -orch (/mnt/d/Documents/virtual-companion/backend/venv/lib/python3.10/site-packages)\u001b[0m\u001b[33m\n",
      "\u001b[0m\u001b[33mWARNING: Ignoring invalid distribution -orch (/mnt/d/Documents/virtual-companion/backend/venv/lib/python3.10/site-packages)\u001b[0m\u001b[33m\n",
      "\u001b[0m\u001b[31mERROR: pip's dependency resolver does not currently take into account all the packages that are installed. This behaviour is the source of the following dependency conflicts.\n",
      "torchtext 0.14.1 requires torch==1.13.1, but you have torch 2.0.1 which is incompatible.\n",
      "parlai 1.7.1 requires hydra-core>=1.1.0, but you have hydra-core 1.0.7 which is incompatible.\n",
      "parlai 1.7.1 requires omegaconf>=2.1.1, but you have omegaconf 2.0.6 which is incompatible.\u001b[0m\u001b[31m\n",
      "\u001b[0mSuccessfully installed antlr4-python3-runtime-4.8 bitarray-2.7.5 cython-0.29.35 fairseq-0.12.2 hydra-core-1.0.7 omegaconf-2.0.6 torch-2.0.1 torchaudio-2.0.2\n",
      "\u001b[33mWARNING: Ignoring invalid distribution -orch (/mnt/d/Documents/virtual-companion/backend/venv/lib/python3.10/site-packages)\u001b[0m\u001b[33m\n",
      "\u001b[0m\u001b[33mWARNING: Ignoring invalid distribution -orch (/mnt/d/Documents/virtual-companion/backend/venv/lib/python3.10/site-packages)\u001b[0m\u001b[33m\n",
      "\u001b[0m\u001b[33mWARNING: Ignoring invalid distribution -orch (/mnt/d/Documents/virtual-companion/backend/venv/lib/python3.10/site-packages)\u001b[0m\u001b[33m\n",
      "\u001b[0m\n",
      "\u001b[1m[\u001b[0m\u001b[34;49mnotice\u001b[0m\u001b[1;39;49m]\u001b[0m\u001b[39;49m A new release of pip available: \u001b[0m\u001b[31;49m22.3.1\u001b[0m\u001b[39;49m -> \u001b[0m\u001b[32;49m23.1.2\u001b[0m\n",
      "\u001b[1m[\u001b[0m\u001b[34;49mnotice\u001b[0m\u001b[1;39;49m]\u001b[0m\u001b[39;49m To update, run: \u001b[0m\u001b[32;49mpip install --upgrade pip\u001b[0m\n",
      "\u001b[33mWARNING: Ignoring invalid distribution -orch (/mnt/d/Documents/virtual-companion/backend/venv/lib/python3.10/site-packages)\u001b[0m\u001b[33m\n",
      "\u001b[0m\u001b[33mWARNING: Ignoring invalid distribution -orch (/mnt/d/Documents/virtual-companion/backend/venv/lib/python3.10/site-packages)\u001b[0m\u001b[33m\n",
      "\u001b[0mCollecting xformers\n",
      "  Using cached xformers-0.0.20-cp310-cp310-manylinux2014_x86_64.whl (109.1 MB)\n",
      "Requirement already satisfied: numpy in /mnt/d/Documents/virtual-companion/backend/venv/lib/python3.10/site-packages (from xformers) (1.24.1)\n",
      "Requirement already satisfied: pyre-extensions==0.0.29 in /mnt/d/Documents/virtual-companion/backend/venv/lib/python3.10/site-packages (from xformers) (0.0.29)\n",
      "Requirement already satisfied: torch==2.0.1 in /mnt/d/Documents/virtual-companion/backend/venv/lib/python3.10/site-packages (from xformers) (2.0.1)\n",
      "Requirement already satisfied: typing-inspect in /mnt/d/Documents/virtual-companion/backend/venv/lib/python3.10/site-packages (from pyre-extensions==0.0.29->xformers) (0.8.0)\n",
      "Requirement already satisfied: typing-extensions in /mnt/d/Documents/virtual-companion/backend/venv/lib/python3.10/site-packages (from pyre-extensions==0.0.29->xformers) (4.4.0)\n"
     ]
    },
    {
     "name": "stdout",
     "output_type": "stream",
     "text": [
      "Requirement already satisfied: jinja2 in /mnt/d/Documents/virtual-companion/backend/venv/lib/python3.10/site-packages (from torch==2.0.1->xformers) (3.1.2)\n",
      "Requirement already satisfied: nvidia-cuda-nvrtc-cu11==11.7.99 in /mnt/d/Documents/virtual-companion/backend/venv/lib/python3.10/site-packages (from torch==2.0.1->xformers) (11.7.99)\n",
      "Requirement already satisfied: sympy in /mnt/d/Documents/virtual-companion/backend/venv/lib/python3.10/site-packages (from torch==2.0.1->xformers) (1.11.1)\n",
      "Requirement already satisfied: nvidia-cufft-cu11==10.9.0.58 in /mnt/d/Documents/virtual-companion/backend/venv/lib/python3.10/site-packages (from torch==2.0.1->xformers) (10.9.0.58)\n",
      "Requirement already satisfied: nvidia-cublas-cu11==11.10.3.66 in /mnt/d/Documents/virtual-companion/backend/venv/lib/python3.10/site-packages (from torch==2.0.1->xformers) (11.10.3.66)\n",
      "Requirement already satisfied: nvidia-nccl-cu11==2.14.3 in /mnt/d/Documents/virtual-companion/backend/venv/lib/python3.10/site-packages (from torch==2.0.1->xformers) (2.14.3)\n",
      "Requirement already satisfied: nvidia-curand-cu11==10.2.10.91 in /mnt/d/Documents/virtual-companion/backend/venv/lib/python3.10/site-packages (from torch==2.0.1->xformers) (10.2.10.91)\n",
      "Requirement already satisfied: nvidia-cuda-cupti-cu11==11.7.101 in /mnt/d/Documents/virtual-companion/backend/venv/lib/python3.10/site-packages (from torch==2.0.1->xformers) (11.7.101)\n",
      "Requirement already satisfied: nvidia-nvtx-cu11==11.7.91 in /mnt/d/Documents/virtual-companion/backend/venv/lib/python3.10/site-packages (from torch==2.0.1->xformers) (11.7.91)\n",
      "Requirement already satisfied: nvidia-cudnn-cu11==8.5.0.96 in /mnt/d/Documents/virtual-companion/backend/venv/lib/python3.10/site-packages (from torch==2.0.1->xformers) (8.5.0.96)\n",
      "Requirement already satisfied: nvidia-cusolver-cu11==11.4.0.1 in /mnt/d/Documents/virtual-companion/backend/venv/lib/python3.10/site-packages (from torch==2.0.1->xformers) (11.4.0.1)\n",
      "Requirement already satisfied: networkx in /mnt/d/Documents/virtual-companion/backend/venv/lib/python3.10/site-packages (from torch==2.0.1->xformers) (3.1)\n",
      "Requirement already satisfied: triton==2.0.0 in /mnt/d/Documents/virtual-companion/backend/venv/lib/python3.10/site-packages (from torch==2.0.1->xformers) (2.0.0)\n",
      "Requirement already satisfied: nvidia-cuda-runtime-cu11==11.7.99 in /mnt/d/Documents/virtual-companion/backend/venv/lib/python3.10/site-packages (from torch==2.0.1->xformers) (11.7.99)\n",
      "Requirement already satisfied: filelock in /mnt/d/Documents/virtual-companion/backend/venv/lib/python3.10/site-packages (from torch==2.0.1->xformers) (3.9.0)\n",
      "Requirement already satisfied: nvidia-cusparse-cu11==11.7.4.91 in /mnt/d/Documents/virtual-companion/backend/venv/lib/python3.10/site-packages (from torch==2.0.1->xformers) (11.7.4.91)\n",
      "Requirement already satisfied: wheel in /mnt/d/Documents/virtual-companion/backend/venv/lib/python3.10/site-packages (from nvidia-cublas-cu11==11.10.3.66->torch==2.0.1->xformers) (0.38.4)\n",
      "Requirement already satisfied: setuptools in /mnt/d/Documents/virtual-companion/backend/venv/lib/python3.10/site-packages (from nvidia-cublas-cu11==11.10.3.66->torch==2.0.1->xformers) (65.6.3)\n",
      "Requirement already satisfied: lit in /mnt/d/Documents/virtual-companion/backend/venv/lib/python3.10/site-packages (from triton==2.0.0->torch==2.0.1->xformers) (16.0.1)\n",
      "Requirement already satisfied: cmake in /mnt/d/Documents/virtual-companion/backend/venv/lib/python3.10/site-packages (from triton==2.0.0->torch==2.0.1->xformers) (3.26.3)\n",
      "Requirement already satisfied: MarkupSafe>=2.0 in /mnt/d/Documents/virtual-companion/backend/venv/lib/python3.10/site-packages (from jinja2->torch==2.0.1->xformers) (2.1.1)\n",
      "Requirement already satisfied: mpmath>=0.19 in /mnt/d/Documents/virtual-companion/backend/venv/lib/python3.10/site-packages (from sympy->torch==2.0.1->xformers) (1.3.0)\n",
      "Requirement already satisfied: mypy-extensions>=0.3.0 in /mnt/d/Documents/virtual-companion/backend/venv/lib/python3.10/site-packages (from typing-inspect->pyre-extensions==0.0.29->xformers) (1.0.0)\n",
      "\u001b[33mWARNING: Ignoring invalid distribution -orch (/mnt/d/Documents/virtual-companion/backend/venv/lib/python3.10/site-packages)\u001b[0m\u001b[33m\n",
      "\u001b[0mInstalling collected packages: xformers\n",
      "\u001b[33mWARNING: Ignoring invalid distribution -orch (/mnt/d/Documents/virtual-companion/backend/venv/lib/python3.10/site-packages)\u001b[0m\u001b[33m\n",
      "\u001b[0mSuccessfully installed xformers-0.0.20\n",
      "\u001b[33mWARNING: Ignoring invalid distribution -orch (/mnt/d/Documents/virtual-companion/backend/venv/lib/python3.10/site-packages)\u001b[0m\u001b[33m\n",
      "\u001b[0m\u001b[33mWARNING: Ignoring invalid distribution -orch (/mnt/d/Documents/virtual-companion/backend/venv/lib/python3.10/site-packages)\u001b[0m\u001b[33m\n",
      "\u001b[0m\u001b[33mWARNING: Ignoring invalid distribution -orch (/mnt/d/Documents/virtual-companion/backend/venv/lib/python3.10/site-packages)\u001b[0m\u001b[33m\n",
      "\u001b[0m\n",
      "\u001b[1m[\u001b[0m\u001b[34;49mnotice\u001b[0m\u001b[1;39;49m]\u001b[0m\u001b[39;49m A new release of pip available: \u001b[0m\u001b[31;49m22.3.1\u001b[0m\u001b[39;49m -> \u001b[0m\u001b[32;49m23.1.2\u001b[0m\n",
      "\u001b[1m[\u001b[0m\u001b[34;49mnotice\u001b[0m\u001b[1;39;49m]\u001b[0m\u001b[39;49m To update, run: \u001b[0m\u001b[32;49mpip install --upgrade pip\u001b[0m\n",
      "/mnt/d/Documents/virtual-companion/backend/notebooks\n"
     ]
    }
   ],
   "source": [
    "# Install the necessary libraries\n",
    "!pip install sacremoses pandas mock sacrebleu tensorboardX pyarrow indic-nlp-library\n",
    "# Install fairseq from source\n",
    "!git clone https://github.com/pytorch/fairseq.git\n",
    "%cd fairseq\n",
    "# !git checkout da9eaba12d82b9bfc1442f0e2c6fc1b895f4d35d\n",
    "!pip install ./\n",
    "! pip install xformers\n",
    "%cd .."
   ]
  },
  {
   "cell_type": "code",
   "execution_count": 4,
   "metadata": {
    "id": "L6SGeKxq1XPI"
   },
   "outputs": [
    {
     "name": "stderr",
     "output_type": "stream",
     "text": [
      "2023-06-18 23:55:34.700466: I tensorflow/core/platform/cpu_feature_guard.cc:193] This TensorFlow binary is optimized with oneAPI Deep Neural Network Library (oneDNN) to use the following CPU instructions in performance-critical operations:  AVX2 FMA\n",
      "To enable them in other operations, rebuild TensorFlow with the appropriate compiler flags.\n",
      "2023-06-18 23:56:23.158974: W tensorflow/compiler/xla/stream_executor/platform/default/dso_loader.cc:64] Could not load dynamic library 'libnvinfer.so.7'; dlerror: libnvinfer.so.7: cannot open shared object file: No such file or directory\n",
      "2023-06-18 23:56:23.168421: W tensorflow/compiler/xla/stream_executor/platform/default/dso_loader.cc:64] Could not load dynamic library 'libnvinfer_plugin.so.7'; dlerror: libnvinfer_plugin.so.7: cannot open shared object file: No such file or directory\n",
      "2023-06-18 23:56:23.168531: W tensorflow/compiler/tf2tensorrt/utils/py_utils.cc:38] TF-TRT Warning: Cannot dlopen some TensorRT libraries. If you would like to use Nvidia GPU with TensorRT, please make sure the missing libraries mentioned above are installed properly.\n"
     ]
    }
   ],
   "source": [
    "# add fairseq folder to python path\n",
    "# import os\n",
    "# os.environ['PYTHONPATH'] += \"D:\\Documents\\virtual-companion\\backend\\notebooks\\testing\\fairseq\"\n",
    "!set PYTHONPATH=D:\\Documents\\virtual-companion\\backend\\notebooks\\testing\\fairseq\n",
    "\n",
    "# sanity check to see if fairseq is installed\n",
    "from fairseq import checkpoint_utils, distributed_utils, options, tasks, utils"
   ]
  },
  {
   "cell_type": "code",
   "execution_count": 5,
   "metadata": {},
   "outputs": [
    {
     "name": "stdout",
     "output_type": "stream",
     "text": [
      "/mnt/d/Documents/virtual-companion/backend/notebooks\r\n"
     ]
    }
   ],
   "source": [
    "!pwd"
   ]
  },
  {
   "cell_type": "code",
   "execution_count": 6,
   "metadata": {
    "colab": {
     "base_uri": "https://localhost:8080/"
    },
    "id": "kKA8afhBawO5",
    "outputId": "d346f462-d5d4-43a0-c29b-90aaab2fb4d2"
   },
   "outputs": [
    {
     "name": "stdout",
     "output_type": "stream",
     "text": [
      "--2023-06-18 23:58:21--  https://ai4b-public-nlu-nlg.objectstore.e2enetworks.net/en2indic.zip\n",
      "Resolving ai4b-public-nlu-nlg.objectstore.e2enetworks.net (ai4b-public-nlu-nlg.objectstore.e2enetworks.net)... 101.53.136.18, 164.52.210.96, 101.53.152.30, ...\n",
      "Connecting to ai4b-public-nlu-nlg.objectstore.e2enetworks.net (ai4b-public-nlu-nlg.objectstore.e2enetworks.net)|101.53.136.18|:443... connected.\n",
      "HTTP request sent, awaiting response... 200 OK\n",
      "Length: 4811880516 (4.5G) [application/zip]\n",
      "Saving to: ‘en2indic.zip’\n",
      "\n",
      "en2indic.zip        100%[===================>]   4.48G  2.89MB/s    in 21m 9s  \n",
      "\n",
      "2023-06-19 00:19:30 (3.62 MB/s) - ‘en2indic.zip’ saved [4811880516/4811880516]\n",
      "\n",
      "/bin/bash: line 1: unzip: command not found\n",
      "[Errno 2] No such file or directory: 'indicTrans'\n",
      "/mnt/d/Documents/virtual-companion/backend/notebooks\n"
     ]
    }
   ],
   "source": [
    "# download the indictrans model\n",
    "\n",
    "\n",
    "# downloading the indic-en model\n",
    "# !wget https://ai4b-public-nlu-nlg.objectstore.e2enetworks.net/indic2en.zip\n",
    "# !unzip indic2en.zip\n",
    "\n",
    "# downloading the en-indic model\n",
    "!wget https://ai4b-public-nlu-nlg.objectstore.e2enetworks.net/en2indic.zip\n",
    "!unzip en2indic.zip\n",
    "\n",
    "# # downloading the indic-indic model\n",
    "# !wget https://ai4b-public-nlu-nlg.objectstore.e2enetworks.net/m2m.zip\n",
    "# !unzip m2m.zip\n",
    "\n",
    "%cd indicTrans"
   ]
  },
  {
   "cell_type": "code",
   "execution_count": 23,
   "metadata": {},
   "outputs": [
    {
     "name": "stdout",
     "output_type": "stream",
     "text": [
      "/mnt/d/Documents/virtual-companion/backend/notebooks/testing/IndicTrans\n"
     ]
    }
   ],
   "source": [
    "%cd IndicTrans"
   ]
  },
  {
   "cell_type": "code",
   "execution_count": 1,
   "metadata": {
    "id": "Lg1sQFfyWJli"
   },
   "outputs": [
    {
     "ename": "ModuleNotFoundError",
     "evalue": "No module named 'indicTrans'",
     "output_type": "error",
     "traceback": [
      "\u001b[0;31m---------------------------------------------------------------------------\u001b[0m",
      "\u001b[0;31mModuleNotFoundError\u001b[0m                       Traceback (most recent call last)",
      "Cell \u001b[0;32mIn[1], line 1\u001b[0m\n\u001b[0;32m----> 1\u001b[0m \u001b[38;5;28;01mfrom\u001b[39;00m \u001b[38;5;21;01mindicTrans\u001b[39;00m\u001b[38;5;21;01m.\u001b[39;00m\u001b[38;5;21;01minference\u001b[39;00m\u001b[38;5;21;01m.\u001b[39;00m\u001b[38;5;21;01mengine\u001b[39;00m \u001b[38;5;28;01mimport\u001b[39;00m Model\n\u001b[1;32m      3\u001b[0m indic2en_model \u001b[38;5;241m=\u001b[39m Model(expdir\u001b[38;5;241m=\u001b[39m\u001b[38;5;124m'\u001b[39m\u001b[38;5;124m../en-indic\u001b[39m\u001b[38;5;124m'\u001b[39m)\n",
      "\u001b[0;31mModuleNotFoundError\u001b[0m: No module named 'indicTrans'"
     ]
    }
   ],
   "source": [
    "from indicTrans.inference.engine import Model\n",
    "\n",
    "indic2en_model = Model(expdir='../en-indic')"
   ]
  },
  {
   "cell_type": "code",
   "execution_count": null,
   "metadata": {
    "colab": {
     "base_uri": "https://localhost:8080/"
    },
    "id": "8QzkBCgeGZiH",
    "outputId": "c150360c-6d01-4689-8c2e-9bdd0eba1504"
   },
   "outputs": [],
   "source": [
    "\n",
    "en_paragraph = \"\"\"Hi, how are you?\"\"\"\n",
    "\n",
    "indic2en_model.translate_paragraph(en_paragraph, 'en', 'kn')"
   ]
  },
  {
   "cell_type": "code",
   "execution_count": null,
   "metadata": {
    "colab": {
     "base_uri": "https://localhost:8080/"
    },
    "id": "c4v9BmbZao5d",
    "outputId": "6efac2a3-5f79-4e72-821b-bc80702a7fa8"
   },
   "outputs": [],
   "source": []
  },
  {
   "cell_type": "code",
   "execution_count": null,
   "metadata": {
    "colab": {
     "base_uri": "https://localhost:8080/"
    },
    "id": "pNNzyR_LfqIr",
    "outputId": "095b9532-e76a-4451-dec9-4862566a4288"
   },
   "outputs": [],
   "source": []
  },
  {
   "cell_type": "code",
   "execution_count": null,
   "metadata": {
    "id": "PzjbDLBtaol9"
   },
   "outputs": [],
   "source": []
  },
  {
   "cell_type": "code",
   "execution_count": null,
   "metadata": {
    "colab": {
     "base_uri": "https://localhost:8080/"
    },
    "id": "5uaOmKb8gmeN",
    "outputId": "951bbdf9-61d0-4703-a8df-0c3fcb4e5bb3"
   },
   "outputs": [],
   "source": []
  },
  {
   "cell_type": "code",
   "execution_count": null,
   "metadata": {
    "colab": {
     "base_uri": "https://localhost:8080/"
    },
    "id": "iLD7WPqmlSnC",
    "outputId": "359050fa-6d35-4055-a9c5-13a15322c59e"
   },
   "outputs": [],
   "source": []
  },
  {
   "cell_type": "code",
   "execution_count": null,
   "metadata": {
    "colab": {
     "base_uri": "https://localhost:8080/"
    },
    "id": "O3mJyj-QljWz",
    "outputId": "1c0420e5-4b80-41d9-f09e-2fdff79bc7bd"
   },
   "outputs": [],
   "source": []
  },
  {
   "cell_type": "code",
   "execution_count": null,
   "metadata": {
    "colab": {
     "base_uri": "https://localhost:8080/"
    },
    "id": "GapEJESiloD8",
    "outputId": "dc8b2a8c-4f36-4bf9-d517-6826aa65da57"
   },
   "outputs": [],
   "source": []
  },
  {
   "cell_type": "code",
   "execution_count": null,
   "metadata": {
    "id": "ckfW2P6abcB3"
   },
   "outputs": [],
   "source": []
  },
  {
   "cell_type": "code",
   "execution_count": null,
   "metadata": {
    "colab": {
     "base_uri": "https://localhost:8080/"
    },
    "id": "H-3vPdCqSWoK",
    "outputId": "d5a80c59-cc89-4910-a9ce-7317fac6bf8d"
   },
   "outputs": [],
   "source": []
  },
  {
   "cell_type": "code",
   "execution_count": null,
   "metadata": {
    "colab": {
     "base_uri": "https://localhost:8080/"
    },
    "id": "22yPo78Zb_oR",
    "outputId": "4df17e93-9029-4020-8deb-0dbaf8bb0b27"
   },
   "outputs": [],
   "source": []
  },
  {
   "cell_type": "code",
   "execution_count": null,
   "metadata": {
    "colab": {
     "base_uri": "https://localhost:8080/"
    },
    "id": "onnfzTDESg2I",
    "outputId": "1bc600d4-d3ff-40fa-d258-7d1c876bd49c"
   },
   "outputs": [],
   "source": []
  },
  {
   "cell_type": "code",
   "execution_count": null,
   "metadata": {
    "colab": {
     "base_uri": "https://localhost:8080/"
    },
    "id": "5klOcwi8SjGS",
    "outputId": "bc4e47fa-ee1d-4da2-85ea-f7900cae7b48"
   },
   "outputs": [],
   "source": []
  },
  {
   "cell_type": "code",
   "execution_count": null,
   "metadata": {
    "colab": {
     "base_uri": "https://localhost:8080/"
    },
    "id": "4ifZhGkKc6oo",
    "outputId": "a0112e2b-a54b-48ad-e3ae-a3d84c6d097e"
   },
   "outputs": [],
   "source": []
  },
  {
   "cell_type": "code",
   "execution_count": null,
   "metadata": {
    "colab": {
     "base_uri": "https://localhost:8080/"
    },
    "id": "v0x0YrWYSwwK",
    "outputId": "4c37d699-5b8e-4ae7-9724-953d7e165035"
   },
   "outputs": [],
   "source": []
  },
  {
   "cell_type": "code",
   "execution_count": null,
   "metadata": {
    "id": "-xcnDOc4gNKC"
   },
   "outputs": [],
   "source": []
  },
  {
   "cell_type": "code",
   "execution_count": null,
   "metadata": {
    "id": "9YK2BdwvrUgI"
   },
   "outputs": [],
   "source": []
  },
  {
   "cell_type": "code",
   "execution_count": null,
   "metadata": {},
   "outputs": [],
   "source": []
  },
  {
   "cell_type": "code",
   "execution_count": null,
   "metadata": {},
   "outputs": [],
   "source": []
  },
  {
   "cell_type": "code",
   "execution_count": null,
   "metadata": {},
   "outputs": [],
   "source": []
  }
 ],
 "metadata": {
  "accelerator": "GPU",
  "colab": {
   "name": "indictrans_fairseq_inference.ipynb",
   "provenance": []
  },
  "interpreter": {
   "hash": "3c7d4130300118f0c7487d576c6841c0dbbdeec039e1e658ac9b107412a09af0"
  },
  "kernelspec": {
   "display_name": "Python 3 (ipykernel)",
   "language": "python",
   "name": "python3"
  },
  "language_info": {
   "codemirror_mode": {
    "name": "ipython",
    "version": 3
   },
   "file_extension": ".py",
   "mimetype": "text/x-python",
   "name": "python",
   "nbconvert_exporter": "python",
   "pygments_lexer": "ipython3",
   "version": "3.10.6"
  }
 },
 "nbformat": 4,
 "nbformat_minor": 1
}
