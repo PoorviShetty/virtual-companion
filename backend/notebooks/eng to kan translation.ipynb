{
 "cells": [
  {
   "cell_type": "code",
   "execution_count": 31,
   "id": "9d2c4d32",
   "metadata": {},
   "outputs": [],
   "source": [
    "import requests"
   ]
  },
  {
   "cell_type": "code",
   "execution_count": 32,
   "id": "ed4ea1c1",
   "metadata": {},
   "outputs": [],
   "source": [
    "endpoint_url = \"https://hf.space/embed/ai4bharat/IndicTrans-English2Indic/+/api/predict/\" "
   ]
  },
  {
   "cell_type": "code",
   "execution_count": 33,
   "id": "fe38f039",
   "metadata": {},
   "outputs": [],
   "source": [
    "response = requests.post(\n",
    "    endpoint_url,\n",
    "    json={\n",
    "        \"data\": [\"Hello World. Welcome!\", \"Kannada\"]\n",
    "    },\n",
    ")\n"
   ]
  },
  {
   "cell_type": "code",
   "execution_count": 34,
   "id": "b67731c1",
   "metadata": {},
   "outputs": [
    {
     "data": {
      "text/plain": [
       "'ಹಲೋ ವರ್ಲ್ಡ್. ಸ್ವಾಗತಾರ್ಹ!'"
      ]
     },
     "execution_count": 34,
     "metadata": {},
     "output_type": "execute_result"
    }
   ],
   "source": [
    "response.json()['data'][0]"
   ]
  },
  {
   "cell_type": "code",
   "execution_count": 35,
   "id": "c759c772",
   "metadata": {},
   "outputs": [
    {
     "data": {
      "text/plain": [
       "'ಹೇಗಿದ್ದೀರಿ?'"
      ]
     },
     "execution_count": 35,
     "metadata": {},
     "output_type": "execute_result"
    }
   ],
   "source": [
    "def translate(text, lang = \"Kannada\"):\n",
    "    response = requests.post(\n",
    "        endpoint_url,\n",
    "        json={\n",
    "            \"data\": [text, lang]\n",
    "        },\n",
    "    )\n",
    "    \n",
    "    return response.json()['data'][0]\n",
    "\n",
    "translate(\"how are you?\")"
   ]
  },
  {
   "cell_type": "code",
   "execution_count": null,
   "id": "df899252",
   "metadata": {},
   "outputs": [],
   "source": []
  }
 ],
 "metadata": {
  "kernelspec": {
   "display_name": "Python 3 (ipykernel)",
   "language": "python",
   "name": "python3"
  },
  "language_info": {
   "codemirror_mode": {
    "name": "ipython",
    "version": 3
   },
   "file_extension": ".py",
   "mimetype": "text/x-python",
   "name": "python",
   "nbconvert_exporter": "python",
   "pygments_lexer": "ipython3",
   "version": "3.8.10"
  }
 },
 "nbformat": 4,
 "nbformat_minor": 5
}
