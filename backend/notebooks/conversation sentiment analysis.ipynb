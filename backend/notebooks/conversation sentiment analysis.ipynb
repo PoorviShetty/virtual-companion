{
 "cells": [
  {
   "cell_type": "markdown",
   "id": "ebd55849",
   "metadata": {},
   "source": [
    "# Sentiment Analysis Using Naive Bayes\n",
    "\n",
    "Workshopping the model for chat sentiment analysis"
   ]
  },
  {
   "cell_type": "code",
   "execution_count": 1,
   "id": "53eb601c",
   "metadata": {},
   "outputs": [
    {
     "name": "stderr",
     "output_type": "stream",
     "text": [
      "[nltk_data] Downloading package stopwords to /home/ubuntu/nltk_data...\n",
      "[nltk_data]   Package stopwords is already up-to-date!\n",
      "[nltk_data] Downloading package wordnet to /home/ubuntu/nltk_data...\n",
      "[nltk_data]   Package wordnet is already up-to-date!\n"
     ]
    }
   ],
   "source": [
    "import re\n",
    "import pandas as pd\n",
    "import numpy as np\n",
    "from sklearn.preprocessing import LabelEncoder\n",
    "from sklearn.model_selection import train_test_split\n",
    "from sklearn.metrics import classification_report\n",
    "from sklearn.metrics import accuracy_score\n",
    "import math\n",
    "import nltk\n",
    "from sklearn.feature_extraction.text import CountVectorizer\n",
    "from collections import defaultdict\n",
    "import string\n",
    "\n",
    "nltk.download('stopwords')\n",
    "nltk.download('wordnet')\n",
    "from nltk.corpus import stopwords\n",
    "stop_words = list(stopwords.words('english'))\n"
   ]
  },
  {
   "cell_type": "code",
   "execution_count": 2,
   "id": "7d99dd7d",
   "metadata": {},
   "outputs": [
    {
     "data": {
      "text/html": [
       "<div>\n",
       "<style scoped>\n",
       "    .dataframe tbody tr th:only-of-type {\n",
       "        vertical-align: middle;\n",
       "    }\n",
       "\n",
       "    .dataframe tbody tr th {\n",
       "        vertical-align: top;\n",
       "    }\n",
       "\n",
       "    .dataframe thead th {\n",
       "        text-align: right;\n",
       "    }\n",
       "</style>\n",
       "<table border=\"1\" class=\"dataframe\">\n",
       "  <thead>\n",
       "    <tr style=\"text-align: right;\">\n",
       "      <th></th>\n",
       "      <th>review</th>\n",
       "      <th>sentiment</th>\n",
       "    </tr>\n",
       "  </thead>\n",
       "  <tbody>\n",
       "    <tr>\n",
       "      <th>0</th>\n",
       "      <td>One of the other reviewers has mentioned that ...</td>\n",
       "      <td>positive</td>\n",
       "    </tr>\n",
       "    <tr>\n",
       "      <th>1</th>\n",
       "      <td>A wonderful little production. &lt;br /&gt;&lt;br /&gt;The...</td>\n",
       "      <td>positive</td>\n",
       "    </tr>\n",
       "    <tr>\n",
       "      <th>2</th>\n",
       "      <td>I thought this was a wonderful way to spend ti...</td>\n",
       "      <td>positive</td>\n",
       "    </tr>\n",
       "    <tr>\n",
       "      <th>3</th>\n",
       "      <td>Basically there's a family where a little boy ...</td>\n",
       "      <td>negative</td>\n",
       "    </tr>\n",
       "    <tr>\n",
       "      <th>4</th>\n",
       "      <td>Petter Mattei's \"Love in the Time of Money\" is...</td>\n",
       "      <td>positive</td>\n",
       "    </tr>\n",
       "    <tr>\n",
       "      <th>...</th>\n",
       "      <td>...</td>\n",
       "      <td>...</td>\n",
       "    </tr>\n",
       "    <tr>\n",
       "      <th>49995</th>\n",
       "      <td>I thought this movie did a down right good job...</td>\n",
       "      <td>positive</td>\n",
       "    </tr>\n",
       "    <tr>\n",
       "      <th>49996</th>\n",
       "      <td>Bad plot, bad dialogue, bad acting, idiotic di...</td>\n",
       "      <td>negative</td>\n",
       "    </tr>\n",
       "    <tr>\n",
       "      <th>49997</th>\n",
       "      <td>I am a Catholic taught in parochial elementary...</td>\n",
       "      <td>negative</td>\n",
       "    </tr>\n",
       "    <tr>\n",
       "      <th>49998</th>\n",
       "      <td>I'm going to have to disagree with the previou...</td>\n",
       "      <td>negative</td>\n",
       "    </tr>\n",
       "    <tr>\n",
       "      <th>49999</th>\n",
       "      <td>No one expects the Star Trek movies to be high...</td>\n",
       "      <td>negative</td>\n",
       "    </tr>\n",
       "  </tbody>\n",
       "</table>\n",
       "<p>50000 rows × 2 columns</p>\n",
       "</div>"
      ],
      "text/plain": [
       "                                                  review sentiment\n",
       "0      One of the other reviewers has mentioned that ...  positive\n",
       "1      A wonderful little production. <br /><br />The...  positive\n",
       "2      I thought this was a wonderful way to spend ti...  positive\n",
       "3      Basically there's a family where a little boy ...  negative\n",
       "4      Petter Mattei's \"Love in the Time of Money\" is...  positive\n",
       "...                                                  ...       ...\n",
       "49995  I thought this movie did a down right good job...  positive\n",
       "49996  Bad plot, bad dialogue, bad acting, idiotic di...  negative\n",
       "49997  I am a Catholic taught in parochial elementary...  negative\n",
       "49998  I'm going to have to disagree with the previou...  negative\n",
       "49999  No one expects the Star Trek movies to be high...  negative\n",
       "\n",
       "[50000 rows x 2 columns]"
      ]
     },
     "execution_count": 2,
     "metadata": {},
     "output_type": "execute_result"
    }
   ],
   "source": [
    "# Replace dataset with a more appropriate one\n",
    "data = pd.read_csv('../IMDB Dataset.csv')\n",
    "data"
   ]
  },
  {
   "cell_type": "code",
   "execution_count": 3,
   "id": "38cf4f30",
   "metadata": {},
   "outputs": [
    {
     "data": {
      "text/html": [
       "<div>\n",
       "<style scoped>\n",
       "    .dataframe tbody tr th:only-of-type {\n",
       "        vertical-align: middle;\n",
       "    }\n",
       "\n",
       "    .dataframe tbody tr th {\n",
       "        vertical-align: top;\n",
       "    }\n",
       "\n",
       "    .dataframe thead th {\n",
       "        text-align: right;\n",
       "    }\n",
       "</style>\n",
       "<table border=\"1\" class=\"dataframe\">\n",
       "  <thead>\n",
       "    <tr style=\"text-align: right;\">\n",
       "      <th></th>\n",
       "      <th>review</th>\n",
       "      <th>sentiment</th>\n",
       "    </tr>\n",
       "  </thead>\n",
       "  <tbody>\n",
       "    <tr>\n",
       "      <th>0</th>\n",
       "      <td>one reviewers mentioned watching  oz episode y...</td>\n",
       "      <td>positive</td>\n",
       "    </tr>\n",
       "    <tr>\n",
       "      <th>1</th>\n",
       "      <td>wonderful little production br br filming tech...</td>\n",
       "      <td>positive</td>\n",
       "    </tr>\n",
       "    <tr>\n",
       "      <th>2</th>\n",
       "      <td>thought wonderful way spend time hot summer we...</td>\n",
       "      <td>positive</td>\n",
       "    </tr>\n",
       "    <tr>\n",
       "      <th>3</th>\n",
       "      <td>basically theres family little boy jake thinks...</td>\n",
       "      <td>negative</td>\n",
       "    </tr>\n",
       "    <tr>\n",
       "      <th>4</th>\n",
       "      <td>petter matteis love time money visually stunni...</td>\n",
       "      <td>positive</td>\n",
       "    </tr>\n",
       "    <tr>\n",
       "      <th>...</th>\n",
       "      <td>...</td>\n",
       "      <td>...</td>\n",
       "    </tr>\n",
       "    <tr>\n",
       "      <th>49995</th>\n",
       "      <td>thought movie right good job wasnt creative or...</td>\n",
       "      <td>positive</td>\n",
       "    </tr>\n",
       "    <tr>\n",
       "      <th>49996</th>\n",
       "      <td>bad plot bad dialogue bad acting idiotic direc...</td>\n",
       "      <td>negative</td>\n",
       "    </tr>\n",
       "    <tr>\n",
       "      <th>49997</th>\n",
       "      <td>catholic taught parochial elementary schools n...</td>\n",
       "      <td>negative</td>\n",
       "    </tr>\n",
       "    <tr>\n",
       "      <th>49998</th>\n",
       "      <td>going disagree previous comment side maltin on...</td>\n",
       "      <td>negative</td>\n",
       "    </tr>\n",
       "    <tr>\n",
       "      <th>49999</th>\n",
       "      <td>one expects star trek movies high art fans exp...</td>\n",
       "      <td>negative</td>\n",
       "    </tr>\n",
       "  </tbody>\n",
       "</table>\n",
       "<p>50000 rows × 2 columns</p>\n",
       "</div>"
      ],
      "text/plain": [
       "                                                  review sentiment\n",
       "0      one reviewers mentioned watching  oz episode y...  positive\n",
       "1      wonderful little production br br filming tech...  positive\n",
       "2      thought wonderful way spend time hot summer we...  positive\n",
       "3      basically theres family little boy jake thinks...  negative\n",
       "4      petter matteis love time money visually stunni...  positive\n",
       "...                                                  ...       ...\n",
       "49995  thought movie right good job wasnt creative or...  positive\n",
       "49996  bad plot bad dialogue bad acting idiotic direc...  negative\n",
       "49997  catholic taught parochial elementary schools n...  negative\n",
       "49998  going disagree previous comment side maltin on...  negative\n",
       "49999  one expects star trek movies high art fans exp...  negative\n",
       "\n",
       "[50000 rows x 2 columns]"
      ]
     },
     "execution_count": 3,
     "metadata": {},
     "output_type": "execute_result"
    }
   ],
   "source": [
    "def clean_string(text):\n",
    "    final_string = \"\"\n",
    "    \n",
    "    text = text.lower()\n",
    "    \n",
    "    text = re.sub(r'\\n', '', text)\n",
    "    translator = str.maketrans('', '', string.punctuation)\n",
    "    \n",
    "    text = text.translate(translator)\n",
    "    text = text.split()\n",
    "    \n",
    "    useless_words = stop_words + ['im']\n",
    "    \n",
    "    text_filtered = [word for word in text if not word in useless_words]\n",
    "    text_filtered = [re.sub(r'\\w*\\d\\w*', '', w) for w in text_filtered]\n",
    "\n",
    "    final_string = ' '.join(text_filtered)\n",
    "\n",
    "    return final_string\n",
    "\n",
    "data['review'] = data['review'].apply(lambda cw : clean_string(cw)) \n",
    "data"
   ]
  },
  {
   "cell_type": "code",
   "execution_count": 4,
   "id": "0e1311fe",
   "metadata": {},
   "outputs": [
    {
     "data": {
      "text/html": [
       "<div>\n",
       "<style scoped>\n",
       "    .dataframe tbody tr th:only-of-type {\n",
       "        vertical-align: middle;\n",
       "    }\n",
       "\n",
       "    .dataframe tbody tr th {\n",
       "        vertical-align: top;\n",
       "    }\n",
       "\n",
       "    .dataframe thead th {\n",
       "        text-align: right;\n",
       "    }\n",
       "</style>\n",
       "<table border=\"1\" class=\"dataframe\">\n",
       "  <thead>\n",
       "    <tr style=\"text-align: right;\">\n",
       "      <th></th>\n",
       "      <th>review</th>\n",
       "      <th>sentiment</th>\n",
       "    </tr>\n",
       "  </thead>\n",
       "  <tbody>\n",
       "    <tr>\n",
       "      <th>0</th>\n",
       "      <td>one reviewer mentioned watching oz episode you...</td>\n",
       "      <td>positive</td>\n",
       "    </tr>\n",
       "    <tr>\n",
       "      <th>1</th>\n",
       "      <td>wonderful little production br br filming tech...</td>\n",
       "      <td>positive</td>\n",
       "    </tr>\n",
       "    <tr>\n",
       "      <th>2</th>\n",
       "      <td>thought wonderful way spend time hot summer we...</td>\n",
       "      <td>positive</td>\n",
       "    </tr>\n",
       "    <tr>\n",
       "      <th>3</th>\n",
       "      <td>basically there family little boy jake think t...</td>\n",
       "      <td>negative</td>\n",
       "    </tr>\n",
       "    <tr>\n",
       "      <th>4</th>\n",
       "      <td>petter matteis love time money visually stunni...</td>\n",
       "      <td>positive</td>\n",
       "    </tr>\n",
       "    <tr>\n",
       "      <th>...</th>\n",
       "      <td>...</td>\n",
       "      <td>...</td>\n",
       "    </tr>\n",
       "    <tr>\n",
       "      <th>49995</th>\n",
       "      <td>thought movie right good job wasnt creative or...</td>\n",
       "      <td>positive</td>\n",
       "    </tr>\n",
       "    <tr>\n",
       "      <th>49996</th>\n",
       "      <td>bad plot bad dialogue bad acting idiotic direc...</td>\n",
       "      <td>negative</td>\n",
       "    </tr>\n",
       "    <tr>\n",
       "      <th>49997</th>\n",
       "      <td>catholic taught parochial elementary school nu...</td>\n",
       "      <td>negative</td>\n",
       "    </tr>\n",
       "    <tr>\n",
       "      <th>49998</th>\n",
       "      <td>going disagree previous comment side maltin on...</td>\n",
       "      <td>negative</td>\n",
       "    </tr>\n",
       "    <tr>\n",
       "      <th>49999</th>\n",
       "      <td>one expects star trek movie high art fan expec...</td>\n",
       "      <td>negative</td>\n",
       "    </tr>\n",
       "  </tbody>\n",
       "</table>\n",
       "<p>50000 rows × 2 columns</p>\n",
       "</div>"
      ],
      "text/plain": [
       "                                                  review sentiment\n",
       "0      one reviewer mentioned watching oz episode you...  positive\n",
       "1      wonderful little production br br filming tech...  positive\n",
       "2      thought wonderful way spend time hot summer we...  positive\n",
       "3      basically there family little boy jake think t...  negative\n",
       "4      petter matteis love time money visually stunni...  positive\n",
       "...                                                  ...       ...\n",
       "49995  thought movie right good job wasnt creative or...  positive\n",
       "49996  bad plot bad dialogue bad acting idiotic direc...  negative\n",
       "49997  catholic taught parochial elementary school nu...  negative\n",
       "49998  going disagree previous comment side maltin on...  negative\n",
       "49999  one expects star trek movie high art fan expec...  negative\n",
       "\n",
       "[50000 rows x 2 columns]"
      ]
     },
     "execution_count": 4,
     "metadata": {},
     "output_type": "execute_result"
    }
   ],
   "source": [
    "w_tokenizer = nltk.tokenize.WhitespaceTokenizer()\n",
    "lemmatizer = nltk.stem.WordNetLemmatizer()\n",
    "\n",
    "def lemmatize_text(text):\n",
    "    st = \"\"\n",
    "    for w in w_tokenizer.tokenize(text):\n",
    "        st = st + lemmatizer.lemmatize(w) + \" \"\n",
    "    return st\n",
    "\n",
    "data['review'] = data.review.apply(lemmatize_text)\n",
    "data"
   ]
  },
  {
   "cell_type": "code",
   "execution_count": 5,
   "id": "220a5664",
   "metadata": {},
   "outputs": [],
   "source": [
    "reviews = data['review'].values\n",
    "labels = data['sentiment'].values\n",
    "encoder = LabelEncoder()\n",
    "encoded_labels = encoder.fit_transform(labels)"
   ]
  },
  {
   "cell_type": "code",
   "execution_count": 6,
   "id": "bb63467e",
   "metadata": {},
   "outputs": [],
   "source": [
    "train_sentences, test_sentences, train_labels, test_labels = train_test_split(reviews, encoded_labels, stratify = encoded_labels)"
   ]
  },
  {
   "cell_type": "code",
   "execution_count": 7,
   "id": "87ef3ae3",
   "metadata": {},
   "outputs": [],
   "source": [
    "vec = CountVectorizer(max_features = 3000)\n",
    "X = vec.fit_transform(train_sentences)\n",
    "vocab = vec.get_feature_names_out()\n",
    "X = X.toarray()\n",
    "word_counts = {}\n",
    "for l in range(2):\n",
    "    word_counts[l] = defaultdict(lambda: 0)\n",
    "for i in range(X.shape[0]):\n",
    "    l = train_labels[i]\n",
    "    for j in range(len(vocab)):\n",
    "        word_counts[l][vocab[j]] += X[i][j]"
   ]
  },
  {
   "cell_type": "code",
   "execution_count": 8,
   "id": "f408ac0a",
   "metadata": {},
   "outputs": [],
   "source": [
    "def laplace_smoothing(n_label_items, vocab, word_counts, word, text_label):\n",
    "    a = word_counts[text_label][word] + 1\n",
    "    b = n_label_items[text_label] + len(vocab)\n",
    "    return math.log(a/b)"
   ]
  },
  {
   "cell_type": "code",
   "execution_count": 9,
   "id": "1fe0a6c4",
   "metadata": {},
   "outputs": [],
   "source": [
    "def group_by_label(x, y, labels):\n",
    "    data = {}\n",
    "    for l in labels:\n",
    "        data[l] = x[np.where(y == l)]\n",
    "    return data"
   ]
  },
  {
   "cell_type": "code",
   "execution_count": 10,
   "id": "55bdfb86",
   "metadata": {},
   "outputs": [],
   "source": [
    "def fit(x, y, labels):\n",
    "    n_label_items = {}\n",
    "    log_label_priors = {}\n",
    "    n = len(x)\n",
    "    grouped_data = group_by_label(x, y, labels)\n",
    "    for l, data in grouped_data.items():\n",
    "        n_label_items[l] = len(data)\n",
    "        log_label_priors[l] = math.log(n_label_items[l] / n)\n",
    "    return n_label_items, log_label_priors"
   ]
  },
  {
   "cell_type": "code",
   "execution_count": 11,
   "id": "7f23f744",
   "metadata": {},
   "outputs": [],
   "source": [
    "def predict(n_label_items, vocab, word_counts, log_label_priors, labels, x):\n",
    "    result = []\n",
    "    for text in x:\n",
    "        label_scores = {l: log_label_priors[l] for l in labels}\n",
    "        words = set(w_tokenizer.tokenize(text))\n",
    "        for word in words:\n",
    "            if word not in vocab: continue\n",
    "            for l in labels:\n",
    "                log_w_given_l = laplace_smoothing(n_label_items, vocab, word_counts, word, l)\n",
    "                label_scores[l] += log_w_given_l\n",
    "        result.append(max(label_scores, key=label_scores.get))\n",
    "        #result.append(label_scores)\n",
    "    return result"
   ]
  },
  {
   "cell_type": "code",
   "execution_count": 12,
   "id": "792239bb",
   "metadata": {},
   "outputs": [],
   "source": [
    "# TESTING\n",
    "# labels = [0,1]\n",
    "# n_label_items, log_label_priors = fit(train_sentences,train_labels,labels)\n",
    "# pred = predict(n_label_items, vocab, word_counts, log_label_priors, labels, ['i am good', 'i am bad'])\n",
    "# pred"
   ]
  },
  {
   "cell_type": "code",
   "execution_count": 13,
   "id": "03c4d409",
   "metadata": {},
   "outputs": [],
   "source": [
    "labels = [0,1]\n",
    "n_label_items, log_label_priors = fit(train_sentences,train_labels,labels)"
   ]
  },
  {
   "cell_type": "code",
   "execution_count": 14,
   "id": "e84b9dbd",
   "metadata": {},
   "outputs": [],
   "source": [
    "#pred = predict(n_label_items, vocab, word_counts, log_label_priors, labels, test_sentences)\n",
    "#print(\"Accuracy of prediction on test set : \", accuracy_score(test_labels,pred))"
   ]
  },
  {
   "cell_type": "markdown",
   "id": "6da2f72b",
   "metadata": {},
   "source": [
    "## Testing the model"
   ]
  },
  {
   "cell_type": "code",
   "execution_count": 15,
   "id": "e552b230",
   "metadata": {},
   "outputs": [],
   "source": [
    "data = ['I am happy', 'I am bad', 'this movie should have been great.', 'great', 'great great', 'great great great', 'great great great great']"
   ]
  },
  {
   "cell_type": "code",
   "execution_count": 16,
   "id": "b9d202bb",
   "metadata": {},
   "outputs": [
    {
     "ename": "FileNotFoundError",
     "evalue": "[Errno 2] No such file or directory: 'models/sentiment_model.pkl'",
     "output_type": "error",
     "traceback": [
      "\u001b[0;31m---------------------------------------------------------------------------\u001b[0m",
      "\u001b[0;31mFileNotFoundError\u001b[0m                         Traceback (most recent call last)",
      "Cell \u001b[0;32mIn[16], line 2\u001b[0m\n\u001b[1;32m      1\u001b[0m \u001b[38;5;28;01mimport\u001b[39;00m \u001b[38;5;21;01mpickle\u001b[39;00m\n\u001b[0;32m----> 2\u001b[0m pickle\u001b[38;5;241m.\u001b[39mdump(predict, \u001b[38;5;28;43mopen\u001b[39;49m\u001b[43m(\u001b[49m\u001b[38;5;124;43m'\u001b[39;49m\u001b[38;5;124;43mmodels/sentiment_model.pkl\u001b[39;49m\u001b[38;5;124;43m'\u001b[39;49m\u001b[43m,\u001b[49m\u001b[43m \u001b[49m\u001b[38;5;124;43m'\u001b[39;49m\u001b[38;5;124;43mwb\u001b[39;49m\u001b[38;5;124;43m'\u001b[39;49m\u001b[43m)\u001b[49m)\n",
      "File \u001b[0;32m/mnt/d/Documents/virtual-companion/backend/venv/lib/python3.8/site-packages/IPython/core/interactiveshell.py:282\u001b[0m, in \u001b[0;36m_modified_open\u001b[0;34m(file, *args, **kwargs)\u001b[0m\n\u001b[1;32m    275\u001b[0m \u001b[38;5;28;01mif\u001b[39;00m file \u001b[38;5;129;01min\u001b[39;00m {\u001b[38;5;241m0\u001b[39m, \u001b[38;5;241m1\u001b[39m, \u001b[38;5;241m2\u001b[39m}:\n\u001b[1;32m    276\u001b[0m     \u001b[38;5;28;01mraise\u001b[39;00m \u001b[38;5;167;01mValueError\u001b[39;00m(\n\u001b[1;32m    277\u001b[0m         \u001b[38;5;124mf\u001b[39m\u001b[38;5;124m\"\u001b[39m\u001b[38;5;124mIPython won\u001b[39m\u001b[38;5;124m'\u001b[39m\u001b[38;5;124mt let you open fd=\u001b[39m\u001b[38;5;132;01m{\u001b[39;00mfile\u001b[38;5;132;01m}\u001b[39;00m\u001b[38;5;124m by default \u001b[39m\u001b[38;5;124m\"\u001b[39m\n\u001b[1;32m    278\u001b[0m         \u001b[38;5;124m\"\u001b[39m\u001b[38;5;124mas it is likely to crash IPython. If you know what you are doing, \u001b[39m\u001b[38;5;124m\"\u001b[39m\n\u001b[1;32m    279\u001b[0m         \u001b[38;5;124m\"\u001b[39m\u001b[38;5;124myou can use builtins\u001b[39m\u001b[38;5;124m'\u001b[39m\u001b[38;5;124m open.\u001b[39m\u001b[38;5;124m\"\u001b[39m\n\u001b[1;32m    280\u001b[0m     )\n\u001b[0;32m--> 282\u001b[0m \u001b[38;5;28;01mreturn\u001b[39;00m \u001b[43mio_open\u001b[49m\u001b[43m(\u001b[49m\u001b[43mfile\u001b[49m\u001b[43m,\u001b[49m\u001b[43m \u001b[49m\u001b[38;5;241;43m*\u001b[39;49m\u001b[43margs\u001b[49m\u001b[43m,\u001b[49m\u001b[43m \u001b[49m\u001b[38;5;241;43m*\u001b[39;49m\u001b[38;5;241;43m*\u001b[39;49m\u001b[43mkwargs\u001b[49m\u001b[43m)\u001b[49m\n",
      "\u001b[0;31mFileNotFoundError\u001b[0m: [Errno 2] No such file or directory: 'models/sentiment_model.pkl'"
     ]
    }
   ],
   "source": [
    "import pickle\n",
    "pickle.dump(predict, open('models/sentiment_model.pkl', 'wb'))"
   ]
  },
  {
   "cell_type": "code",
   "execution_count": null,
   "id": "ba47c4d6",
   "metadata": {},
   "outputs": [],
   "source": [
    "loaded_model = pickle.load(open('models/sentiment_model.pkl', 'rb'))"
   ]
  },
  {
   "cell_type": "code",
   "execution_count": null,
   "id": "aff84ca6",
   "metadata": {},
   "outputs": [],
   "source": [
    "# loaded_model"
   ]
  },
  {
   "cell_type": "code",
   "execution_count": null,
   "id": "f1dc4e4c",
   "metadata": {},
   "outputs": [],
   "source": [
    "# loaded_model(n_label_items, vocab, word_counts, log_label_priors, labels, ['i am sad'])"
   ]
  },
  {
   "cell_type": "code",
   "execution_count": null,
   "id": "b0a05c88",
   "metadata": {},
   "outputs": [],
   "source": [
    "# arbitrary threshold for pos\n",
    "pos = 5\n",
    "neg = 0\n",
    "\n",
    "for text in data:\n",
    "    pred = predict(n_label_items, vocab, word_counts, log_label_priors, labels, [text])\n",
    "    if pred[0] == 1:\n",
    "        pos += 1\n",
    "    else:\n",
    "        neg += 1\n",
    "        \n",
    "    if pos < neg:\n",
    "        print(\"I think you're too sad\")\n",
    "        break\n",
    "print(pos, neg)"
   ]
  },
  {
   "cell_type": "code",
   "execution_count": 17,
   "id": "12f4ef3c",
   "metadata": {},
   "outputs": [
    {
     "name": "stdout",
     "output_type": "stream",
     "text": [
      "{0: 18750, 1: 18750} ['abandoned' 'ability' 'able' ... 'zero' 'zombie' 'zone'] {0: defaultdict(<function <lambda> at 0x7fcb1a037160>, {'abandoned': 157, 'ability': 387, 'able': 832, 'absolute': 278, 'absolutely': 1285, 'absurd': 291, 'abuse': 135, 'academy': 118, 'accent': 622, 'accept': 193, 'accepted': 101, 'accident': 220, 'accidentally': 157, 'according': 224, 'account': 182, 'accurate': 178, 'achieve': 115, 'achieved': 68, 'achievement': 57, 'across': 747, 'act': 1337, 'acted': 447, 'acting': 5798, 'action': 2386, 'activity': 93, 'actor': 5129, 'actress': 983, 'actual': 606, 'actually': 3744, 'ad': 157, 'adam': 241, 'adaptation': 342, 'adapted': 72, 'add': 848, 'added': 305, 'adding': 120, 'addition': 221, 'admit': 448, 'adult': 494, 'advance': 104, 'advantage': 93, 'adventure': 302, 'advice': 261, 'affair': 281, 'affect': 69, 'afraid': 243, 'africa': 115, 'african': 147, 'afternoon': 109, 'againbr': 104, 'age': 636, 'agent': 346, 'ago': 628, 'agree': 401, 'ahead': 243, 'aid': 101, 'aint': 177, 'air': 441, 'aired': 79, 'airplane': 117, 'aka': 185, 'al': 196, 'ala': 203, 'alan': 156, 'albeit': 86, 'albert': 75, 'alex': 172, 'alice': 104, 'alien': 711, 'alive': 357, 'allbr': 230, 'allen': 213, 'allow': 255, 'allowed': 254, 'allows': 100, 'almost': 2333, 'alone': 691, 'along': 1209, 'already': 1097, 'alright': 212, 'also': 5246, 'although': 1493, 'always': 1694, 'amateur': 265, 'amateurish': 267, 'amazed': 128, 'amazing': 375, 'amazingly': 120, 'america': 422, 'american': 1612, 'among': 454, 'amongst': 124, 'amount': 476, 'amusing': 411, 'ancient': 171, 'anderson': 131, 'andor': 134, 'andrew': 117, 'andy': 136, 'angel': 248, 'anger': 98, 'angle': 256, 'angry': 274, 'animal': 488, 'animated': 216, 'animation': 405, 'anime': 101, 'ann': 105, 'anna': 120, 'anne': 151, 'annoyed': 152, 'annoying': 1148, 'another': 3332, 'answer': 353, 'anthony': 159, 'anybody': 261, 'anymore': 264, 'anyone': 2116, 'anything': 2705, 'anyway': 862, 'anywhere': 253, 'apart': 485, 'apartment': 180, 'ape': 177, 'apparent': 263, 'apparently': 921, 'appeal': 364, 'appealing': 130, 'appear': 482, 'appearance': 349, 'appeared': 287, 'appearing': 110, 'appears': 671, 'appreciate': 275, 'appreciated': 47, 'approach': 213, 'appropriate': 127, 'area': 307, 'arent': 768, 'argument': 123, 'arm': 294, 'army': 324, 'arnold': 96, 'around': 2837, 'arrives': 103, 'art': 928, 'arthur': 138, 'artist': 241, 'artistic': 216, 'as': 176, 'ashamed': 190, 'asian': 220, 'aside': 379, 'ask': 525, 'asked': 228, 'asking': 201, 'asks': 206, 'asleep': 227, 'aspect': 526, 'assassin': 115, 'assistant': 151, 'assume': 224, 'atmosphere': 334, 'atmospheric': 75, 'atrocious': 241, 'attack': 462, 'attacked': 132, 'attempt': 1565, 'attempted': 130, 'attempting': 139, 'attention': 577, 'attitude': 204, 'attraction': 89, 'attractive': 269, 'audience': 1940, 'aunt': 86, 'australia': 81, 'australian': 137, 'authentic': 71, 'author': 201, 'authority': 87, 'available': 193, 'average': 559, 'avoid': 927, 'award': 279, 'aware': 159, 'away': 2071, 'awesome': 186, 'awful': 2226, 'awkward': 210, 'baby': 519, 'back': 3409, 'backdrop': 83, 'background': 463, 'bad': 10564, 'badbr': 186, 'badly': 778, 'bag': 167, 'balance': 72, 'ball': 271, 'band': 357, 'bank': 214, 'bar': 329, 'barbara': 109, 'barely': 503, 'barry': 84, 'base': 161, 'baseball': 82, 'based': 920, 'basement': 107, 'basic': 439, 'basically': 875, 'basis': 121, 'bat': 172, 'batman': 183, 'battle': 456, 'bbc': 128, 'beach': 196, 'bear': 237, 'beast': 169, 'beat': 323, 'beautiful': 872, 'beautifully': 87, 'beauty': 265, 'became': 431, 'become': 897, 'becomes': 915, 'becoming': 205, 'bed': 333, 'beer': 134, 'began': 213, 'begin': 954, 'beginning': 971, 'behavior': 203, 'behind': 871, 'being': 68, 'belief': 326, 'believable': 377, 'believe': 2117, 'believed': 137, 'bell': 103, 'belongs': 105, 'beloved': 93, 'ben': 303, 'benefit': 109, 'bergman': 72, 'besides': 306, 'best': 2984, 'bet': 186, 'better': 4835, 'betty': 43, 'beyond': 753, 'bible': 156, 'big': 2504, 'bigger': 194, 'biggest': 466, 'bill': 404, 'billy': 203, 'bird': 149, 'birth': 96, 'birthday': 86, 'bit': 2140, 'bitter': 78, 'bizarre': 387, 'black': 1530, 'blade': 97, 'blah': 225, 'blair': 175, 'blame': 353, 'bland': 316, 'blend': 46, 'blind': 184, 'blockbuster': 170, 'blonde': 218, 'blood': 973, 'bloody': 250, 'blow': 268, 'blown': 111, 'blue': 334, 'bmovie': 222, 'board': 245, 'boat': 254, 'bob': 186, 'bobby': 91, 'body': 1000, 'bollywood': 135, 'bomb': 286, 'bond': 144, 'bone': 173, 'book': 2258, 'boot': 123, 'border': 78, 'bore': 209, 'bored': 577, 'boredom': 167, 'boring': 2109, 'born': 212, 'bos': 224, 'bother': 589, 'bothered': 210, 'bottom': 440, 'bought': 370, 'bound': 85, 'box': 565, 'boy': 1408, 'boyfriend': 348, 'br': 43486, 'brad': 89, 'brain': 520, 'brave': 96, 'break': 566, 'breaking': 130, 'breast': 176, 'breath': 88, 'breathtaking': 38, 'brian': 151, 'bride': 110, 'bridge': 158, 'brief': 288, 'briefly': 101, 'bright': 225, 'brilliant': 375, 'brilliantly': 50, 'bring': 565, 'bringing': 143, 'brings': 298, 'britain': 68, 'british': 509, 'broadcast': 73, 'broadway': 114, 'broke': 89, 'broken': 190, 'brook': 85, 'brother': 940, 'brought': 427, 'brown': 172, 'bruce': 252, 'brutal': 143, 'buck': 225, 'buddy': 256, 'budget': 1561, 'buff': 111, 'bug': 117, 'build': 289, 'building': 383, 'built': 156, 'bullet': 192, 'bunch': 846, 'burn': 189, 'burt': 82, 'burton': 101, 'bus': 142, 'business': 380, 'busy': 98, 'butt': 125, 'button': 142, 'buy': 584, 'buying': 143, 'cable': 197, 'cage': 156, 'caine': 108, 'california': 122, 'call': 1076, 'called': 1086, 'calling': 184, 'came': 1196, 'cameo': 224, 'camera': 1634, 'camerawork': 118, 'camp': 361, 'campy': 157, 'canadian': 165, 'candy': 188, 'cannibal': 179, 'cannot': 857, 'cant': 3349, 'capable': 163, 'captain': 267, 'capture': 196, 'captured': 162, 'car': 1204, 'card': 175, 'care': 1406, 'career': 696, 'carefully': 69, 'caring': 112, 'carpenter': 85, 'carried': 107, 'carry': 347, 'carrying': 115, 'cartoon': 508, 'case': 1253, 'cash': 206, 'cast': 2382, 'casting': 402, 'castle': 137, 'cat': 381, 'catch': 307, 'category': 183, 'catherine': 129, 'caught': 333, 'cause': 538, 'caused': 147, 'cave': 161, 'celebrity': 84, 'cell': 173, 'center': 166, 'central': 254, 'century': 304, 'certain': 533, 'certainly': 941, 'cgi': 338, 'chain': 85, 'chair': 152, 'challenge': 113, 'chan': 104, 'chance': 706, 'change': 873, 'changed': 323, 'changing': 131, 'channel': 487, 'chaplin': 109, 'character': 10417, 'characterization': 136, 'charge': 149, 'charles': 264, 'charlie': 220, 'charm': 265, 'charming': 164, 'chase': 466, 'chasing': 112, 'cheap': 991, 'check': 537, 'checking': 80, 'cheese': 170, 'cheesy': 625, 'chemistry': 282, 'chick': 308, 'chief': 135, 'child': 1654, 'childhood': 135, 'childrens': 154, 'chilling': 54, 'china': 84, 'chinese': 185, 'choice': 441, 'choose': 176, 'chose': 152, 'chosen': 142, 'chris': 275, 'christian': 420, 'christmas': 352, 'christopher': 217, 'chuck': 143, 'church': 288, 'cinema': 890, 'cinematic': 293, 'cinematography': 567, 'circle': 98, 'circumstance': 155, 'citizen': 124, 'city': 654, 'civil': 69, 'claim': 344, 'clark': 112, 'class': 570, 'classic': 1018, 'clean': 142, 'clear': 611, 'clearly': 712, 'clever': 349, 'cliche': 144, 'cliché': 379, 'clichéd': 228, 'clichés': 332, 'climax': 269, 'clip': 176, 'close': 804, 'closely': 87, 'closer': 98, 'closeup': 152, 'closing': 128, 'clothes': 281, 'club': 314, 'clue': 293, 'coach': 118, 'code': 119, 'cold': 318, 'collection': 203, 'college': 376, 'color': 305, 'colorful': 59, 'colour': 95, 'columbo': 54, 'combination': 134, 'combine': 74, 'combined': 112, 'come': 4077, 'comedian': 178, 'comedic': 168, 'comedy': 2305, 'comic': 552, 'comical': 131, 'coming': 730, 'comment': 1091, 'commentary': 221, 'commercial': 315, 'committed': 146, 'common': 382, 'community': 185, 'company': 436, 'compare': 232, 'compared': 383, 'comparison': 226, 'compelling': 157, 'competent': 116, 'competition': 77, 'complaint': 76, 'complete': 956, 'completely': 1810, 'complex': 152, 'complicated': 95, 'computer': 415, 'con': 108, 'concept': 509, 'concern': 131, 'concerned': 193, 'concert': 78, 'conclusion': 369, 'condition': 128, 'conflict': 219, 'confused': 331, 'confusing': 360, 'confusion': 96, 'connected': 97, 'connection': 249, 'consequence': 80, 'consider': 331, 'considered': 318, 'considering': 448, 'consists': 143, 'conspiracy': 133, 'constant': 211, 'constantly': 293, 'contact': 121, 'contain': 138, 'contains': 251, 'contemporary': 118, 'content': 271, 'context': 196, 'continue': 209, 'continues': 148, 'continuity': 221, 'contrast': 90, 'contrived': 281, 'control': 353, 'controversial': 99, 'conversation': 207, 'convey': 108, 'convince': 185, 'convinced': 132, 'convincing': 339, 'cool': 775, 'cooper': 80, 'cop': 802, 'copy': 481, 'core': 148, 'corner': 118, 'corny': 225, 'correct': 175, 'cost': 455, 'costume': 435, 'could': 6797, 'couldnt': 1550, 'couldve': 170, 'count': 338, 'country': 602, 'couple': 1485, 'courage': 54, 'course': 1683, 'court': 87, 'cousin': 132, 'cover': 620, 'covered': 151, 'cowboy': 131, 'crack': 122, 'crafted': 42, 'crap': 1205, 'crappy': 316, 'crash': 243, 'crazy': 446, 'create': 389, 'created': 338, 'creates': 101, 'creating': 203, 'creation': 109, 'creative': 226, 'creator': 149, 'creature': 537, 'credibility': 175, 'credible': 105, 'credit': 975, 'creepy': 416, 'crew': 511, 'crime': 511, 'criminal': 268, 'crisis': 75, 'critic': 304, 'critical': 119, 'criticism': 113, 'cross': 212, 'crowd': 184, 'crude': 148, 'cruel': 148, 'cry': 404, 'cult': 343, 'cultural': 98, 'culture': 272, 'cure': 105, 'curious': 186, 'current': 168, 'curse': 154, 'cut': 1035, 'cute': 388, 'cutting': 158, 'cynical': 71, 'dad': 325, 'daily': 86, 'damn': 306, 'dan': 127, 'dance': 452, 'dancer': 143, 'dancing': 283, 'danger': 174, 'dangerous': 193, 'daniel': 117, 'danny': 151, 'dare': 123, 'dark': 828, 'darkness': 160, 'date': 312, 'dated': 123, 'daughter': 881, 'dave': 89, 'david': 550, 'davis': 113, 'dawn': 106, 'day': 2311, 'de': 408, 'dead': 1483, 'deadly': 152, 'deal': 580, 'dealing': 146, 'dealt': 69, 'dean': 173, 'dear': 158, 'death': 1432, 'debut': 111, 'decade': 247, 'decent': 1191, 'decide': 411, 'decided': 627, 'decides': 364, 'decision': 237, 'deep': 391, 'deeper': 82, 'deeply': 136, 'definitely': 757, 'degree': 181, 'delight': 53, 'delightful': 44, 'deliver': 268, 'delivered': 183, 'delivers': 163, 'delivery': 133, 'demand': 133, 'demon': 323, 'dennis': 133, 'department': 170, 'depicted': 113, 'depiction': 131, 'depressing': 170, 'depth': 383, 'describe': 261, 'described': 187, 'description': 150, 'desert': 243, 'deserve': 285, 'deserved': 156, 'deserves': 331, 'design': 247, 'designed': 144, 'desire': 169, 'desperate': 217, 'desperately': 146, 'despite': 943, 'destroy': 201, 'destroyed': 169, 'detail': 454, 'detective': 263, 'determined': 84, 'develop': 159, 'developed': 260, 'development': 553, 'device': 206, 'devil': 211, 'dialog': 900, 'dialogue': 1532, 'diamond': 115, 'dick': 131, 'didnt': 4081, 'die': 625, 'died': 336, 'difference': 317, 'different': 1234, 'difficult': 419, 'difficulty': 65, 'dig': 107, 'dinner': 103, 'dinosaur': 211, 'direct': 234, 'directed': 793, 'directing': 496, 'direction': 1174, 'directly': 154, 'director': 3731, 'dirty': 183, 'disagree': 82, 'disappointed': 786, 'disappointing': 473, 'disappointment': 438, 'disaster': 357, 'disbelief': 160, 'discover': 190, 'discovered': 141, 'discovers': 127, 'discovery': 73, 'discussion': 96, 'disgusting': 243, 'dislike': 123, 'disney': 374, 'display': 215, 'disturbing': 291, 'doctor': 517, 'documentary': 576, 'doesnt': 3856, 'dog': 712, 'doll': 151, 'dollar': 330, 'donald': 105, 'done': 2215, 'dont': 7744, 'door': 440, 'double': 206, 'doubt': 624, 'douglas': 128, 'downright': 178, 'dozen': 238, 'dr': 501, 'dracula': 173, 'drag': 354, 'dragged': 134, 'dragon': 204, 'drama': 794, 'dramatic': 371, 'draw': 182, 'drawing': 91, 'drawn': 216, 'dreadful': 306, 'dream': 499, 'dress': 188, 'dressed': 219, 'drew': 111, 'drink': 204, 'drinking': 128, 'drive': 375, 'driven': 86, 'driver': 188, 'driving': 219, 'drop': 237, 'drug': 589, 'drunk': 232, 'dry': 176, 'dubbed': 185, 'dude': 260, 'due': 605, 'duke': 126, 'dull': 951, 'dumb': 662, 'duty': 87, 'dvd': 1423, 'dy': 327, 'dying': 243, 'dynamic': 65, 'ear': 148, 'earlier': 403, 'early': 937, 'earth': 661, 'easily': 563, 'east': 126, 'eastwood': 44, 'easy': 400, 'eat': 246, 'eating': 207, 'ed': 361, 'eddie': 147, 'edge': 198, 'edited': 226, 'editing': 684, 'editor': 132, 'edward': 154, 'effect': 2510, 'effective': 230, 'effectively': 83, 'effort': 891, 'eg': 142, 'eight': 113, 'either': 1612, 'el': 118, 'element': 736, 'elizabeth': 124, 'else': 1727, 'embarrassed': 189, 'embarrassing': 269, 'emma': 63, 'emotion': 413, 'emotional': 316, 'emotionally': 110, 'empty': 245, 'encounter': 207, 'end': 4780, 'endbr': 135, 'ended': 452, 'ending': 1713, 'endless': 254, 'enemy': 206, 'energy': 223, 'engaging': 143, 'england': 127, 'english': 633, 'enjoy': 998, 'enjoyable': 356, 'enjoyed': 529, 'enjoying': 87, 'enjoyment': 102, 'enough': 2895, 'ensemble': 48, 'enter': 148, 'entertain': 113, 'entertained': 147, 'entertaining': 837, 'entertainment': 541, 'entire': 1227, 'entirely': 405, 'entry': 141, 'environment': 97, 'epic': 224, 'episode': 1338, 'equal': 109, 'equally': 235, 'era': 268, 'eric': 130, 'erotic': 121, 'error': 153, 'escape': 485, 'especially': 1326, 'essence': 67, 'essential': 54, 'essentially': 191, 'established': 90, 'etc': 864, 'europe': 109, 'european': 198, 'even': 11298, 'evening': 133, 'event': 735, 'eventually': 453, 'ever': 4812, 'every': 3011, 'everybody': 269, 'everyday': 71, 'everyone': 1435, 'everything': 1760, 'everywhere': 114, 'evidence': 204, 'evil': 1116, 'exact': 156, 'exactly': 779, 'example': 1233, 'excellent': 531, 'except': 1012, 'exception': 382, 'exceptional': 38, 'excited': 196, 'excitement': 163, 'exciting': 304, 'excuse': 526, 'executed': 188, 'execution': 190, 'executive': 126, 'exercise': 138, 'exist': 201, 'existence': 166, 'exists': 107, 'expect': 885, 'expectation': 342, 'expected': 553, 'expecting': 451, 'experience': 685, 'experienced': 133, 'experiment': 214, 'expert': 139, 'explain': 422, 'explained': 267, 'explains': 156, 'explanation': 334, 'exploitation': 189, 'explosion': 177, 'express': 165, 'expression': 225, 'extent': 116, 'extra': 360, 'extraordinary': 45, 'extreme': 256, 'extremely': 807, 'eye': 1220, 'fabulous': 45, 'face': 1370, 'faced': 67, 'facial': 130, 'fact': 2899, 'factor': 193, 'fail': 256, 'failed': 486, 'fails': 682, 'failure': 264, 'fair': 382, 'fairly': 475, 'fairy': 100, 'faith': 166, 'faithful': 74, 'fake': 572, 'fall': 1238, 'fallen': 107, 'falling': 257, 'false': 147, 'fame': 132, 'familiar': 286, 'family': 1701, 'famous': 383, 'fan': 2295, 'fancy': 114, 'fantastic': 213, 'fantasy': 410, 'far': 2390, 'fare': 139, 'farm': 100, 'fascinating': 129, 'fashion': 267, 'fast': 534, 'fat': 296, 'fate': 153, 'father': 1108, 'fault': 256, 'favor': 260, 'favorite': 450, 'favourite': 111, 'fbi': 126, 'fear': 373, 'feature': 956, 'featured': 136, 'featuring': 175, 'feel': 2520, 'feeling': 908, 'fell': 311, 'fellow': 187, 'felt': 1208, 'female': 869, 'festival': 254, 'fiction': 282, 'fictional': 99, 'field': 286, 'fight': 1105, 'fighter': 121, 'fighting': 416, 'figure': 645, 'figured': 186, 'fill': 254, 'filled': 309, 'film': 31725, 'filmbr': 623, 'filmed': 561, 'filming': 322, 'filmmaker': 814, 'filmmaking': 283, 'final': 933, 'finale': 158, 'finally': 1021, 'find': 3264, 'finding': 249, 'fine': 712, 'finest': 65, 'finger': 149, 'finish': 357, 'finished': 229, 'fire': 555, 'first': 6132, 'fish': 178, 'fit': 459, 'five': 685, 'flash': 168, 'flashback': 322, 'flat': 550, 'flaw': 307, 'flawed': 101, 'flesh': 188, 'flick': 1418, 'flight': 132, 'floor': 243, 'flow': 148, 'fly': 262, 'flying': 219, 'focus': 415, 'focused': 103, 'folk': 361, 'follow': 441, 'followed': 233, 'following': 384, 'follows': 286, 'food': 219, 'fool': 205, 'foot': 357, 'footage': 591, 'football': 180, 'force': 518, 'forced': 589, 'ford': 137, 'foreign': 157, 'forest': 184, 'forever': 245, 'forget': 513, 'forgettable': 241, 'forgot': 184, 'forgotten': 201, 'form': 478, 'format': 100, 'former': 327, 'formula': 180, 'forth': 152, 'fortunately': 92, 'fortune': 93, 'forward': 513, 'foster': 98, 'found': 1855, 'four': 632, 'fourth': 119, 'fox': 183, 'frame': 190, 'france': 144, 'franchise': 164, 'frank': 227, 'frankly': 245, 'freak': 181, 'fred': 150, 'freddy': 139, 'free': 510, 'freedom': 68, 'freeman': 86, 'french': 463, 'frequently': 110, 'fresh': 180, 'friday': 172, 'friend': 2118, 'friendly': 73, 'friendship': 74, 'frightening': 97, 'front': 507, 'fu': 95, 'full': 1122, 'fully': 219, 'fun': 1502, 'funnier': 132, 'funniest': 152, 'funny': 3270, 'future': 458, 'gag': 321, 'gain': 95, 'game': 1069, 'gang': 396, 'gangster': 213, 'garbage': 579, 'gary': 148, 'gas': 138, 'gate': 107, 'gave': 949, 'gay': 601, 'gem': 136, 'gene': 110, 'general': 554, 'generally': 373, 'generation': 183, 'genius': 254, 'genre': 810, 'gentleman': 65, 'genuine': 136, 'genuinely': 153, 'george': 522, 'german': 414, 'germany': 104, 'get': 10095, 'getting': 1373, 'ghost': 490, 'giant': 441, 'gift': 88, 'girl': 2984, 'girlfriend': 496, 'give': 3550, 'given': 1465, 'giving': 598, 'glad': 266, 'glass': 173, 'glimpse': 102, 'glory': 68, 'go': 5640, 'goal': 121, 'god': 1099, 'godfather': 107, 'going': 3420, 'gold': 200, 'golden': 136, 'gone': 617, 'gonna': 239, 'good': 10644, 'goodbr': 114, 'goofy': 173, 'gordon': 129, 'gore': 957, 'gorgeous': 150, 'gory': 212, 'got': 2939, 'gotten': 200, 'government': 269, 'grab': 137, 'grace': 250, 'grade': 382, 'grand': 146, 'grandfather': 54, 'grant': 147, 'granted': 137, 'graphic': 263, 'gratuitous': 205, 'grave': 162, 'great': 3794, 'greater': 90, 'greatest': 287, 'greatly': 86, 'greek': 117, 'green': 261, 'grew': 124, 'gripping': 42, 'gritty': 68, 'gross': 127, 'ground': 292, 'group': 918, 'grow': 154, 'growing': 132, 'grown': 140, 'gruesome': 125, 'guard': 194, 'guess': 1299, 'guessing': 85, 'guest': 156, 'guide': 104, 'guilty': 137, 'gun': 713, 'gut': 116, 'guy': 4221, 'ha': 172, 'hadnt': 232, 'hair': 422, 'half': 1700, 'halfway': 215, 'hall': 124, 'halloween': 173, 'hamlet': 89, 'hand': 1233, 'handle': 157, 'handled': 149, 'handsome': 121, 'hang': 186, 'hanging': 166, 'hank': 74, 'happen': 810, 'happened': 861, 'happening': 317, 'happens': 931, 'happily': 89, 'happiness': 54, 'happy': 495, 'hard': 1875, 'hardcore': 102, 'hardly': 519, 'hardy': 135, 'harris': 121, 'harry': 185, 'harsh': 132, 'hasnt': 226, 'hat': 176, 'hate': 716, 'hated': 285, 'haunted': 140, 'haunting': 63, 'havent': 537, 'hbo': 71, 'he': 2242, 'head': 1475, 'hear': 551, 'heard': 812, 'hearing': 162, 'heart': 604, 'heaven': 193, 'heavily': 130, 'heavy': 236, 'heck': 224, 'hed': 151, 'held': 210, 'helen': 92, 'hell': 1022, 'help': 1435, 'helped': 203, 'helping': 99, 'hence': 123, 'henry': 161, 'here': 263, 'herebr': 161, 'hero': 989, 'heroic': 84, 'heroine': 218, 'hey': 378, 'hidden': 179, 'hide': 190, 'hiding': 100, 'high': 1435, 'higher': 167, 'highlight': 209, 'highly': 434, 'hilarious': 479, 'hill': 274, 'himbr': 143, 'hint': 183, 'hire': 166, 'hired': 163, 'historical': 272, 'history': 715, 'hit': 852, 'hitchcock': 188, 'hitler': 156, 'hoffman': 57, 'hold': 529, 'holding': 153, 'hole': 527, 'holiday': 127, 'hollywood': 1205, 'holmes': 84, 'homage': 112, 'home': 1148, 'honest': 320, 'honestly': 466, 'hong': 69, 'honor': 93, 'hood': 130, 'hook': 115, 'hooked': 53, 'hope': 1209, 'hopefully': 161, 'hoping': 417, 'horrible': 1599, 'horribly': 269, 'horrific': 112, 'horror': 2932, 'horse': 273, 'hospital': 251, 'host': 130, 'hot': 529, 'hotel': 224, 'hour': 1923, 'house': 1494, 'howard': 170, 'however': 2582, 'huge': 793, 'human': 1038, 'humanity': 142, 'humor': 851, 'humorous': 139, 'humour': 281, 'hundred': 249, 'hunt': 142, 'hunter': 251, 'hurt': 347, 'husband': 615, 'ice': 177, 'id': 1100, 'idea': 2378, 'ideal': 60, 'identity': 127, 'idiot': 352, 'idiotic': 193, 'ie': 218, 'ignore': 103, 'ii': 242, 'ill': 981, 'image': 519, 'imagery': 101, 'imagination': 265, 'imaginative': 69, 'imagine': 629, 'imdb': 592, 'immediately': 324, 'impact': 170, 'important': 485, 'impossible': 389, 'impressed': 149, 'impression': 330, 'impressive': 242, 'incident': 123, 'include': 267, 'included': 184, 'includes': 183, 'including': 587, 'incredible': 202, 'incredibly': 539, 'indeed': 431, 'independent': 192, 'india': 79, 'indian': 351, 'indie': 150, 'individual': 167, 'industry': 272, 'inept': 188, 'infamous': 95, 'influence': 131, 'information': 212, 'initial': 135, 'initially': 95, 'inner': 85, 'innocence': 57, 'innocent': 220, 'insane': 194, 'inside': 411, 'insight': 123, 'inspiration': 92, 'inspired': 171, 'instance': 249, 'instantly': 103, 'instead': 2096, 'insult': 326, 'intellectual': 119, 'intelligence': 242, 'intelligent': 288, 'intended': 339, 'intense': 129, 'intensity': 68, 'intent': 118, 'intention': 229, 'interaction': 106, 'interest': 818, 'interested': 413, 'interesting': 2457, 'international': 126, 'internet': 110, 'interpretation': 101, 'interview': 259, 'intriguing': 188, 'introduced': 235, 'introduction': 133, 'investigation': 89, 'invisible': 107, 'involved': 842, 'involves': 178, 'involving': 349, 'irish': 119, 'ironic': 89, 'irony': 91, 'irritating': 279, 'isbr': 146, 'island': 556, 'isnt': 2786, 'issue': 424, 'italian': 396, 'italy': 87, 'itbr': 822, 'ive': 2612, 'jack': 544, 'jackie': 115, 'jackson': 168, 'jail': 138, 'james': 550, 'jamie': 90, 'jane': 238, 'japan': 117, 'japanese': 415, 'jason': 218, 'jaw': 141, 'jay': 97, 'jean': 136, 'jeff': 145, 'jennifer': 164, 'jerk': 151, 'jerry': 232, 'jessica': 110, 'jesus': 251, 'jewish': 109, 'jim': 271, 'jimmy': 104, 'joan': 131, 'job': 1306, 'joe': 402, 'john': 1225, 'johnny': 155, 'johnson': 130, 'join': 174, 'joke': 1479, 'jon': 92, 'jonathan': 69, 'jones': 307, 'joseph': 120, 'journey': 155, 'joy': 142, 'jr': 185, 'judge': 219, 'julia': 94, 'julie': 101, 'jump': 326, 'jungle': 179, 'junk': 213, 'justice': 235, 'kane': 139, 'karen': 100, 'kate': 125, 'keaton': 139, 'keep': 1497, 'keeping': 147, 'kelly': 168, 'kennedy': 81, 'kept': 647, 'kevin': 232, 'key': 236, 'kick': 287, 'kid': 2383, 'kill': 1577, 'killed': 1066, 'killer': 1348, 'killing': 740, 'kim': 117, 'kind': 2375, 'kinda': 218, 'king': 581, 'kiss': 152, 'knew': 650, 'knife': 144, 'knock': 118, 'know': 5539, 'knowing': 247, 'knowledge': 196, 'known': 598, 'kong': 131, 'korean': 92, 'kudos': 55, 'kung': 72, 'la': 455, 'lack': 1389, 'lacked': 151, 'lacking': 248, 'lady': 693, 'lake': 196, 'lame': 873, 'land': 325, 'landscape': 88, 'lane': 116, 'language': 325, 'large': 409, 'largely': 157, 'larry': 138, 'last': 2013, 'late': 629, 'later': 1243, 'latest': 146, 'latter': 205, 'laugh': 1715, 'laughable': 536, 'laughed': 308, 'laughing': 440, 'laughter': 162, 'laura': 91, 'laurel': 124, 'law': 314, 'lawyer': 136, 'lay': 122, 'lazy': 181, 'le': 1542, 'lead': 1487, 'leader': 214, 'leading': 396, 'leaf': 456, 'league': 113, 'learn': 460, 'learned': 172, 'learning': 102, 'learns': 97, 'least': 2942, 'leave': 777, 'leaving': 319, 'led': 201, 'lee': 556, 'left': 1706, 'leg': 223, 'legend': 215, 'legendary': 85, 'length': 197, 'lesbian': 236, 'lesson': 226, 'let': 2277, 'letter': 191, 'letting': 125, 'level': 791, 'lewis': 203, 'lie': 326, 'life': 3951, 'lifebr': 88, 'lifetime': 123, 'light': 611, 'lighting': 330, 'likable': 222, 'like': 16784, 'liked': 863, 'likely': 337, 'limit': 93, 'limited': 213, 'line': 2728, 'link': 80, 'lion': 108, 'lip': 111, 'lisa': 117, 'list': 463, 'listen': 219, 'listening': 120, 'literally': 383, 'little': 4428, 'live': 849, 'lived': 218, 'living': 630, 'lloyd': 107, 'load': 189, 'local': 695, 'location': 448, 'locked': 114, 'logic': 238, 'london': 248, 'lonely': 81, 'long': 2362, 'longer': 340, 'look': 5496, 'looked': 1043, 'looking': 1949, 'loose': 245, 'lord': 226, 'los': 94, 'lose': 212, 'loser': 189, 'loses': 178, 'losing': 137, 'loss': 164, 'lost': 998, 'lot': 3404, 'loud': 321, 'louis': 69, 'lousy': 275, 'lovable': 64, 'love': 3323, 'loved': 495, 'lovely': 179, 'lover': 326, 'loving': 121, 'low': 1310, 'lowbudget': 250, 'lower': 180, 'luck': 169, 'lucky': 133, 'lucy': 77, 'ludicrous': 181, 'luke': 84, 'lying': 119, 'lynch': 120, 'machine': 346, 'mad': 385, 'made': 6258, 'madness': 79, 'magazine': 105, 'magic': 241, 'magical': 84, 'magnificent': 81, 'main': 1870, 'mainly': 275, 'mainstream': 93, 'major': 692, 'majority': 192, 'make': 9469, 'maker': 469, 'makeup': 357, 'making': 2115, 'male': 571, 'man': 3518, 'manage': 228, 'managed': 332, 'manager': 83, 'manages': 389, 'manner': 262, 'many': 4273, 'maria': 74, 'mark': 454, 'market': 129, 'marriage': 183, 'married': 283, 'marry': 121, 'martial': 237, 'martin': 275, 'marvelous': 37, 'mary': 276, 'mask': 241, 'mass': 153, 'massacre': 174, 'massive': 153, 'master': 336, 'masterpiece': 286, 'match': 354, 'mate': 123, 'material': 617, 'matrix': 122, 'matt': 162, 'matter': 1006, 'matthew': 90, 'mature': 75, 'max': 152, 'may': 2065, 'maybe': 2088, 'mean': 2116, 'meaning': 340, 'meaningful': 103, 'meant': 481, 'meanwhile': 170, 'mebr': 191, 'medical': 119, 'mediocre': 408, 'medium': 244, 'meet': 758, 'meeting': 171, 'melodrama': 120, 'member': 621, 'memorable': 276, 'memory': 310, 'men': 1182, 'mental': 198, 'mentally': 123, 'mention': 773, 'mentioned': 415, 'mere': 113, 'merely': 290, 'merit': 159, 'mess': 731, 'message': 628, 'met': 173, 'metal': 102, 'method': 129, 'mexican': 180, 'mexico': 103, 'mgm': 70, 'michael': 827, 'michelle': 91, 'mickey': 101, 'middle': 641, 'midnight': 71, 'might': 2463, 'mike': 215, 'mildly': 217, 'mile': 262, 'military': 357, 'miller': 104, 'million': 436, 'mind': 1375, 'mindless': 155, 'mine': 211, 'miniseries': 108, 'minor': 250, 'minute': 3689, 'mirror': 131, 'miss': 581, 'missed': 368, 'missing': 446, 'mission': 199, 'mistake': 509, 'mix': 264, 'mixed': 169, 'mob': 119, 'model': 254, 'modern': 478, 'mom': 293, 'moment': 1746, 'money': 2185, 'monkey': 212, 'monster': 1072, 'month': 293, 'mood': 274, 'moon': 234, 'moore': 225, 'moral': 263, 'morgan': 130, 'morning': 195, 'mostly': 716, 'mother': 893, 'motif': 118, 'motion': 309, 'motivation': 196, 'mountain': 176, 'mouse': 89, 'mouth': 324, 'move': 867, 'moved': 162, 'movement': 198, 'movie': 41516, 'moviebr': 783, 'moviesbr': 111, 'moving': 368, 'mr': 1055, 'much': 7394, 'multiple': 123, 'murder': 796, 'murdered': 218, 'murderer': 144, 'murphy': 122, 'music': 1783, 'musical': 503, 'musician': 70, 'must': 2223, 'mysterious': 258, 'mystery': 533, 'nail': 105, 'naive': 107, 'naked': 390, 'name': 1663, 'named': 549, 'nancy': 43, 'narration': 141, 'narrative': 248, 'nasty': 281, 'nation': 120, 'national': 158, 'native': 258, 'natural': 201, 'naturally': 196, 'nature': 349, 'nazi': 172, 'near': 605, 'nearly': 590, 'necessarily': 109, 'necessary': 190, 'neck': 125, 'need': 1992, 'needed': 574, 'needle': 148, 'negative': 275, 'neighbor': 112, 'neither': 498, 'nelson': 109, 'network': 180, 'never': 4938, 'nevertheless': 87, 'new': 2554, 'news': 245, 'newspaper': 99, 'next': 1305, 'nice': 1215, 'nicely': 119, 'nick': 209, 'night': 1513, 'nightmare': 268, 'nine': 98, 'ninja': 137, 'nobody': 432, 'noir': 82, 'noise': 179, 'nominated': 71, 'nomination': 50, 'non': 119, 'none': 918, 'nonetheless': 89, 'nonexistent': 220, 'nonsense': 292, 'normal': 294, 'normally': 237, 'north': 128, 'nose': 131, 'notable': 92, 'note': 508, 'noted': 92, 'nothing': 4388, 'notice': 316, 'noticed': 197, 'notorious': 84, 'novel': 711, 'nowadays': 76, 'nowhere': 464, 'nuclear': 137, 'nude': 146, 'nudity': 525, 'number': 859, 'numerous': 210, 'nurse': 144, 'object': 172, 'obnoxious': 183, 'obsessed': 132, 'obsession': 81, 'obvious': 942, 'obviously': 1095, 'occasion': 108, 'occasional': 142, 'occasionally': 182, 'ocean': 115, 'odd': 400, 'oddly': 112, 'offensive': 200, 'offer': 463, 'offered': 137, 'offering': 87, 'office': 343, 'officer': 249, 'official': 72, 'often': 886, 'oh': 1583, 'ok': 1090, 'okay': 755, 'old': 2940, 'older': 356, 'oliver': 91, 'onbr': 142, 'one': 19428, 'onebr': 205, 'onto': 265, 'open': 609, 'opened': 119, 'opening': 752, 'opera': 276, 'opinion': 653, 'opportunity': 309, 'opposite': 195, 'order': 784, 'ordinary': 167, 'original': 2734, 'originality': 156, 'originally': 159, 'oscar': 309, 'others': 967, 'otherwise': 588, 'outbr': 116, 'outcome': 85, 'outer': 134, 'outfit': 141, 'outside': 409, 'outstanding': 99, 'overall': 981, 'overcome': 65, 'overly': 180, 'overthetop': 155, 'owner': 174, 'pace': 340, 'paced': 90, 'pacing': 269, 'pack': 134, 'page': 196, 'paid': 393, 'pain': 301, 'painful': 456, 'painfully': 250, 'paint': 218, 'painting': 93, 'pair': 190, 'paper': 238, 'par': 123, 'parallel': 83, 'parent': 552, 'paris': 177, 'park': 284, 'parker': 96, 'parody': 220, 'part': 3656, 'particular': 421, 'particularly': 669, 'partner': 201, 'party': 483, 'pas': 362, 'passed': 159, 'passing': 113, 'passion': 183, 'past': 725, 'pat': 91, 'path': 122, 'pathetic': 597, 'patient': 144, 'patrick': 116, 'paul': 389, 'pay': 594, 'paying': 167, 'peace': 114, 'people': 7020, 'perfect': 532, 'perfectly': 211, 'perform': 95, 'performance': 2166, 'performed': 117, 'performer': 141, 'perhaps': 1158, 'period': 435, 'person': 1265, 'persona': 83, 'personal': 310, 'personality': 272, 'personally': 276, 'perspective': 136, 'pet': 100, 'peter': 481, 'philip': 63, 'phone': 321, 'photo': 114, 'photography': 250, 'physical': 169, 'physically': 97, 'piano': 77, 'pick': 449, 'picked': 272, 'picture': 1191, 'piece': 1561, 'pile': 254, 'pilot': 191, 'pitch': 87, 'pitt': 65, 'pity': 181, 'place': 1907, 'placed': 128, 'plain': 594, 'plan': 456, 'plane': 363, 'planet': 316, 'plant': 98, 'plastic': 167, 'play': 2679, 'played': 1531, 'player': 357, 'playing': 1116, 'pleasant': 100, 'please': 945, 'pleasure': 172, 'plenty': 379, 'plot': 6094, 'plus': 499, 'poignant': 37, 'point': 3200, 'pointless': 648, 'police': 735, 'political': 322, 'politics': 118, 'pool': 109, 'poor': 2240, 'poorly': 914, 'pop': 282, 'popular': 302, 'porn': 365, 'portrait': 56, 'portray': 181, 'portrayal': 273, 'portrayed': 350, 'portraying': 119, 'portrays': 110, 'position': 132, 'positive': 483, 'posse': 100, 'possibility': 147, 'possible': 806, 'possibly': 600, 'post': 198, 'poster': 157, 'potential': 518, 'powell': 44, 'power': 779, 'powerful': 194, 'practically': 195, 'praise': 135, 'predator': 155, 'predictable': 902, 'prefer': 136, 'pregnant': 144, 'premise': 718, 'prepared': 135, 'presence': 279, 'present': 437, 'presentation': 99, 'presented': 278, 'president': 169, 'press': 99, 'pretend': 145, 'pretentious': 264, 'pretty': 3141, 'preview': 145, 'previous': 460, 'previously': 136, 'price': 187, 'priest': 257, 'prime': 116, 'prince': 96, 'princess': 97, 'principal': 107, 'print': 122, 'prior': 129, 'prison': 339, 'prisoner': 164, 'private': 193, 'probably': 2148, 'problem': 1953, 'process': 233, 'produce': 211, 'produced': 394, 'producer': 760, 'product': 232, 'production': 1516, 'prof': 203, 'professional': 255, 'professor': 176, 'profound': 71, 'program': 186, 'progress': 101, 'project': 542, 'promise': 258, 'promising': 223, 'proof': 135, 'prop': 118, 'propaganda': 162, 'proper': 181, 'properly': 150, 'prostitute': 117, 'protagonist': 272, 'protect': 109, 'proud': 95, 'prove': 210, 'proved': 161, 'provide': 216, 'provided': 144, 'provides': 142, 'psycho': 200, 'psychological': 122, 'public': 381, 'pull': 372, 'pulled': 194, 'pulp': 95, 'punch': 169, 'punk': 95, 'puppet': 186, 'pure': 360, 'purely': 132, 'purpose': 481, 'push': 125, 'put': 2137, 'putting': 284, 'quality': 1143, 'queen': 259, 'quest': 94, 'question': 787, 'quick': 258, 'quickly': 497, 'quiet': 104, 'quirky': 107, 'quite': 2327, 'quote': 166, 'race': 293, 'rachel': 82, 'racism': 111, 'racist': 160, 'radio': 183, 'rain': 115, 'raise': 155, 'raised': 114, 'ralph': 53, 'ran': 195, 'random': 415, 'range': 170, 'ranger': 165, 'rank': 143, 'rape': 306, 'rare': 159, 'rarely': 207, 'rate': 450, 'rated': 294, 'rather': 2054, 'rating': 910, 'raw': 58, 'ray': 231, 'reach': 223, 'reaction': 228, 'read': 1633, 'reader': 98, 'reading': 561, 'ready': 245, 'real': 3090, 'realism': 141, 'realistic': 350, 'reality': 586, 'realize': 464, 'realized': 245, 'realizes': 85, 'really': 9285, 'reason': 2582, 'rebel': 94, 'recall': 176, 'received': 133, 'recent': 314, 'recently': 311, 'recognize': 114, 'recommend': 991, 'recommended': 184, 'record': 194, 'red': 469, 'redeeming': 416, 'reference': 330, 'refreshing': 41, 'refuse': 136, 'regard': 134, 'regarding': 136, 'regardless': 116, 'regret': 147, 'regular': 178, 'relate': 107, 'related': 118, 'relation': 111, 'relationship': 652, 'relative': 125, 'relatively': 135, 'release': 499, 'released': 576, 'relief': 177, 'religion': 180, 'religious': 214, 'remain': 137, 'remains': 242, 'remake': 631, 'remarkable': 93, 'remember': 1067, 'remembered': 123, 'remind': 87, 'reminded': 209, 'reminds': 150, 'reminiscent': 79, 'remote': 148, 'remotely': 243, 'rent': 687, 'rental': 229, 'rented': 366, 'renting': 192, 'repeat': 148, 'repeated': 135, 'replaced': 130, 'report': 127, 'reporter': 177, 'reputation': 151, 'required': 156, 'rescue': 211, 'research': 213, 'resident': 83, 'respect': 371, 'response': 90, 'responsible': 226, 'rest': 1514, 'restaurant': 89, 'result': 694, 'retarded': 169, 'return': 529, 'returning': 88, 'reveal': 124, 'revealed': 172, 'reveals': 79, 'revelation': 114, 'revenge': 390, 'review': 1353, 'reviewer': 397, 'revolution': 85, 'revolves': 106, 'reynolds': 64, 'rich': 401, 'richard': 438, 'ride': 270, 'ridiculous': 1088, 'riding': 83, 'right': 2392, 'ring': 261, 'rip': 230, 'ripoff': 215, 'ripped': 164, 'rise': 201, 'risk': 133, 'rival': 98, 'river': 186, 'road': 332, 'rob': 125, 'robert': 716, 'robin': 161, 'robot': 250, 'rock': 533, 'roger': 158, 'role': 2301, 'roll': 238, 'rolling': 142, 'romance': 387, 'romantic': 383, 'ron': 133, 'room': 730, 'root': 149, 'rose': 112, 'rough': 104, 'round': 193, 'routine': 197, 'row': 122, 'roy': 82, 'rubbish': 306, 'ruin': 257, 'ruined': 214, 'rule': 259, 'run': 1242, 'running': 818, 'rush': 103, 'russell': 96, 'russian': 296, 'ryan': 174, 'sacrifice': 90, 'sad': 715, 'sadly': 470, 'safe': 141, 'said': 1752, 'sake': 237, 'sally': 102, 'sam': 337, 'san': 92, 'santa': 187, 'sarah': 117, 'sat': 319, 'satan': 132, 'satire': 157, 'satisfying': 84, 'saturday': 155, 'save': 1265, 'saved': 253, 'saving': 273, 'saw': 2141, 'say': 5251, 'saying': 918, 'scale': 161, 'scare': 334, 'scarecrow': 199, 'scared': 210, 'scary': 810, 'scenario': 184, 'scene': 8201, 'scenery': 306, 'school': 1304, 'science': 406, 'scientist': 467, 'scifi': 577, 'score': 646, 'scott': 344, 'scream': 333, 'screaming': 279, 'screen': 1641, 'screening': 108, 'screenplay': 522, 'screenwriter': 226, 'script': 3053, 'sea': 234, 'seagal': 266, 'sean': 169, 'search': 230, 'searching': 88, 'season': 394, 'seat': 162, 'second': 1646, 'secret': 455, 'section': 160, 'security': 172, 'see': 8307, 'seeing': 1433, 'seek': 169, 'seeking': 83, 'seem': 1721, 'seemed': 1260, 'seemingly': 271, 'seems': 2927, 'seen': 4798, 'segment': 169, 'self': 290, 'sell': 218, 'send': 172, 'sends': 89, 'sense': 1828, 'sensitive': 68, 'sent': 213, 'sentence': 147, 'separate': 123, 'sequel': 963, 'sequence': 1083, 'serf': 143, 'serial': 287, 'series': 1661, 'serious': 773, 'seriously': 944, 'serve': 133, 'served': 130, 'service': 176, 'set': 2137, 'setting': 477, 'setup': 145, 'seven': 211, 'several': 947, 'sex': 1511, 'sexual': 481, 'sexuality': 74, 'sexy': 298, 'shadow': 188, 'shake': 111, 'shakespeare': 168, 'shall': 81, 'shallow': 280, 'shame': 567, 'shape': 102, 'share': 227, 'shark': 167, 'sharp': 89, 'shed': 94, 'sheer': 193, 'sheriff': 207, 'shes': 1083, 'shine': 101, 'ship': 396, 'shock': 308, 'shocked': 174, 'shocking': 243, 'shoe': 128, 'shoot': 542, 'shooting': 387, 'shop': 180, 'short': 1296, 'shot': 2467, 'shoulder': 93, 'shouldnt': 298, 'show': 5609, 'showed': 296, 'shower': 148, 'showing': 555, 'shown': 649, 'shut': 146, 'sick': 441, 'side': 884, 'sidekick': 107, 'sidney': 50, 'sight': 225, 'sign': 317, 'significant': 120, 'silence': 103, 'silent': 207, 'silly': 885, 'silver': 129, 'similar': 502, 'similarity': 80, 'simon': 98, 'simple': 487, 'simply': 1667, 'simpson': 119, 'sin': 120, 'sinatra': 30, 'since': 1995, 'sing': 161, 'singer': 194, 'singing': 279, 'single': 758, 'sings': 70, 'sinister': 85, 'sir': 91, 'sister': 560, 'sit': 674, 'sitcom': 182, 'site': 189, 'sitting': 425, 'situation': 700, 'six': 237, 'size': 136, 'skill': 312, 'skin': 195, 'skip': 321, 'sky': 119, 'slapstick': 160, 'slasher': 469, 'slave': 115, 'sleazy': 110, 'sleep': 319, 'sleeping': 146, 'slight': 96, 'slightly': 377, 'slow': 828, 'slowly': 250, 'small': 905, 'smart': 287, 'smile': 213, 'smith': 236, 'smoke': 115, 'snake': 289, 'snow': 123, 'soap': 244, 'socalled': 147, 'social': 267, 'society': 335, 'soft': 155, 'sold': 112, 'soldier': 509, 'solid': 181, 'solve': 97, 'somebody': 325, 'somehow': 649, 'someone': 2160, 'something': 4231, 'sometimes': 657, 'somewhat': 617, 'somewhere': 421, 'son': 858, 'song': 1014, 'soon': 732, 'sorry': 885, 'sort': 1408, 'soul': 329, 'sound': 1659, 'sounded': 197, 'soundtrack': 475, 'source': 200, 'south': 253, 'southern': 125, 'soviet': 70, 'space': 709, 'spanish': 180, 'speak': 414, 'speaking': 293, 'speaks': 155, 'special': 1706, 'specific': 103, 'spectacular': 108, 'speech': 199, 'speed': 168, 'spell': 91, 'spend': 430, 'spending': 124, 'spends': 180, 'spent': 608, 'spin': 93, 'spirit': 325, 'spite': 118, 'split': 101, 'spoil': 135, 'spoiler': 724, 'spoken': 105, 'spoof': 204, 'sport': 161, 'spot': 311, 'spy': 108, 'st': 132, 'stage': 400, 'stand': 688, 'standard': 585, 'standing': 193, 'star': 2319, 'starred': 138, 'starring': 288, 'start': 2367, 'started': 808, 'starting': 193, 'state': 589, 'statement': 200, 'station': 277, 'status': 114, 'stay': 761, 'stayed': 143, 'steal': 305, 'stealing': 116, 'step': 284, 'stephen': 209, 'stereotype': 322, 'stereotypical': 195, 'steve': 303, 'steven': 228, 'stewart': 138, 'stick': 510, 'still': 3290, 'stock': 299, 'stolen': 141, 'stomach': 155, 'stone': 209, 'stood': 77, 'stooge': 108, 'stop': 998, 'stopped': 184, 'store': 479, 'storm': 123, 'story': 7890, 'storybr': 164, 'storyline': 685, 'storytelling': 128, 'straight': 639, 'strange': 652, 'strangely': 112, 'stranger': 168, 'street': 559, 'strength': 131, 'stretch': 163, 'strike': 147, 'string': 159, 'strip': 109, 'strong': 440, 'strongly': 106, 'struck': 80, 'structure': 149, 'struggle': 240, 'struggling': 116, 'stuck': 304, 'student': 571, 'studio': 446, 'study': 180, 'stuff': 950, 'stunning': 122, 'stunt': 204, 'stupid': 2164, 'stupidity': 194, 'style': 928, 'stylish': 81, 'subject': 557, 'subplot': 151, 'subplots': 101, 'substance': 220, 'subtitle': 119, 'subtle': 136, 'subtlety': 86, 'succeeds': 78, 'success': 320, 'successful': 322, 'successfully': 94, 'suck': 575, 'sucked': 277, 'sudden': 155, 'suddenly': 454, 'suffer': 131, 'suffered': 105, 'suffering': 156, 'suffers': 170, 'suggest': 289, 'suggests': 105, 'suicide': 225, 'suit': 314, 'sum': 205, 'summary': 155, 'summer': 209, 'sun': 123, 'sunday': 97, 'super': 257, 'superb': 133, 'superior': 211, 'superman': 151, 'supernatural': 167, 'support': 246, 'supporting': 395, 'suppose': 423, 'supposed': 1700, 'supposedly': 390, 'sure': 2041, 'surely': 326, 'surface': 111, 'surprise': 566, 'surprised': 464, 'surprising': 143, 'surprisingly': 222, 'surreal': 98, 'surrounding': 89, 'survive': 159, 'survivor': 140, 'susan': 89, 'suspect': 302, 'suspense': 537, 'suspenseful': 94, 'sutherland': 87, 'sweet': 198, 'switch': 118, 'sword': 137, 'sympathetic': 125, 'sympathy': 172, 'system': 224, 'table': 165, 'take': 4002, 'taken': 709, 'taking': 640, 'tale': 428, 'talent': 922, 'talented': 393, 'talk': 887, 'talking': 790, 'tape': 232, 'tarantino': 118, 'target': 200, 'tarzan': 105, 'task': 127, 'taste': 395, 'taylor': 146, 'teach': 151, 'teacher': 291, 'team': 582, 'tear': 179, 'technical': 213, 'technically': 139, 'technique': 180, 'technology': 150, 'ted': 94, 'tedious': 262, 'teen': 423, 'teenage': 234, 'teenager': 360, 'teeth': 184, 'television': 553, 'tell': 1881, 'telling': 380, 'ten': 652, 'tend': 111, 'tense': 68, 'tension': 386, 'term': 397, 'terrible': 2132, 'terribly': 265, 'terrific': 106, 'territory': 79, 'terror': 144, 'terrorist': 171, 'test': 156, 'texas': 185, 'text': 122, 'thank': 271, 'thankfully': 148, 'thanks': 236, 'thatbr': 205, 'thats': 3263, 'theater': 792, 'theatre': 277, 'theatrical': 119, 'thembr': 214, 'theme': 626, 'theory': 191, 'there': 2838, 'therebr': 123, 'therefore': 267, 'theyd': 132, 'theyre': 1143, 'theyve': 222, 'thief': 95, 'thin': 296, 'thing': 6897, 'think': 5702, 'thinking': 1023, 'third': 493, 'thirty': 142, 'thisbr': 252, 'thomas': 183, 'thoroughly': 167, 'though': 2943, 'thought': 2811, 'thousand': 252, 'threat': 105, 'three': 1537, 'thrill': 156, 'thriller': 552, 'thrilling': 73, 'throat': 113, 'throughout': 833, 'throw': 500, 'throwing': 182, 'thrown': 388, 'thumb': 107, 'thus': 280, 'ticket': 131, 'tie': 149, 'tied': 101, 'tight': 100, 'till': 149, 'tim': 226, 'time': 10657, 'timebr': 265, 'timing': 84, 'tiny': 169, 'tired': 355, 'title': 1277, 'today': 475, 'together': 1361, 'told': 700, 'tom': 454, 'tommy': 127, 'ton': 138, 'tone': 313, 'tony': 123, 'toobr': 93, 'took': 848, 'top': 1053, 'topic': 151, 'torn': 62, 'torture': 335, 'total': 660, 'totally': 1195, 'touch': 317, 'touched': 66, 'touching': 102, 'tough': 288, 'tour': 85, 'toward': 184, 'towards': 438, 'town': 802, 'toy': 175, 'track': 362, 'tradition': 99, 'traditional': 92, 'tragedy': 166, 'tragic': 137, 'trail': 65, 'trailer': 364, 'train': 400, 'training': 120, 'trap': 116, 'trapped': 144, 'trash': 503, 'travel': 238, 'treasure': 107, 'treat': 171, 'treated': 207, 'treatment': 164, 'tree': 226, 'trek': 141, 'tremendous': 40, 'trial': 93, 'tribute': 83, 'trick': 184, 'tried': 781, 'trilogy': 92, 'trip': 273, 'trouble': 430, 'troubled': 53, 'truck': 197, 'true': 1209, 'truly': 1092, 'trust': 205, 'truth': 427, 'try': 2646, 'trying': 2216, 'tune': 159, 'turkey': 249, 'turn': 1813, 'turned': 798, 'turning': 269, 'tv': 1971, 'twenty': 220, 'twice': 250, 'twin': 153, 'twist': 706, 'twisted': 127, 'two': 4541, 'type': 877, 'typical': 483, 'typically': 95, 'ugly': 344, 'uk': 166, 'ultimate': 116, 'ultimately': 337, 'unable': 191, 'unbelievable': 410, 'uncle': 161, 'unconvincing': 212, 'underground': 140, 'underrated': 57, 'understand': 1259, 'understanding': 165, 'understood': 110, 'unexpected': 86, 'unforgettable': 23, 'unfortunate': 151, 'unfortunately': 1317, 'unfunny': 349, 'uninspired': 181, 'uninteresting': 226, 'union': 81, 'unique': 222, 'united': 126, 'universal': 122, 'universe': 128, 'unknown': 213, 'unless': 771, 'unlike': 267, 'unlikely': 127, 'unnecessary': 296, 'unrealistic': 259, 'unusual': 129, 'upon': 630, 'upset': 123, 'urban': 79, 'us': 357, 'usa': 113, 'use': 1369, 'used': 1487, 'useless': 171, 'user': 130, 'using': 631, 'usual': 568, 'usually': 768, 'utter': 290, 'utterly': 434, 'vacation': 140, 'value': 806, 'vampire': 687, 'van': 511, 'variety': 120, 'various': 394, 'vega': 86, 'vehicle': 216, 'version': 1568, 'veteran': 139, 'vhs': 120, 'via': 125, 'victim': 623, 'victor': 58, 'victoria': 45, 'video': 1430, 'vietnam': 127, 'view': 619, 'viewed': 124, 'viewer': 1310, 'viewing': 450, 'village': 149, 'villain': 620, 'vincent': 101, 'violence': 786, 'violent': 344, 'virgin': 118, 'virtually': 186, 'vision': 192, 'visit': 190, 'visual': 312, 'visually': 120, 'visuals': 126, 'voice': 833, 'von': 53, 'vote': 248, 'wait': 589, 'waiting': 422, 'wake': 142, 'walk': 595, 'walked': 232, 'walker': 94, 'walking': 378, 'wall': 332, 'walter': 101, 'wanna': 125, 'want': 3924, 'wanted': 1181, 'wanting': 204, 'war': 1120, 'ward': 67, 'warm': 78, 'warn': 151, 'warned': 168, 'warner': 81, 'warning': 281, 'warrior': 156, 'washington': 126, 'wasnt': 2160, 'waste': 1976, 'wasted': 717, 'wasting': 203, 'watch': 5358, 'watchable': 315, 'watched': 1728, 'watching': 3970, 'water': 478, 'wave': 127, 'way': 6009, 'waybr': 132, 'wayne': 185, 'weak': 735, 'weakness': 63, 'wealthy': 91, 'weapon': 297, 'wear': 307, 'wearing': 314, 'wedding': 187, 'week': 437, 'weekend': 167, 'weird': 516, 'welcome': 106, 'well': 5808, 'wellbr': 106, 'welles': 76, 'went': 1267, 'werent': 456, 'werewolf': 278, 'west': 238, 'western': 472, 'weve': 190, 'whatever': 622, 'whats': 776, 'whatsoever': 385, 'whenever': 224, 'whereas': 101, 'whether': 590, 'whilst': 203, 'white': 984, 'who': 502, 'whoever': 191, 'whole': 2690, 'whose': 583, 'wide': 147, 'wife': 1275, 'wild': 255, 'william': 311, 'williams': 201, 'willing': 215, 'wilson': 122, 'win': 368, 'wind': 245, 'window': 270, 'wing': 94, 'winner': 106, 'winning': 115, 'winter': 62, 'wise': 139, 'wish': 792, 'wit': 143, 'witch': 277, 'within': 541, 'without': 2353, 'witness': 154, 'witty': 122, 'wolf': 170, 'woman': 3269, 'wonder': 1044, 'wonderful': 400, 'wonderfully': 50, 'wondering': 317, 'wont': 981, 'wood': 618, 'wooden': 386, 'woody': 127, 'word': 1431, 'work': 3503, 'worked': 474, 'worker': 104, 'working': 516, 'world': 1981, 'worry': 137, 'worse': 1762, 'worst': 3597, 'worth': 1644, 'worthwhile': 162, 'worthy': 219, 'would': 10180, 'wouldnt': 1020, 'wouldve': 181, 'wound': 109, 'wow': 335, 'write': 635, 'writer': 1242, 'writerdirector': 131, 'writing': 1110, 'written': 1094, 'wrong': 1603, 'wrote': 430, 'wwii': 84, 'yeah': 513, 'year': 3612, 'yes': 1130, 'yet': 1721, 'york': 376, 'youd': 385, 'youll': 971, 'young': 1872, 'younger': 296, 'youre': 1679, 'youth': 147, 'youve': 585, 'zero': 340, 'zombie': 1032, 'zone': 87}), 1: defaultdict(<function <lambda> at 0x7fcb1a037550>, {'abandoned': 129, 'ability': 461, 'able': 1089, 'absolute': 231, 'absolutely': 980, 'absurd': 124, 'abuse': 151, 'academy': 298, 'accent': 333, 'accept': 269, 'accepted': 130, 'accident': 275, 'accidentally': 137, 'according': 187, 'account': 187, 'accurate': 267, 'achieve': 117, 'achieved': 134, 'achievement': 175, 'across': 744, 'act': 1019, 'acted': 457, 'acting': 3521, 'action': 2495, 'activity': 126, 'actor': 4595, 'actress': 1147, 'actual': 474, 'actually': 2547, 'ad': 112, 'adam': 292, 'adaptation': 388, 'adapted': 138, 'add': 917, 'added': 352, 'adding': 130, 'addition': 285, 'admit': 448, 'adult': 701, 'advance': 99, 'advantage': 128, 'adventure': 613, 'advice': 121, 'affair': 338, 'affect': 146, 'afraid': 226, 'africa': 143, 'african': 157, 'afternoon': 135, 'againbr': 116, 'age': 1039, 'agent': 323, 'ago': 847, 'agree': 432, 'ahead': 279, 'aid': 152, 'aint': 102, 'air': 469, 'aired': 122, 'airplane': 84, 'aka': 175, 'al': 239, 'ala': 89, 'alan': 253, 'albeit': 146, 'albert': 217, 'alex': 196, 'alice': 209, 'alien': 298, 'alive': 373, 'allbr': 120, 'allen': 211, 'allow': 229, 'allowed': 253, 'allows': 238, 'almost': 2308, 'alone': 724, 'along': 1542, 'already': 901, 'alright': 68, 'also': 7937, 'although': 2164, 'always': 2994, 'amateur': 72, 'amateurish': 37, 'amazed': 146, 'amazing': 1457, 'amazingly': 155, 'america': 636, 'american': 2041, 'among': 730, 'amongst': 136, 'amount': 412, 'amusing': 333, 'ancient': 156, 'anderson': 193, 'andor': 139, 'andrew': 263, 'andy': 201, 'angel': 261, 'anger': 172, 'angle': 290, 'angry': 190, 'animal': 419, 'animated': 435, 'animation': 700, 'anime': 177, 'ann': 202, 'anna': 210, 'anne': 255, 'annoyed': 56, 'annoying': 261, 'another': 3035, 'answer': 414, 'anthony': 221, 'anybody': 170, 'anymore': 233, 'anyone': 1816, 'anything': 1497, 'anyway': 619, 'anywhere': 189, 'apart': 388, 'apartment': 304, 'ape': 65, 'apparent': 176, 'apparently': 400, 'appeal': 317, 'appealing': 167, 'appear': 419, 'appearance': 459, 'appeared': 243, 'appearing': 103, 'appears': 573, 'appreciate': 490, 'appreciated': 179, 'approach': 377, 'appropriate': 168, 'area': 352, 'arent': 528, 'argument': 127, 'arm': 211, 'army': 363, 'arnold': 106, 'around': 2411, 'arrives': 159, 'art': 1198, 'arthur': 323, 'artist': 430, 'artistic': 251, 'as': 135, 'ashamed': 44, 'asian': 118, 'aside': 360, 'ask': 380, 'asked': 254, 'asking': 130, 'asks': 255, 'asleep': 54, 'aspect': 656, 'assassin': 115, 'assistant': 119, 'assume': 112, 'atmosphere': 667, 'atmospheric': 128, 'atrocious': 27, 'attack': 359, 'attacked': 90, 'attempt': 765, 'attempted': 89, 'attempting': 98, 'attention': 762, 'attitude': 284, 'attraction': 139, 'attractive': 222, 'audience': 1862, 'aunt': 164, 'australia': 141, 'australian': 248, 'authentic': 149, 'author': 221, 'authority': 144, 'available': 413, 'average': 430, 'avoid': 208, 'award': 566, 'aware': 220, 'away': 1875, 'awesome': 494, 'awful': 205, 'awkward': 151, 'baby': 510, 'back': 3587, 'backdrop': 141, 'background': 574, 'bad': 2723, 'badbr': 37, 'badly': 155, 'bag': 115, 'balance': 178, 'ball': 229, 'band': 526, 'bank': 194, 'bar': 258, 'barbara': 235, 'barely': 211, 'barry': 145, 'base': 103, 'baseball': 177, 'based': 1141, 'basement': 90, 'basic': 345, 'basically': 484, 'basis': 98, 'bat': 72, 'batman': 340, 'battle': 674, 'bbc': 170, 'beach': 162, 'bear': 262, 'beast': 105, 'beat': 356, 'beautiful': 2251, 'beautifully': 550, 'beauty': 753, 'became': 561, 'become': 1277, 'becomes': 1064, 'becoming': 280, 'bed': 340, 'beer': 79, 'began': 260, 'begin': 1060, 'beginning': 1117, 'behavior': 228, 'behind': 890, 'being': 131, 'belief': 382, 'believable': 649, 'believe': 1586, 'believed': 139, 'bell': 95, 'belongs': 107, 'beloved': 149, 'ben': 439, 'benefit': 129, 'bergman': 165, 'besides': 267, 'best': 6243, 'bet': 147, 'better': 3458, 'betty': 174, 'beyond': 575, 'bible': 46, 'big': 2469, 'bigger': 211, 'biggest': 294, 'bill': 541, 'billy': 334, 'bird': 169, 'birth': 165, 'birthday': 132, 'bit': 2651, 'bitter': 141, 'bizarre': 336, 'black': 1490, 'blade': 135, 'blah': 27, 'blair': 66, 'blame': 137, 'bland': 67, 'blend': 156, 'blind': 185, 'blockbuster': 133, 'blonde': 150, 'blood': 593, 'bloody': 203, 'blow': 234, 'blown': 147, 'blue': 464, 'bmovie': 81, 'board': 223, 'boat': 201, 'bob': 248, 'bobby': 124, 'body': 738, 'bollywood': 110, 'bomb': 166, 'bond': 486, 'bone': 116, 'book': 1809, 'boot': 124, 'border': 135, 'bore': 74, 'bored': 200, 'boredom': 32, 'boring': 463, 'born': 310, 'bos': 315, 'bother': 149, 'bothered': 73, 'bottom': 201, 'bought': 312, 'bound': 158, 'box': 392, 'boy': 1745, 'boyfriend': 294, 'br': 41688, 'brad': 118, 'brain': 324, 'brave': 157, 'break': 603, 'breaking': 176, 'breast': 75, 'breath': 150, 'breathtaking': 190, 'brian': 270, 'bride': 121, 'bridge': 181, 'brief': 312, 'briefly': 97, 'bright': 176, 'brilliant': 1349, 'brilliantly': 297, 'bring': 673, 'bringing': 201, 'brings': 600, 'britain': 147, 'british': 717, 'broadcast': 124, 'broadway': 200, 'broke': 111, 'broken': 188, 'brook': 195, 'brother': 1255, 'brought': 674, 'brown': 262, 'bruce': 303, 'brutal': 286, 'buck': 167, 'buddy': 285, 'budget': 816, 'buff': 159, 'bug': 190, 'build': 299, 'building': 354, 'built': 170, 'bullet': 107, 'bunch': 350, 'burn': 199, 'burt': 139, 'burton': 135, 'bus': 141, 'business': 492, 'busy': 114, 'butt': 83, 'button': 99, 'buy': 622, 'buying': 106, 'cable': 174, 'cage': 162, 'caine': 112, 'california': 149, 'call': 741, 'called': 871, 'calling': 121, 'came': 1275, 'cameo': 324, 'camera': 1021, 'camerawork': 80, 'camp': 399, 'campy': 103, 'canadian': 155, 'candy': 147, 'cannibal': 28, 'cannot': 701, 'cant': 2247, 'capable': 168, 'captain': 269, 'capture': 505, 'captured': 259, 'car': 960, 'card': 169, 'care': 904, 'career': 808, 'carefully': 133, 'caring': 119, 'carpenter': 214, 'carried': 137, 'carry': 408, 'carrying': 129, 'cartoon': 601, 'case': 1084, 'cash': 125, 'cast': 3095, 'casting': 394, 'castle': 266, 'cat': 445, 'catch': 448, 'category': 131, 'catherine': 114, 'caught': 504, 'cause': 496, 'caused': 179, 'cave': 51, 'celebrity': 117, 'cell': 166, 'center': 267, 'central': 318, 'century': 498, 'certain': 663, 'certainly': 1246, 'cgi': 147, 'chain': 114, 'chair': 116, 'challenge': 215, 'chan': 132, 'chance': 985, 'change': 1068, 'changed': 356, 'changing': 129, 'channel': 320, 'chaplin': 249, 'character': 10130, 'characterization': 129, 'charge': 145, 'charles': 420, 'charlie': 328, 'charm': 387, 'charming': 446, 'chase': 378, 'chasing': 88, 'cheap': 275, 'check': 556, 'checking': 126, 'cheese': 60, 'cheesy': 322, 'chemistry': 398, 'chick': 127, 'chief': 185, 'child': 2040, 'childhood': 329, 'childrens': 133, 'chilling': 176, 'china': 179, 'chinese': 242, 'choice': 560, 'choose': 159, 'chose': 132, 'chosen': 183, 'chris': 359, 'christian': 214, 'christmas': 371, 'christopher': 334, 'chuck': 96, 'church': 247, 'cinema': 1245, 'cinematic': 343, 'cinematography': 838, 'circle': 115, 'circumstance': 197, 'citizen': 195, 'city': 1159, 'civil': 181, 'claim': 257, 'clark': 132, 'class': 637, 'classic': 1851, 'clean': 218, 'clear': 552, 'clearly': 573, 'clever': 478, 'cliche': 60, 'cliché': 112, 'clichéd': 63, 'clichés': 115, 'climax': 319, 'clip': 172, 'close': 816, 'closely': 118, 'closer': 183, 'closeup': 136, 'closing': 151, 'clothes': 164, 'club': 315, 'clue': 192, 'coach': 135, 'code': 134, 'cold': 442, 'collection': 317, 'college': 340, 'color': 520, 'colorful': 142, 'colour': 169, 'columbo': 203, 'combination': 219, 'combine': 137, 'combined': 153, 'come': 4094, 'comedian': 165, 'comedic': 284, 'comedy': 2879, 'comic': 763, 'comical': 118, 'coming': 837, 'comment': 1010, 'commentary': 313, 'commercial': 215, 'committed': 157, 'common': 372, 'community': 255, 'company': 462, 'compare': 302, 'compared': 390, 'comparison': 228, 'compelling': 355, 'competent': 91, 'competition': 127, 'complaint': 194, 'complete': 554, 'completely': 1068, 'complex': 478, 'complicated': 163, 'computer': 268, 'con': 132, 'concept': 332, 'concern': 185, 'concerned': 173, 'concert': 187, 'conclusion': 318, 'condition': 216, 'conflict': 284, 'confused': 229, 'confusing': 193, 'confusion': 117, 'connected': 104, 'connection': 249, 'consequence': 185, 'consider': 398, 'considered': 363, 'considering': 343, 'consists': 61, 'conspiracy': 68, 'constant': 205, 'constantly': 320, 'contact': 135, 'contain': 106, 'contains': 329, 'contemporary': 240, 'content': 281, 'context': 175, 'continue': 252, 'continues': 210, 'continuity': 66, 'contrast': 279, 'contrived': 90, 'control': 420, 'controversial': 149, 'conversation': 223, 'convey': 123, 'convince': 107, 'convinced': 122, 'convincing': 402, 'cool': 706, 'cooper': 162, 'cop': 583, 'copy': 593, 'core': 156, 'corner': 135, 'corny': 149, 'correct': 150, 'cost': 194, 'costume': 450, 'could': 4570, 'couldnt': 718, 'couldve': 89, 'count': 276, 'country': 963, 'couple': 1228, 'courage': 164, 'course': 1989, 'court': 168, 'cousin': 152, 'cover': 400, 'covered': 142, 'cowboy': 185, 'crack': 91, 'crafted': 158, 'crap': 212, 'crappy': 70, 'crash': 184, 'crazy': 480, 'create': 485, 'created': 474, 'creates': 250, 'creating': 229, 'creation': 160, 'creative': 307, 'creator': 155, 'creature': 297, 'credibility': 62, 'credible': 107, 'credit': 719, 'creepy': 464, 'crew': 488, 'crime': 697, 'criminal': 373, 'crisis': 129, 'critic': 435, 'critical': 150, 'criticism': 184, 'cross': 220, 'crowd': 244, 'crude': 101, 'cruel': 138, 'cry': 524, 'cult': 309, 'cultural': 150, 'culture': 468, 'cure': 105, 'curious': 171, 'current': 252, 'curse': 98, 'cut': 727, 'cute': 429, 'cutting': 115, 'cynical': 144, 'dad': 361, 'daily': 153, 'damn': 196, 'dan': 214, 'dance': 689, 'dancer': 191, 'dancing': 488, 'danger': 175, 'dangerous': 249, 'daniel': 238, 'danny': 264, 'dare': 131, 'dark': 1136, 'darkness': 158, 'date': 385, 'dated': 216, 'daughter': 968, 'dave': 109, 'david': 1001, 'davis': 297, 'dawn': 105, 'day': 3070, 'de': 606, 'dead': 1072, 'deadly': 125, 'deal': 916, 'dealing': 258, 'dealt': 130, 'dean': 140, 'dear': 76, 'death': 1640, 'debut': 269, 'decade': 364, 'decent': 486, 'decide': 300, 'decided': 403, 'decides': 430, 'decision': 284, 'deep': 639, 'deeper': 196, 'deeply': 324, 'definitely': 1524, 'degree': 168, 'delight': 202, 'delightful': 293, 'deliver': 190, 'delivered': 166, 'delivers': 359, 'delivery': 131, 'demand': 176, 'demon': 249, 'dennis': 183, 'department': 174, 'depicted': 197, 'depiction': 211, 'depressing': 149, 'depth': 393, 'describe': 198, 'described': 177, 'description': 139, 'desert': 211, 'deserve': 160, 'deserved': 221, 'deserves': 513, 'design': 304, 'designed': 110, 'desire': 333, 'desperate': 180, 'desperately': 116, 'despite': 1058, 'destroy': 131, 'destroyed': 110, 'detail': 645, 'detective': 376, 'determined': 158, 'develop': 164, 'developed': 253, 'development': 364, 'device': 171, 'devil': 186, 'dialog': 468, 'dialogue': 852, 'diamond': 118, 'dick': 196, 'didnt': 2590, 'die': 460, 'died': 465, 'difference': 401, 'different': 2162, 'difficult': 610, 'difficulty': 133, 'dig': 119, 'dinner': 145, 'dinosaur': 103, 'direct': 233, 'directed': 911, 'directing': 376, 'direction': 928, 'directly': 144, 'director': 3217, 'dirty': 315, 'disagree': 146, 'disappointed': 485, 'disappointing': 139, 'disappointment': 143, 'disaster': 127, 'disbelief': 82, 'discover': 238, 'discovered': 221, 'discovers': 230, 'discovery': 132, 'discussion': 116, 'disgusting': 94, 'dislike': 113, 'disney': 534, 'display': 256, 'disturbing': 375, 'doctor': 627, 'documentary': 997, 'doesnt': 2835, 'dog': 695, 'doll': 181, 'dollar': 195, 'donald': 172, 'done': 2194, 'dont': 4991, 'door': 359, 'double': 253, 'doubt': 629, 'douglas': 233, 'downright': 91, 'dozen': 173, 'dr': 561, 'dracula': 90, 'drag': 195, 'dragged': 65, 'dragon': 111, 'drama': 1382, 'dramatic': 473, 'draw': 270, 'drawing': 112, 'drawn': 277, 'dreadful': 47, 'dream': 860, 'dress': 190, 'dressed': 182, 'drew': 184, 'drink': 160, 'drinking': 120, 'drive': 374, 'driven': 175, 'driver': 183, 'driving': 196, 'drop': 181, 'drug': 591, 'drunk': 151, 'dry': 121, 'dubbed': 120, 'dude': 81, 'due': 709, 'duke': 95, 'dull': 198, 'dumb': 177, 'duty': 122, 'dvd': 2188, 'dy': 198, 'dying': 225, 'dynamic': 133, 'ear': 116, 'earlier': 517, 'early': 1282, 'earth': 544, 'easily': 671, 'east': 156, 'eastwood': 176, 'easy': 694, 'eat': 154, 'eating': 141, 'ed': 217, 'eddie': 245, 'edge': 464, 'edited': 139, 'editing': 408, 'editor': 75, 'edward': 214, 'effect': 1651, 'effective': 462, 'effectively': 179, 'effort': 588, 'eg': 86, 'eight': 143, 'either': 951, 'el': 107, 'element': 909, 'elizabeth': 187, 'else': 1083, 'embarrassed': 38, 'embarrassing': 42, 'emma': 137, 'emotion': 770, 'emotional': 664, 'emotionally': 218, 'empty': 136, 'encounter': 281, 'end': 4504, 'endbr': 139, 'ended': 347, 'ending': 1769, 'endless': 85, 'enemy': 257, 'energy': 224, 'engaging': 265, 'england': 267, 'english': 814, 'enjoy': 1608, 'enjoyable': 814, 'enjoyed': 1261, 'enjoying': 146, 'enjoyment': 107, 'enough': 2129, 'ensemble': 155, 'enter': 180, 'entertain': 135, 'entertained': 161, 'entertaining': 1262, 'entertainment': 643, 'entire': 894, 'entirely': 357, 'entry': 176, 'environment': 193, 'epic': 312, 'episode': 2228, 'equal': 140, 'equally': 329, 'era': 532, 'eric': 211, 'erotic': 146, 'error': 80, 'escape': 555, 'especially': 2252, 'essence': 136, 'essential': 150, 'essentially': 197, 'established': 121, 'etc': 692, 'europe': 233, 'european': 242, 'even': 7084, 'evening': 221, 'event': 1042, 'eventually': 573, 'ever': 3943, 'every': 2950, 'everybody': 302, 'everyday': 183, 'everyone': 1672, 'everything': 1718, 'everywhere': 142, 'evidence': 153, 'evil': 865, 'exact': 123, 'exactly': 704, 'example': 996, 'excellent': 2469, 'except': 568, 'exception': 268, 'exceptional': 177, 'excited': 129, 'excitement': 139, 'exciting': 393, 'excuse': 130, 'executed': 144, 'execution': 111, 'executive': 111, 'exercise': 80, 'exist': 162, 'existence': 184, 'exists': 110, 'expect': 860, 'expectation': 302, 'expected': 485, 'expecting': 402, 'experience': 1177, 'experienced': 175, 'experiment': 131, 'expert': 125, 'explain': 243, 'explained': 121, 'explains': 113, 'explanation': 149, 'exploitation': 120, 'explosion': 156, 'express': 178, 'expression': 299, 'extent': 122, 'extra': 414, 'extraordinary': 238, 'extreme': 325, 'extremely': 751, 'eye': 1514, 'fabulous': 180, 'face': 1351, 'faced': 141, 'facial': 130, 'fact': 2541, 'factor': 181, 'fail': 135, 'failed': 178, 'fails': 162, 'failure': 141, 'fair': 293, 'fairly': 433, 'fairy': 115, 'faith': 243, 'faithful': 160, 'fake': 199, 'fall': 1091, 'fallen': 122, 'falling': 248, 'false': 122, 'fame': 236, 'familiar': 500, 'family': 2929, 'famous': 702, 'fan': 2589, 'fancy': 104, 'fantastic': 865, 'fantasy': 501, 'far': 1875, 'fare': 143, 'farm': 132, 'fascinating': 414, 'fashion': 258, 'fast': 491, 'fat': 157, 'fate': 235, 'father': 1721, 'fault': 192, 'favor': 146, 'favorite': 1556, 'favourite': 445, 'fbi': 124, 'fear': 530, 'feature': 1089, 'featured': 145, 'featuring': 206, 'feel': 2825, 'feeling': 1273, 'fell': 244, 'fellow': 319, 'felt': 954, 'female': 629, 'festival': 413, 'fiction': 364, 'fictional': 127, 'field': 287, 'fight': 927, 'fighter': 89, 'fighting': 418, 'figure': 655, 'figured': 94, 'fill': 182, 'filled': 408, 'film': 36146, 'filmbr': 573, 'filmed': 568, 'filming': 263, 'filmmaker': 564, 'filmmaking': 226, 'final': 1086, 'finale': 198, 'finally': 1192, 'find': 4079, 'finding': 318, 'fine': 1222, 'finest': 326, 'finger': 147, 'finish': 271, 'finished': 163, 'fire': 412, 'first': 6747, 'fish': 101, 'fit': 619, 'five': 494, 'flash': 135, 'flashback': 317, 'flat': 217, 'flaw': 404, 'flawed': 137, 'flesh': 121, 'flick': 869, 'flight': 155, 'floor': 183, 'flow': 175, 'fly': 233, 'flying': 266, 'focus': 579, 'focused': 158, 'folk': 311, 'follow': 528, 'followed': 242, 'following': 496, 'follows': 490, 'food': 244, 'fool': 156, 'foot': 304, 'footage': 374, 'football': 178, 'force': 627, 'forced': 403, 'ford': 332, 'foreign': 229, 'forest': 103, 'forever': 316, 'forget': 574, 'forgettable': 42, 'forgot': 105, 'forgotten': 289, 'form': 720, 'format': 135, 'former': 426, 'formula': 179, 'forth': 126, 'fortunately': 121, 'fortune': 120, 'forward': 383, 'foster': 124, 'found': 1967, 'four': 707, 'fourth': 134, 'fox': 314, 'frame': 234, 'france': 302, 'franchise': 64, 'frank': 455, 'frankly': 133, 'freak': 82, 'fred': 164, 'freddy': 66, 'free': 395, 'freedom': 268, 'freeman': 126, 'french': 797, 'frequently': 126, 'fresh': 342, 'friday': 121, 'friend': 2592, 'friendly': 147, 'friendship': 407, 'frightening': 171, 'front': 408, 'fu': 142, 'full': 1326, 'fully': 352, 'fun': 2370, 'funnier': 111, 'funniest': 368, 'funny': 3011, 'future': 736, 'gag': 332, 'gain': 125, 'game': 1327, 'gang': 344, 'gangster': 274, 'garbage': 94, 'gary': 245, 'gas': 120, 'gate': 102, 'gave': 857, 'gay': 448, 'gem': 488, 'gene': 232, 'general': 585, 'generally': 269, 'generation': 328, 'genius': 455, 'genre': 979, 'gentleman': 168, 'genuine': 260, 'genuinely': 235, 'george': 734, 'german': 616, 'germany': 225, 'get': 8380, 'getting': 1101, 'ghost': 319, 'giant': 268, 'gift': 128, 'girl': 2709, 'girlfriend': 443, 'give': 3728, 'given': 1260, 'giving': 576, 'glad': 397, 'glass': 204, 'glimpse': 182, 'glory': 132, 'go': 5095, 'goal': 140, 'god': 630, 'godfather': 99, 'going': 2619, 'gold': 228, 'golden': 285, 'gone': 502, 'gonna': 122, 'good': 10784, 'goodbr': 129, 'goofy': 94, 'gordon': 153, 'gore': 470, 'gorgeous': 372, 'gory': 136, 'got': 2342, 'gotten': 192, 'government': 382, 'grab': 122, 'grace': 295, 'grade': 182, 'grand': 267, 'grandfather': 152, 'grant': 138, 'granted': 142, 'graphic': 312, 'gratuitous': 110, 'grave': 81, 'great': 9596, 'greater': 177, 'greatest': 837, 'greatly': 157, 'greek': 150, 'green': 313, 'grew': 211, 'gripping': 180, 'gritty': 214, 'gross': 82, 'ground': 259, 'group': 852, 'grow': 219, 'growing': 265, 'grown': 169, 'gruesome': 129, 'guard': 164, 'guess': 629, 'guessing': 133, 'guest': 214, 'guide': 146, 'guilty': 159, 'gun': 469, 'gut': 144, 'guy': 2529, 'ha': 50, 'hadnt': 169, 'hair': 304, 'half': 973, 'halfway': 88, 'hall': 241, 'halloween': 174, 'hamlet': 112, 'hand': 1226, 'handle': 179, 'handled': 151, 'handsome': 217, 'hang': 126, 'hanging': 131, 'hank': 171, 'happen': 684, 'happened': 666, 'happening': 265, 'happens': 666, 'happily': 108, 'happiness': 180, 'happy': 792, 'hard': 1660, 'hardcore': 97, 'hardly': 330, 'hardy': 90, 'harris': 180, 'harry': 416, 'harsh': 166, 'hasnt': 285, 'hat': 199, 'hate': 607, 'hated': 135, 'haunted': 143, 'haunting': 234, 'havent': 684, 'hbo': 129, 'he': 1991, 'head': 1105, 'hear': 536, 'heard': 835, 'hearing': 159, 'heart': 1312, 'heaven': 247, 'heavily': 133, 'heavy': 305, 'heck': 121, 'hed': 107, 'held': 265, 'helen': 190, 'hell': 623, 'help': 1800, 'helped': 278, 'helping': 128, 'hence': 109, 'henry': 292, 'here': 143, 'herebr': 105, 'hero': 919, 'heroic': 118, 'heroine': 210, 'hey': 222, 'hidden': 295, 'hide': 165, 'hiding': 102, 'high': 1425, 'higher': 184, 'highlight': 248, 'highly': 1241, 'hilarious': 1001, 'hill': 202, 'himbr': 206, 'hint': 164, 'hire': 106, 'hired': 101, 'historical': 349, 'history': 1135, 'hit': 950, 'hitchcock': 368, 'hitler': 171, 'hoffman': 209, 'hold': 723, 'holding': 136, 'hole': 273, 'holiday': 134, 'hollywood': 1442, 'holmes': 242, 'homage': 116, 'home': 1579, 'honest': 390, 'honestly': 207, 'hong': 172, 'honor': 148, 'hood': 138, 'hook': 101, 'hooked': 155, 'hope': 1350, 'hopefully': 176, 'hoping': 173, 'horrible': 263, 'horribly': 62, 'horrific': 102, 'horror': 2259, 'horse': 359, 'hospital': 293, 'host': 163, 'hot': 394, 'hotel': 283, 'hour': 1077, 'house': 1478, 'howard': 245, 'however': 2532, 'huge': 636, 'human': 1681, 'humanity': 254, 'humor': 1105, 'humorous': 235, 'humour': 412, 'hundred': 189, 'hunt': 183, 'hunter': 223, 'hurt': 333, 'husband': 831, 'ice': 196, 'id': 870, 'idea': 1420, 'ideal': 166, 'identity': 269, 'idiot': 122, 'idiotic': 30, 'ie': 209, 'ignore': 134, 'ii': 256, 'ill': 650, 'image': 769, 'imagery': 173, 'imagination': 281, 'imaginative': 136, 'imagine': 469, 'imdb': 349, 'immediately': 359, 'impact': 332, 'important': 838, 'impossible': 296, 'impressed': 356, 'impression': 328, 'impressive': 447, 'incident': 151, 'include': 291, 'included': 191, 'includes': 261, 'including': 888, 'incredible': 575, 'incredibly': 394, 'indeed': 569, 'independent': 275, 'india': 168, 'indian': 434, 'indie': 114, 'individual': 385, 'industry': 253, 'inept': 47, 'infamous': 111, 'influence': 243, 'information': 322, 'initial': 170, 'initially': 158, 'inner': 179, 'innocence': 168, 'innocent': 413, 'insane': 185, 'inside': 519, 'insight': 215, 'inspiration': 147, 'inspired': 287, 'instance': 197, 'instantly': 123, 'instead': 1047, 'insult': 70, 'intellectual': 145, 'intelligence': 201, 'intelligent': 487, 'intended': 242, 'intense': 371, 'intensity': 158, 'intent': 91, 'intention': 143, 'interaction': 193, 'interest': 681, 'interested': 541, 'interesting': 2086, 'international': 234, 'internet': 137, 'interpretation': 188, 'interview': 295, 'intriguing': 254, 'introduced': 240, 'introduction': 134, 'investigation': 113, 'invisible': 112, 'involved': 728, 'involves': 175, 'involving': 365, 'irish': 176, 'ironic': 125, 'irony': 136, 'irritating': 76, 'isbr': 119, 'island': 429, 'isnt': 1941, 'issue': 613, 'italian': 472, 'italy': 154, 'itbr': 664, 'ive': 2329, 'jack': 800, 'jackie': 165, 'jackson': 343, 'jail': 118, 'james': 912, 'jamie': 124, 'jane': 390, 'japan': 220, 'japanese': 553, 'jason': 287, 'jaw': 80, 'jay': 135, 'jean': 312, 'jeff': 228, 'jennifer': 223, 'jerk': 95, 'jerry': 241, 'jessica': 92, 'jesus': 131, 'jewish': 174, 'jim': 394, 'jimmy': 257, 'joan': 224, 'job': 2182, 'joe': 542, 'john': 1918, 'johnny': 276, 'johnson': 163, 'join': 185, 'joke': 729, 'jon': 157, 'jonathan': 140, 'jones': 304, 'joseph': 204, 'journey': 525, 'joy': 339, 'jr': 288, 'judge': 296, 'julia': 175, 'julie': 228, 'jump': 252, 'jungle': 130, 'junk': 52, 'justice': 334, 'kane': 128, 'karen': 143, 'kate': 137, 'keaton': 191, 'keep': 1841, 'keeping': 257, 'kelly': 357, 'kennedy': 131, 'kept': 509, 'kevin': 264, 'key': 339, 'kick': 272, 'kid': 2016, 'kill': 948, 'killed': 625, 'killer': 828, 'killing': 452, 'kim': 140, 'kind': 1985, 'kinda': 173, 'king': 723, 'kiss': 196, 'knew': 727, 'knife': 87, 'knock': 86, 'know': 4913, 'knowing': 369, 'knowledge': 230, 'known': 855, 'kong': 188, 'korean': 131, 'kudos': 144, 'kung': 135, 'la': 462, 'lack': 714, 'lacked': 52, 'lacking': 132, 'lady': 783, 'lake': 107, 'lame': 108, 'land': 386, 'landscape': 188, 'lane': 176, 'language': 478, 'large': 432, 'largely': 180, 'larry': 172, 'last': 2255, 'late': 1003, 'later': 1836, 'latest': 166, 'latter': 263, 'laugh': 1276, 'laughable': 55, 'laughed': 262, 'laughing': 381, 'laughter': 174, 'laura': 160, 'laurel': 82, 'law': 363, 'lawyer': 166, 'lay': 98, 'lazy': 61, 'le': 1457, 'lead': 1553, 'leader': 277, 'leading': 461, 'leaf': 567, 'league': 161, 'learn': 607, 'learned': 233, 'learning': 151, 'learns': 223, 'least': 1589, 'leave': 794, 'leaving': 354, 'led': 304, 'lee': 450, 'left': 1387, 'leg': 141, 'legend': 266, 'legendary': 191, 'length': 241, 'lesbian': 136, 'lesson': 343, 'let': 1692, 'letter': 165, 'letting': 112, 'level': 788, 'lewis': 169, 'lie': 423, 'life': 6824, 'lifebr': 146, 'lifetime': 145, 'light': 849, 'lighting': 206, 'likable': 296, 'like': 13219, 'liked': 1345, 'likely': 323, 'limit': 153, 'limited': 225, 'line': 2057, 'link': 119, 'lion': 144, 'lip': 114, 'lisa': 142, 'list': 360, 'listen': 246, 'listening': 153, 'literally': 326, 'little': 4791, 'live': 1271, 'lived': 315, 'living': 885, 'lloyd': 133, 'load': 128, 'local': 664, 'location': 519, 'locked': 98, 'logic': 111, 'london': 370, 'lonely': 187, 'long': 2372, 'longer': 374, 'look': 3995, 'looked': 524, 'looking': 1491, 'loose': 195, 'lord': 258, 'los': 126, 'lose': 266, 'loser': 90, 'loses': 168, 'losing': 196, 'loss': 257, 'lost': 1099, 'lot': 3805, 'loud': 241, 'louis': 243, 'lousy': 38, 'lovable': 164, 'love': 6714, 'loved': 1631, 'lovely': 436, 'lover': 553, 'loving': 282, 'low': 641, 'lowbudget': 137, 'lower': 103, 'luck': 189, 'lucky': 207, 'lucy': 131, 'ludicrous': 55, 'luke': 157, 'lying': 86, 'lynch': 182, 'machine': 281, 'mad': 347, 'made': 5248, 'madness': 147, 'magazine': 124, 'magic': 388, 'magical': 184, 'magnificent': 332, 'main': 1611, 'mainly': 317, 'mainstream': 162, 'major': 694, 'majority': 146, 'make': 8346, 'maker': 288, 'makeup': 208, 'making': 1615, 'male': 479, 'man': 4724, 'manage': 167, 'managed': 299, 'manager': 180, 'manages': 466, 'manner': 354, 'many': 5731, 'maria': 160, 'mark': 599, 'market': 150, 'marriage': 370, 'married': 494, 'marry': 189, 'martial': 216, 'martin': 290, 'marvelous': 180, 'mary': 374, 'mask': 157, 'mass': 161, 'massacre': 111, 'massive': 117, 'master': 553, 'masterpiece': 705, 'match': 571, 'mate': 107, 'material': 496, 'matrix': 109, 'matt': 191, 'matter': 1042, 'matthew': 125, 'mature': 178, 'max': 215, 'may': 2795, 'maybe': 1392, 'mean': 1376, 'meaning': 380, 'meaningful': 97, 'meant': 384, 'meanwhile': 205, 'mebr': 149, 'medical': 115, 'mediocre': 103, 'medium': 339, 'meet': 1169, 'meeting': 212, 'melodrama': 192, 'member': 677, 'memorable': 660, 'memory': 549, 'men': 1523, 'mental': 201, 'mentally': 115, 'mention': 547, 'mentioned': 370, 'mere': 123, 'merely': 226, 'merit': 120, 'mess': 143, 'message': 753, 'met': 239, 'metal': 125, 'method': 152, 'mexican': 138, 'mexico': 129, 'mgm': 158, 'michael': 1099, 'michelle': 155, 'mickey': 175, 'middle': 532, 'midnight': 151, 'might': 1813, 'mike': 227, 'mildly': 49, 'mile': 259, 'military': 270, 'miller': 156, 'million': 322, 'mind': 1573, 'mindless': 73, 'mine': 254, 'miniseries': 160, 'minor': 360, 'minute': 1524, 'mirror': 156, 'miss': 857, 'missed': 429, 'missing': 385, 'mission': 231, 'mistake': 323, 'mix': 323, 'mixed': 219, 'mob': 137, 'model': 208, 'modern': 770, 'mom': 256, 'moment': 2205, 'money': 1003, 'monkey': 126, 'monster': 503, 'month': 328, 'mood': 398, 'moon': 205, 'moore': 211, 'moral': 350, 'morgan': 199, 'morning': 218, 'mostly': 673, 'mother': 1455, 'motif': 112, 'motion': 267, 'motivation': 118, 'mountain': 228, 'mouse': 183, 'mouth': 185, 'move': 923, 'moved': 322, 'movement': 260, 'movie': 32444, 'moviebr': 516, 'moviesbr': 92, 'moving': 803, 'mr': 1421, 'much': 6766, 'multiple': 137, 'murder': 1136, 'murdered': 163, 'murderer': 164, 'murphy': 155, 'music': 2830, 'musical': 988, 'musician': 189, 'must': 2432, 'mysterious': 308, 'mystery': 645, 'nail': 105, 'naive': 158, 'naked': 228, 'name': 1248, 'named': 628, 'nancy': 174, 'narration': 148, 'narrative': 376, 'nasty': 220, 'nation': 188, 'national': 237, 'native': 188, 'natural': 433, 'naturally': 208, 'nature': 625, 'nazi': 257, 'near': 551, 'nearly': 572, 'necessarily': 147, 'necessary': 274, 'neck': 85, 'need': 1833, 'needed': 430, 'needle': 115, 'negative': 291, 'neighbor': 196, 'neither': 262, 'nelson': 95, 'network': 197, 'never': 4726, 'nevertheless': 240, 'new': 3415, 'news': 274, 'newspaper': 104, 'next': 1187, 'nice': 1560, 'nicely': 318, 'nick': 177, 'night': 1639, 'nightmare': 245, 'nine': 114, 'ninja': 72, 'nobody': 265, 'noir': 352, 'noise': 92, 'nominated': 236, 'nomination': 164, 'non': 92, 'none': 484, 'nonetheless': 166, 'nonexistent': 31, 'nonsense': 85, 'normal': 373, 'normally': 185, 'north': 208, 'nose': 93, 'notable': 141, 'note': 639, 'noted': 131, 'nothing': 1834, 'notice': 336, 'noticed': 208, 'notorious': 116, 'novel': 829, 'nowadays': 148, 'nowhere': 189, 'nuclear': 105, 'nude': 109, 'nudity': 263, 'number': 1043, 'numerous': 185, 'nurse': 177, 'object': 153, 'obnoxious': 50, 'obsessed': 156, 'obsession': 142, 'obvious': 570, 'obviously': 654, 'occasion': 133, 'occasional': 134, 'occasionally': 200, 'ocean': 137, 'odd': 425, 'oddly': 96, 'offensive': 84, 'offer': 585, 'offered': 133, 'offering': 128, 'office': 428, 'officer': 332, 'official': 149, 'often': 1380, 'oh': 525, 'ok': 398, 'okay': 305, 'old': 2966, 'older': 550, 'oliver': 168, 'onbr': 103, 'one': 20385, 'onebr': 142, 'onto': 221, 'open': 707, 'opened': 109, 'opening': 727, 'opera': 382, 'opinion': 825, 'opportunity': 346, 'opposite': 246, 'order': 788, 'ordinary': 252, 'original': 2023, 'originality': 86, 'originally': 254, 'oscar': 865, 'others': 1405, 'otherwise': 374, 'outbr': 142, 'outcome': 114, 'outer': 68, 'outfit': 99, 'outside': 450, 'outstanding': 478, 'overall': 1166, 'overcome': 144, 'overly': 158, 'overthetop': 138, 'owner': 288, 'pace': 470, 'paced': 185, 'pacing': 170, 'pack': 132, 'page': 297, 'paid': 147, 'pain': 323, 'painful': 136, 'painfully': 71, 'paint': 113, 'painting': 168, 'pair': 219, 'paper': 141, 'par': 87, 'parallel': 155, 'parent': 730, 'paris': 406, 'park': 407, 'parker': 201, 'parody': 185, 'part': 3943, 'particular': 599, 'particularly': 870, 'partner': 272, 'party': 506, 'pas': 234, 'passed': 152, 'passing': 134, 'passion': 358, 'past': 1029, 'pat': 114, 'path': 211, 'pathetic': 93, 'patient': 308, 'patrick': 192, 'paul': 703, 'pay': 432, 'paying': 95, 'peace': 171, 'people': 6512, 'perfect': 1740, 'perfectly': 727, 'perform': 150, 'performance': 4386, 'performed': 189, 'performer': 220, 'perhaps': 1240, 'period': 654, 'person': 1202, 'persona': 121, 'personal': 642, 'personality': 379, 'personally': 383, 'perspective': 272, 'pet': 127, 'peter': 748, 'philip': 162, 'phone': 212, 'photo': 122, 'photography': 365, 'physical': 263, 'physically': 107, 'piano': 125, 'pick': 448, 'picked': 223, 'picture': 1534, 'piece': 1236, 'pile': 52, 'pilot': 281, 'pitch': 111, 'pitt': 146, 'pity': 143, 'place': 2061, 'placed': 141, 'plain': 277, 'plan': 415, 'plane': 271, 'planet': 343, 'plant': 121, 'plastic': 62, 'play': 3803, 'played': 2318, 'player': 465, 'playing': 1226, 'pleasant': 224, 'please': 535, 'pleasure': 351, 'plenty': 506, 'plot': 3622, 'plus': 448, 'poignant': 186, 'point': 2349, 'pointless': 79, 'police': 776, 'political': 555, 'politics': 169, 'pool': 103, 'poor': 609, 'poorly': 95, 'pop': 291, 'popular': 473, 'porn': 147, 'portrait': 183, 'portray': 182, 'portrayal': 614, 'portrayed': 509, 'portraying': 199, 'portrays': 225, 'position': 184, 'positive': 279, 'posse': 124, 'possibility': 149, 'possible': 622, 'possibly': 397, 'post': 195, 'poster': 111, 'potential': 288, 'powell': 161, 'power': 977, 'powerful': 696, 'practically': 114, 'praise': 158, 'predator': 46, 'predictable': 341, 'prefer': 136, 'pregnant': 98, 'premise': 358, 'prepared': 152, 'presence': 333, 'present': 673, 'presentation': 122, 'presented': 315, 'president': 230, 'press': 100, 'pretend': 89, 'pretentious': 81, 'pretty': 2254, 'preview': 108, 'previous': 517, 'previously': 169, 'price': 272, 'priest': 176, 'prime': 171, 'prince': 256, 'princess': 167, 'principal': 121, 'print': 185, 'prior': 145, 'prison': 378, 'prisoner': 185, 'private': 229, 'probably': 1987, 'problem': 1372, 'process': 261, 'produce': 161, 'produced': 372, 'producer': 541, 'product': 174, 'production': 1270, 'prof': 296, 'professional': 278, 'professor': 155, 'profound': 137, 'program': 230, 'progress': 168, 'project': 345, 'promise': 205, 'promising': 83, 'proof': 92, 'prop': 83, 'propaganda': 132, 'proper': 152, 'properly': 104, 'prostitute': 90, 'protagonist': 298, 'protect': 144, 'proud': 172, 'prove': 203, 'proved': 191, 'provide': 264, 'provided': 201, 'provides': 359, 'psycho': 145, 'psychological': 252, 'public': 430, 'pull': 437, 'pulled': 177, 'pulp': 106, 'punch': 152, 'punk': 118, 'puppet': 106, 'pure': 462, 'purely': 110, 'purpose': 306, 'push': 164, 'put': 1959, 'putting': 238, 'quality': 978, 'queen': 314, 'quest': 148, 'question': 865, 'quick': 222, 'quickly': 433, 'quiet': 268, 'quirky': 167, 'quite': 3084, 'quote': 171, 'race': 340, 'rachel': 141, 'racism': 131, 'racist': 91, 'radio': 364, 'rain': 175, 'raise': 179, 'raised': 144, 'ralph': 148, 'ran': 161, 'random': 131, 'range': 247, 'ranger': 80, 'rank': 196, 'rape': 198, 'rare': 443, 'rarely': 267, 'rate': 411, 'rated': 235, 'rather': 1914, 'rating': 646, 'raw': 190, 'ray': 395, 'reach': 289, 'reaction': 301, 'read': 1318, 'reader': 104, 'reading': 441, 'ready': 247, 'real': 3630, 'realism': 248, 'realistic': 784, 'reality': 920, 'realize': 487, 'realized': 207, 'realizes': 182, 'really': 7964, 'reason': 1557, 'rebel': 119, 'recall': 221, 'received': 241, 'recent': 406, 'recently': 540, 'recognize': 197, 'recommend': 1524, 'recommended': 541, 'record': 306, 'red': 601, 'redeeming': 36, 'reference': 323, 'refreshing': 228, 'refuse': 181, 'regard': 180, 'regarding': 125, 'regardless': 115, 'regret': 182, 'regular': 247, 'relate': 266, 'related': 126, 'relation': 149, 'relationship': 1258, 'relative': 160, 'relatively': 167, 'release': 747, 'released': 866, 'relief': 172, 'religion': 171, 'religious': 222, 'remain': 204, 'remains': 385, 'remake': 359, 'remarkable': 351, 'remember': 1364, 'remembered': 235, 'remind': 123, 'reminded': 279, 'reminds': 280, 'reminiscent': 162, 'remote': 101, 'remotely': 31, 'rent': 400, 'rental': 95, 'rented': 143, 'renting': 63, 'repeat': 125, 'repeated': 135, 'replaced': 109, 'report': 114, 'reporter': 149, 'reputation': 144, 'required': 120, 'rescue': 175, 'research': 116, 'resident': 127, 'respect': 405, 'response': 131, 'responsible': 179, 'rest': 1048, 'restaurant': 124, 'result': 618, 'retarded': 57, 'return': 791, 'returning': 111, 'reveal': 164, 'revealed': 208, 'reveals': 182, 'revelation': 146, 'revenge': 279, 'review': 928, 'reviewer': 308, 'revolution': 152, 'revolves': 125, 'reynolds': 145, 'rich': 521, 'richard': 638, 'ride': 416, 'ridiculous': 269, 'riding': 127, 'right': 2517, 'ring': 394, 'rip': 98, 'ripoff': 47, 'ripped': 47, 'rise': 222, 'risk': 144, 'rival': 197, 'river': 274, 'road': 384, 'rob': 208, 'robert': 1064, 'robin': 248, 'robot': 185, 'rock': 725, 'roger': 156, 'role': 3700, 'roll': 236, 'rolling': 105, 'romance': 667, 'romantic': 801, 'ron': 101, 'room': 704, 'root': 131, 'rose': 258, 'rough': 160, 'round': 211, 'routine': 161, 'row': 90, 'roy': 207, 'rubbish': 53, 'ruin': 152, 'ruined': 88, 'rule': 334, 'run': 1096, 'running': 556, 'rush': 153, 'russell': 179, 'russian': 325, 'ryan': 290, 'sacrifice': 127, 'sad': 695, 'sadly': 290, 'safe': 149, 'said': 1407, 'sake': 99, 'sally': 120, 'sam': 292, 'san': 127, 'santa': 91, 'sarah': 156, 'sat': 132, 'satan': 72, 'satire': 212, 'satisfying': 199, 'saturday': 164, 'save': 490, 'saved': 128, 'saving': 135, 'saw': 2602, 'say': 4372, 'saying': 556, 'scale': 136, 'scare': 197, 'scarecrow': 25, 'scared': 201, 'scary': 480, 'scenario': 150, 'scene': 7280, 'scenery': 337, 'school': 1227, 'science': 334, 'scientist': 247, 'scifi': 395, 'score': 994, 'scott': 504, 'scream': 201, 'screaming': 94, 'screen': 1779, 'screening': 181, 'screenplay': 467, 'screenwriter': 108, 'script': 1395, 'sea': 294, 'seagal': 22, 'sean': 213, 'search': 295, 'searching': 126, 'season': 915, 'seat': 256, 'second': 1532, 'secret': 544, 'section': 167, 'security': 119, 'see': 9603, 'seeing': 1620, 'seek': 232, 'seeking': 141, 'seem': 1484, 'seemed': 764, 'seemingly': 276, 'seems': 2361, 'seen': 4978, 'segment': 320, 'self': 334, 'sell': 220, 'send': 144, 'sends': 108, 'sense': 1473, 'sensitive': 188, 'sent': 332, 'sentence': 85, 'separate': 147, 'sequel': 489, 'sequence': 1202, 'serf': 141, 'serial': 289, 'series': 2851, 'serious': 738, 'seriously': 500, 'serve': 133, 'served': 121, 'service': 208, 'set': 2365, 'setting': 645, 'setup': 84, 'seven': 250, 'several': 1167, 'sex': 965, 'sexual': 494, 'sexuality': 146, 'sexy': 345, 'shadow': 254, 'shake': 87, 'shakespeare': 289, 'shall': 118, 'shallow': 78, 'shame': 431, 'shape': 140, 'share': 428, 'shark': 74, 'sharp': 224, 'shed': 118, 'sheer': 193, 'sheriff': 155, 'shes': 949, 'shine': 269, 'ship': 296, 'shock': 267, 'shocked': 151, 'shocking': 239, 'shoe': 140, 'shoot': 293, 'shooting': 308, 'shop': 227, 'short': 1700, 'shot': 1876, 'shoulder': 120, 'shouldnt': 224, 'show': 6921, 'showed': 406, 'shower': 76, 'showing': 627, 'shown': 865, 'shut': 81, 'sick': 267, 'side': 1149, 'sidekick': 94, 'sidney': 149, 'sight': 288, 'sign': 224, 'significant': 138, 'silence': 143, 'silent': 426, 'silly': 449, 'silver': 119, 'similar': 670, 'similarity': 135, 'simon': 201, 'simple': 1005, 'simply': 1250, 'simpson': 83, 'sin': 116, 'sinatra': 219, 'since': 2243, 'sing': 207, 'singer': 296, 'singing': 412, 'single': 560, 'sings': 140, 'sinister': 145, 'sir': 198, 'sister': 938, 'sit': 371, 'sitcom': 174, 'site': 214, 'sitting': 268, 'situation': 984, 'six': 264, 'size': 85, 'skill': 317, 'skin': 130, 'skip': 108, 'sky': 238, 'slapstick': 176, 'slasher': 239, 'slave': 91, 'sleazy': 109, 'sleep': 191, 'sleeping': 101, 'slight': 127, 'slightly': 425, 'slow': 618, 'slowly': 353, 'small': 1329, 'smart': 341, 'smile': 296, 'smith': 371, 'smoke': 87, 'snake': 108, 'snow': 108, 'soap': 189, 'socalled': 73, 'social': 475, 'society': 671, 'soft': 158, 'sold': 115, 'soldier': 633, 'solid': 522, 'solve': 103, 'somebody': 122, 'somehow': 447, 'someone': 1289, 'something': 3145, 'sometimes': 1039, 'somewhat': 756, 'somewhere': 258, 'son': 1104, 'song': 1597, 'soon': 960, 'sorry': 274, 'sort': 1049, 'soul': 496, 'sound': 1362, 'sounded': 72, 'soundtrack': 749, 'source': 205, 'south': 419, 'southern': 152, 'soviet': 183, 'space': 519, 'spanish': 189, 'speak': 340, 'speaking': 242, 'speaks': 157, 'special': 1423, 'specific': 124, 'spectacular': 255, 'speech': 235, 'speed': 167, 'spell': 115, 'spend': 283, 'spending': 80, 'spends': 132, 'spent': 276, 'spin': 111, 'spirit': 518, 'spite': 156, 'split': 105, 'spoil': 201, 'spoiler': 469, 'spoken': 105, 'spoof': 133, 'sport': 292, 'spot': 353, 'spy': 208, 'st': 139, 'stage': 626, 'stand': 888, 'standard': 511, 'standing': 160, 'star': 2519, 'starred': 110, 'starring': 393, 'start': 1818, 'started': 574, 'starting': 233, 'state': 695, 'statement': 162, 'station': 310, 'status': 140, 'stay': 620, 'stayed': 115, 'steal': 394, 'stealing': 115, 'step': 378, 'stephen': 242, 'stereotype': 181, 'stereotypical': 97, 'steve': 284, 'steven': 125, 'stewart': 413, 'stick': 295, 'still': 4759, 'stock': 139, 'stolen': 119, 'stomach': 85, 'stone': 271, 'stood': 123, 'stooge': 132, 'stop': 738, 'stopped': 124, 'store': 347, 'storm': 135, 'story': 10243, 'storybr': 177, 'storyline': 519, 'storytelling': 172, 'straight': 459, 'strange': 689, 'strangely': 119, 'stranger': 257, 'street': 794, 'strength': 317, 'stretch': 104, 'strike': 189, 'string': 134, 'strip': 90, 'strong': 1080, 'strongly': 203, 'struck': 125, 'structure': 159, 'struggle': 440, 'struggling': 132, 'stuck': 223, 'student': 548, 'studio': 577, 'study': 277, 'stuff': 743, 'stunning': 440, 'stunt': 212, 'stupid': 426, 'stupidity': 43, 'style': 1296, 'stylish': 134, 'subject': 709, 'subplot': 114, 'subplots': 106, 'substance': 106, 'subtitle': 207, 'subtle': 488, 'subtlety': 120, 'succeeds': 161, 'success': 555, 'successful': 406, 'successfully': 121, 'suck': 91, 'sucked': 75, 'sudden': 161, 'suddenly': 314, 'suffer': 112, 'suffered': 107, 'suffering': 173, 'suffers': 114, 'suggest': 261, 'suggests': 120, 'suicide': 288, 'suit': 272, 'sum': 113, 'summary': 122, 'summer': 350, 'sun': 152, 'sunday': 155, 'super': 227, 'superb': 809, 'superior': 273, 'superman': 126, 'supernatural': 122, 'support': 378, 'supporting': 828, 'suppose': 195, 'supposed': 474, 'supposedly': 155, 'sure': 1848, 'surely': 245, 'surface': 198, 'surprise': 733, 'surprised': 685, 'surprising': 313, 'surprisingly': 455, 'surreal': 239, 'surrounding': 124, 'survive': 213, 'survivor': 100, 'susan': 160, 'suspect': 330, 'suspense': 534, 'suspenseful': 180, 'sutherland': 147, 'sweet': 567, 'switch': 85, 'sword': 135, 'sympathetic': 213, 'sympathy': 134, 'system': 331, 'table': 174, 'take': 4285, 'taken': 808, 'taking': 702, 'tale': 888, 'talent': 814, 'talented': 448, 'talk': 720, 'talking': 523, 'tape': 240, 'tarantino': 87, 'target': 165, 'tarzan': 150, 'task': 184, 'taste': 366, 'taylor': 244, 'teach': 170, 'teacher': 288, 'team': 734, 'tear': 417, 'technical': 210, 'technically': 118, 'technique': 264, 'technology': 165, 'ted': 191, 'tedious': 46, 'teen': 401, 'teenage': 243, 'teenager': 346, 'teeth': 97, 'television': 742, 'tell': 1908, 'telling': 465, 'ten': 584, 'tend': 190, 'tense': 167, 'tension': 422, 'term': 478, 'terrible': 323, 'terribly': 104, 'terrific': 507, 'territory': 128, 'terror': 182, 'terrorist': 137, 'test': 201, 'texas': 209, 'text': 92, 'thank': 333, 'thankfully': 146, 'thanks': 442, 'thatbr': 132, 'thats': 2157, 'theater': 684, 'theatre': 259, 'theatrical': 185, 'thembr': 198, 'theme': 1116, 'theory': 143, 'there': 1749, 'therebr': 92, 'therefore': 264, 'theyd': 82, 'theyre': 699, 'theyve': 145, 'thief': 195, 'thin': 135, 'thing': 5162, 'think': 5605, 'thinking': 630, 'third': 490, 'thirty': 117, 'thisbr': 120, 'thomas': 292, 'thoroughly': 318, 'though': 3355, 'thought': 2498, 'thousand': 199, 'threat': 115, 'three': 1785, 'thrill': 159, 'thriller': 741, 'thrilling': 136, 'throat': 85, 'throughout': 1075, 'throw': 341, 'throwing': 77, 'thrown': 220, 'thumb': 117, 'thus': 331, 'ticket': 110, 'tie': 141, 'tied': 101, 'tight': 150, 'till': 168, 'tim': 257, 'time': 11336, 'timebr': 269, 'timing': 163, 'tiny': 198, 'tired': 204, 'title': 1102, 'today': 1384, 'together': 1825, 'told': 877, 'tom': 639, 'tommy': 123, 'ton': 137, 'tone': 429, 'tony': 401, 'toobr': 114, 'took': 825, 'top': 1322, 'topic': 148, 'torn': 146, 'torture': 198, 'total': 292, 'totally': 856, 'touch': 626, 'touched': 185, 'touching': 515, 'tough': 333, 'tour': 148, 'toward': 215, 'towards': 509, 'town': 996, 'toy': 152, 'track': 375, 'tradition': 183, 'traditional': 234, 'tragedy': 375, 'tragic': 344, 'trail': 136, 'trailer': 290, 'train': 443, 'training': 166, 'trap': 148, 'trapped': 141, 'trash': 154, 'travel': 343, 'treasure': 170, 'treat': 388, 'treated': 180, 'treatment': 187, 'tree': 152, 'trek': 208, 'tremendous': 158, 'trial': 185, 'tribute': 148, 'trick': 227, 'tried': 390, 'trilogy': 184, 'trip': 427, 'trouble': 424, 'troubled': 150, 'truck': 113, 'true': 2074, 'truly': 1498, 'trust': 231, 'truth': 641, 'try': 1839, 'trying': 1436, 'tune': 233, 'turkey': 70, 'turn': 1960, 'turned': 584, 'turning': 209, 'tv': 2128, 'twenty': 186, 'twice': 277, 'twin': 142, 'twist': 801, 'twisted': 194, 'two': 5306, 'type': 972, 'typical': 641, 'typically': 107, 'ugly': 157, 'uk': 166, 'ultimate': 226, 'ultimately': 388, 'unable': 174, 'unbelievable': 148, 'uncle': 290, 'unconvincing': 28, 'underground': 132, 'underrated': 309, 'understand': 1233, 'understanding': 284, 'understood': 146, 'unexpected': 268, 'unforgettable': 181, 'unfortunate': 134, 'unfortunately': 629, 'unfunny': 26, 'uninspired': 19, 'uninteresting': 27, 'union': 173, 'unique': 675, 'united': 212, 'universal': 206, 'universe': 185, 'unknown': 234, 'unless': 197, 'unlike': 552, 'unlikely': 152, 'unnecessary': 111, 'unrealistic': 105, 'unusual': 314, 'upon': 689, 'upset': 111, 'urban': 193, 'us': 464, 'usa': 149, 'use': 1325, 'used': 1365, 'useless': 43, 'user': 114, 'using': 493, 'usual': 776, 'usually': 705, 'utter': 82, 'utterly': 210, 'vacation': 117, 'value': 637, 'vampire': 375, 'van': 297, 'variety': 180, 'various': 510, 'vega': 112, 'vehicle': 162, 'version': 1763, 'veteran': 241, 'vhs': 293, 'via': 141, 'victim': 476, 'victor': 205, 'victoria': 173, 'video': 1076, 'vietnam': 161, 'view': 970, 'viewed': 210, 'viewer': 1535, 'viewing': 792, 'village': 266, 'villain': 583, 'vincent': 134, 'violence': 776, 'violent': 412, 'virgin': 94, 'virtually': 132, 'vision': 297, 'visit': 279, 'visual': 490, 'visually': 233, 'visuals': 233, 'voice': 995, 'von': 183, 'vote': 199, 'wait': 460, 'waiting': 367, 'wake': 143, 'walk': 388, 'walked': 83, 'walker': 149, 'walking': 214, 'wall': 308, 'walter': 251, 'wanna': 77, 'want': 3406, 'wanted': 844, 'wanting': 268, 'war': 2395, 'ward': 140, 'warm': 212, 'warn': 55, 'warned': 71, 'warner': 190, 'warning': 189, 'warrior': 108, 'washington': 180, 'wasnt': 1233, 'waste': 140, 'wasted': 105, 'wasting': 19, 'watch': 5015, 'watchable': 122, 'watched': 1618, 'watching': 2857, 'water': 539, 'wave': 206, 'way': 6401, 'waybr': 137, 'wayne': 214, 'weak': 291, 'weakness': 139, 'wealthy': 139, 'weapon': 197, 'wear': 200, 'wearing': 168, 'wedding': 198, 'week': 515, 'weekend': 124, 'weird': 387, 'welcome': 174, 'well': 8433, 'wellbr': 215, 'welles': 209, 'went': 960, 'werent': 254, 'werewolf': 95, 'west': 402, 'western': 749, 'weve': 197, 'whatever': 392, 'whats': 505, 'whatsoever': 70, 'whenever': 185, 'whereas': 118, 'whether': 621, 'whilst': 210, 'white': 1005, 'who': 527, 'whoever': 89, 'whole': 1889, 'whose': 829, 'wide': 196, 'wife': 1702, 'wild': 355, 'william': 543, 'williams': 273, 'willing': 266, 'wilson': 188, 'win': 545, 'wind': 312, 'window': 231, 'wing': 145, 'winner': 224, 'winning': 258, 'winter': 200, 'wise': 211, 'wish': 859, 'wit': 206, 'witch': 202, 'within': 623, 'without': 2457, 'witness': 244, 'witty': 245, 'wolf': 158, 'woman': 3213, 'wonder': 706, 'wonderful': 2005, 'wonderfully': 388, 'wondering': 180, 'wont': 1001, 'wood': 322, 'wooden': 79, 'woody': 98, 'word': 1241, 'work': 4308, 'worked': 453, 'worker': 164, 'working': 633, 'world': 3483, 'worry': 114, 'worse': 329, 'worst': 319, 'worth': 1859, 'worthwhile': 120, 'worthy': 259, 'would': 7740, 'wouldnt': 578, 'wouldve': 90, 'wound': 89, 'wow': 184, 'write': 307, 'writer': 823, 'writerdirector': 120, 'writing': 734, 'written': 1009, 'wrong': 957, 'wrote': 329, 'wwii': 154, 'yeah': 201, 'year': 5377, 'yes': 1002, 'yet': 2251, 'york': 651, 'youd': 196, 'youll': 1028, 'young': 3320, 'younger': 426, 'youre': 1184, 'youth': 227, 'youve': 499, 'zero': 117, 'zombie': 360, 'zone': 111})} {0: -0.6931471805599453, 1: -0.6931471805599453} [0, 1]\n"
     ]
    }
   ],
   "source": [
    "print(n_label_items, vocab, word_counts, log_label_priors, labels)"
   ]
  },
  {
   "cell_type": "code",
   "execution_count": null,
   "id": "906fe3de",
   "metadata": {},
   "outputs": [],
   "source": []
  }
 ],
 "metadata": {
  "kernelspec": {
   "display_name": "Python 3 (ipykernel)",
   "language": "python",
   "name": "python3"
  },
  "language_info": {
   "codemirror_mode": {
    "name": "ipython",
    "version": 3
   },
   "file_extension": ".py",
   "mimetype": "text/x-python",
   "name": "python",
   "nbconvert_exporter": "python",
   "pygments_lexer": "ipython3",
   "version": "3.8.10"
  }
 },
 "nbformat": 4,
 "nbformat_minor": 5
}
